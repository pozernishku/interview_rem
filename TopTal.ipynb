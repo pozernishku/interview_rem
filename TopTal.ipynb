{
 "cells": [
  {
   "cell_type": "code",
   "execution_count": null,
   "metadata": {},
   "outputs": [],
   "source": [
    "'''A vending machine has the following denominations: 1c, 5c, 10c, 25c, 50c, and $1. \n",
    "Your task is to write a program that will be used in a vending machine to return change. \n",
    "Assume that the vending machine will always want to return the least number of coins or notes. \n",
    "Devise a function getChange(M, P) \n",
    "where M is how much money was inserted into the machine and P the price of the item selected, \n",
    "that returns an array of integers representing the number of each denomination to return. \n",
    "\n",
    "Example:\n",
    "getChange(5, 0.99) // should return [1,0,0,0,0,4]\n",
    "https://docs.python.org/3/tutorial/floatingpoint.html\n",
    "'''\n",
    "\n",
    "# Complete\n",
    "# https://docs.python.org/3/tutorial/floatingpoint.html\n",
    "def getChange(M, P):\n",
    "    a = [0, 0, 0, 0, 0, 0]\n",
    "    b = [100, 50, 25, 10, 5, 1]\n",
    "    M *= 100\n",
    "    P = round(P*100) # This is very important\n",
    "    r = M - P\n",
    "    \n",
    "    print(M, P, r)\n",
    "    for i, v in enumerate(b):\n",
    "        a[i] = r//v\n",
    "        r %= v\n",
    "        \n",
    "    return a[::-1]\n",
    "\n",
    "getChange(5, 3.15)\n",
    "\n",
    "\n",
    "# Some interesting examples\n",
    "4.1 * 100\n",
    "0.99 * 100\n",
    "round(4.1*100)\n",
    "format(4.1*100, '.0f')\n",
    "round(0.99 * 100)\n",
    "format(0.99 * 100, '.0f')"
   ]
  },
  {
   "cell_type": "code",
   "execution_count": null,
   "metadata": {
    "collapsed": true
   },
   "outputs": [],
   "source": []
  },
  {
   "cell_type": "code",
   "execution_count": null,
   "metadata": {},
   "outputs": [],
   "source": [
    "# Task for TopTal (second time)\n",
    "def domino(s):\n",
    "    tiles = s.split(',')\n",
    "    n = len(tiles)\n",
    "    \n",
    "    chains_len = []\n",
    "    \n",
    "    x = 1\n",
    "    \n",
    "    for i in range(n-1):\n",
    "        if tiles[i][2] == tiles[i+1][0]:\n",
    "            x += 1\n",
    "        else:\n",
    "            chains_len.append(x)\n",
    "            x = 1\n",
    "    else:\n",
    "        chains_len.append(x)\n",
    "            \n",
    "    return max(chains_len)\n",
    "    \n",
    "# domino(\"3-2,2-1,1-4,4-4,5-4,4-2,2-1\")\n",
    "# domino('1-1,3-5,5-2,2-3,2-4')\n",
    "# domino('6-3') # is it ok to show 1?\n",
    "# domino('4-3,5-1,2-2,1-3,4-4')\n",
    "# domino(\"1-1\") #// 1\n",
    "# domino(\"1-2,1-2\") #// 1\n",
    "# domino(\"3-2,2-1,1-4,4-4,5-4,4-2,2-1\") #// 4\n",
    "# domino(\"5-5,5-5,4-4,5-5,5-5,5-5,5-5,5-5,5-5,5-5\") #// 7\n",
    "# domino(\"1-1,3-5,5-5,5-4,4-2,1-3\") #// 4\n",
    "domino(\"1-2,2-2,3-3,3-4,4-5,1-1,1-2\") #// 3"
   ]
  }
 ],
 "metadata": {
  "kernelspec": {
   "display_name": "Python [conda env:scr]",
   "language": "python",
   "name": "conda-env-scr-py"
  },
  "language_info": {
   "codemirror_mode": {
    "name": "ipython",
    "version": 3
   },
   "file_extension": ".py",
   "mimetype": "text/x-python",
   "name": "python",
   "nbconvert_exporter": "python",
   "pygments_lexer": "ipython3",
   "version": "3.6.7"
  }
 },
 "nbformat": 4,
 "nbformat_minor": 2
}
