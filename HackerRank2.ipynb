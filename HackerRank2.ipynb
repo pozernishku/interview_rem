{
 "cells": [
  {
   "cell_type": "code",
   "execution_count": null,
   "metadata": {
    "collapsed": true
   },
   "outputs": [],
   "source": [
    "''''''"
   ]
  },
  {
   "cell_type": "code",
   "execution_count": null,
   "metadata": {
    "collapsed": true
   },
   "outputs": [],
   "source": []
  },
  {
   "cell_type": "code",
   "execution_count": null,
   "metadata": {
    "collapsed": true
   },
   "outputs": [],
   "source": []
  },
  {
   "cell_type": "code",
   "execution_count": null,
   "metadata": {
    "collapsed": true
   },
   "outputs": [],
   "source": []
  },
  {
   "cell_type": "code",
   "execution_count": 1,
   "metadata": {},
   "outputs": [
    {
     "data": {
      "text/plain": [
       "'Forming a Magic Square'"
      ]
     },
     "execution_count": 1,
     "metadata": {},
     "output_type": "execute_result"
    }
   ],
   "source": [
    "'''Forming a Magic Square'''"
   ]
  },
  {
   "cell_type": "code",
   "execution_count": 243,
   "metadata": {
    "collapsed": true
   },
   "outputs": [],
   "source": [
    "s = [[4, 5, 8],\n",
    "     [2, 4, 1],\n",
    "     [1, 9, 7]]  # expected 14"
   ]
  },
  {
   "cell_type": "code",
   "execution_count": 252,
   "metadata": {},
   "outputs": [],
   "source": [
    "def func(list_xy, list_correct):\n",
    "    cost = 0\n",
    "    for xy, corr in zip(list_xy, list_correct):\n",
    "        cost += abs(xy-corr)\n",
    "    return cost\n",
    "\n",
    "def formingMagicSquare(s):\n",
    "    list_xy = [s[0][0], s[0][1], s[0][2], s[1][2], s[2][2], s[2][1], s[2][0], s[1][0]]\n",
    "    list_1 = [2,9,4,3,8,1,6,7]\n",
    "    list_2 = [4,9,2,7,6,1,8,3]\n",
    "    \n",
    "    costs = []\n",
    "    \n",
    "    for _ in range(4):\n",
    "        costs.append( func(list_xy, list_1) + abs(s[1][1]-5) )\n",
    "        x = list_1.pop()\n",
    "        y = list_1.pop()\n",
    "        \n",
    "        list_1.insert(0, x)\n",
    "        list_1.insert(0, y)\n",
    "        \n",
    "    for _ in range(4):\n",
    "        costs.append( func(list_xy, list_2) + abs(s[1][1]-5) )\n",
    "        x = list_2.pop()\n",
    "        y = list_2.pop()\n",
    "        \n",
    "        list_2.insert(0, x)\n",
    "        list_2.insert(0, y)\n",
    "        \n",
    "    return min(costs)"
   ]
  },
  {
   "cell_type": "code",
   "execution_count": 253,
   "metadata": {},
   "outputs": [
    {
     "data": {
      "text/plain": [
       "14"
      ]
     },
     "execution_count": 253,
     "metadata": {},
     "output_type": "execute_result"
    }
   ],
   "source": [
    "formingMagicSquare(s)"
   ]
  },
  {
   "cell_type": "code",
   "execution_count": null,
   "metadata": {
    "collapsed": true
   },
   "outputs": [],
   "source": []
  },
  {
   "cell_type": "code",
   "execution_count": null,
   "metadata": {
    "scrolled": false
   },
   "outputs": [],
   "source": [
    "'''New Year Chaos'''"
   ]
  },
  {
   "cell_type": "code",
   "execution_count": null,
   "metadata": {
    "scrolled": true
   },
   "outputs": [],
   "source": [
    "qs = [2, 1, 5, 3, 4]\n",
    "n = len(qs)\n",
    "def minimumBribes(q, n):\n",
    "    x, y = 0, 0\n",
    "    for i in range(n-1, 0, -1):\n",
    "        for j in range(i):\n",
    "            if q[j] > q[j+1]:\n",
    "                q[j], q[j+1] = q[j+1], q[j]\n",
    "                x += 1\n",
    "                if y >= 2: \n",
    "                    print('Too chaotic')\n",
    "                    return \n",
    "                y += 1\n",
    "            else:\n",
    "                y = 0\n",
    "    print(x)\n",
    "minimumBribes(qs, n)"
   ]
  },
  {
   "cell_type": "code",
   "execution_count": null,
   "metadata": {
    "collapsed": true
   },
   "outputs": [],
   "source": []
  },
  {
   "cell_type": "code",
   "execution_count": null,
   "metadata": {
    "collapsed": true
   },
   "outputs": [],
   "source": [
    "q = [5, 1, 2, 3, 7, 8, 6, 4] # [1, 2, 5, 3, 7, 8, 6, 4]  # [5, 1, 2, 3, 7, 8, 6, 4]\n",
    "n = len(q)"
   ]
  },
  {
   "cell_type": "code",
   "execution_count": null,
   "metadata": {
    "collapsed": true
   },
   "outputs": [],
   "source": [
    "def minimumBribes(q, n):\n",
    "    bribes = 0\n",
    "    for i in range(n-1, -1, -1): # changed from -1 to 0\n",
    "        if q[i] - (i + 1) > 2:\n",
    "            print('Too chaotic')\n",
    "            return\n",
    "#         for j in range(max(0, q[i] - 2), i):\n",
    "        for j in tuple(r for r in range(2, i)) if n-1 == i else (i-2, i-1) if i > 1 else (0,):\n",
    "            if q[j] > q[i]:\n",
    "                bribes+=1\n",
    "            print(q, f'i={i} j={j}', bribes)\n",
    "    print(bribes)"
   ]
  },
  {
   "cell_type": "code",
   "execution_count": null,
   "metadata": {
    "scrolled": true
   },
   "outputs": [],
   "source": [
    "minimumBribes(q, n)"
   ]
  },
  {
   "cell_type": "code",
   "execution_count": null,
   "metadata": {
    "collapsed": true
   },
   "outputs": [],
   "source": [
    "t = int(raw_input())\n",
    "\n",
    "for _ in range(t):\n",
    "    n = int(raw_input())\n",
    "    arr = map(int, raw_input().split())\n",
    "    org = range(n+1)\n",
    "    pos = range(n+1)\n",
    "    cnt = [0]*(n + 1)\n",
    "    ans = 0\n",
    "    invalid = 0\n",
    "    \n",
    "    for i in xrange(n - 1, -1, -1):\n",
    "            if invalid:\n",
    "                break\n",
    "            oldp = pos[arr[i]]\n",
    "            newp = i + 1\n",
    "            while oldp != newp:\n",
    "                ans = ans + 1\n",
    "                cnt[org[oldp + 1]] += 1\n",
    "                \n",
    "                if cnt[org[oldp + 1]] > 2:\n",
    "                    invalid = 1\n",
    "                    break\n",
    "                    \n",
    "                org[oldp], org[oldp+1] = org[oldp+1], org[oldp]\n",
    "                \n",
    "                pos[org[oldp]] = oldp\n",
    "                pos[org[oldp + 1]] = oldp + 1\n",
    "                \n",
    "                oldp = oldp + 1\n",
    "                \n",
    "    if invalid:\n",
    "        ans = \"Too chaotic\"\n",
    "        \n",
    "    print ans"
   ]
  },
  {
   "cell_type": "code",
   "execution_count": null,
   "metadata": {
    "collapsed": true
   },
   "outputs": [],
   "source": [
    "i, n = 7, 8"
   ]
  },
  {
   "cell_type": "code",
   "execution_count": null,
   "metadata": {
    "collapsed": true
   },
   "outputs": [],
   "source": [
    "tuple(r for r in range(2, i)) if n-1 == i else (i-2, i-1) if i > 1 else (0,)"
   ]
  },
  {
   "cell_type": "code",
   "execution_count": null,
   "metadata": {
    "collapsed": true
   },
   "outputs": [],
   "source": [
    "#         for j in range(max(0, q[i] - 2), i):"
   ]
  },
  {
   "cell_type": "code",
   "execution_count": null,
   "metadata": {
    "collapsed": true
   },
   "outputs": [],
   "source": []
  },
  {
   "cell_type": "code",
   "execution_count": null,
   "metadata": {
    "collapsed": true
   },
   "outputs": [],
   "source": [
    "def minimumBribes(q, n):\n",
    "    res, pos = n, {1,2}\n",
    "    for i in range(n):\n",
    "        pos |= {i+3}\n",
    "        if q[i] in pos:\n",
    "            if q[i] == min(pos): \n",
    "                res -= 1\n",
    "            if q[i] == max(pos): \n",
    "                res += 1\n",
    "            pos -= {q[i]}\n",
    "        else:\n",
    "            print('Too chaotic')\n",
    "            break\n",
    "    else:\n",
    "        print(res)"
   ]
  },
  {
   "cell_type": "code",
   "execution_count": null,
   "metadata": {},
   "outputs": [],
   "source": [
    "minimumBribes(q, n)"
   ]
  }
 ],
 "metadata": {
  "kernelspec": {
   "display_name": "Python [conda env:scr]",
   "language": "python",
   "name": "conda-env-scr-py"
  },
  "language_info": {
   "codemirror_mode": {
    "name": "ipython",
    "version": 3
   },
   "file_extension": ".py",
   "mimetype": "text/x-python",
   "name": "python",
   "nbconvert_exporter": "python",
   "pygments_lexer": "ipython3",
   "version": "3.6.2"
  }
 },
 "nbformat": 4,
 "nbformat_minor": 2
}
