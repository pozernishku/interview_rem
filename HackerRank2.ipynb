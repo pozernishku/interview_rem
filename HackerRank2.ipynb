{
 "cells": [
  {
   "cell_type": "code",
   "execution_count": 1,
   "metadata": {},
   "outputs": [
    {
     "data": {
      "text/plain": [
       "'Absolute Permutation'"
      ]
     },
     "execution_count": 1,
     "metadata": {},
     "output_type": "execute_result"
    }
   ],
   "source": [
    "'''Absolute Permutation'''"
   ]
  },
  {
   "cell_type": "code",
   "execution_count": 102,
   "metadata": {},
   "outputs": [],
   "source": [
    "def absolutePermutation(n, k):\n",
    "    if k == 0:\n",
    "        return [i for i in range(1, n+1)]\n",
    "    elif n/k%2 == 0:\n",
    "        x = [i for i in range(1,n+1,k)]\n",
    "        y = [[x[j]+k]*k if j%2==0 else [x[j]-k]*k for j in range(len(x))]\n",
    "        h = [j for i in y for j in i]\n",
    "        z = [i for i in range(k)]*(n//k)\n",
    "        return [i+j for i,j in zip(h,z)]\n",
    "    else:\n",
    "        return [-1]"
   ]
  },
  {
   "cell_type": "code",
   "execution_count": 109,
   "metadata": {},
   "outputs": [],
   "source": [
    "n = 10\n",
    "k = 0"
   ]
  },
  {
   "cell_type": "code",
   "execution_count": 110,
   "metadata": {},
   "outputs": [
    {
     "data": {
      "text/plain": [
       "[1, 2, 3, 4, 5, 6, 7, 8, 9, 10]"
      ]
     },
     "execution_count": 110,
     "metadata": {},
     "output_type": "execute_result"
    }
   ],
   "source": [
    "absolutePermutation(n, k)"
   ]
  },
  {
   "cell_type": "code",
   "execution_count": 92,
   "metadata": {},
   "outputs": [
    {
     "data": {
      "text/plain": [
       "[1, 2, 3, 4, 5, 6, 7, 8]"
      ]
     },
     "execution_count": 92,
     "metadata": {},
     "output_type": "execute_result"
    }
   ],
   "source": [
    "[i for i in range(1,n+1)]"
   ]
  },
  {
   "cell_type": "code",
   "execution_count": null,
   "metadata": {},
   "outputs": [],
   "source": [
    "1 2 3 4 5 6 7 8\n",
    "3 4 1 2 7 8 5 6\n",
    "2 2 2 2 2 2 2 2\n",
    "\n",
    "1 2 3 4 5 6 7  8  9  10 11 12\n",
    "4 5 6 1 2 3 10 11 12 7  8  9\n",
    "3 3 3 3 3 3 3  3  3  3  3  3"
   ]
  },
  {
   "cell_type": "code",
   "execution_count": 93,
   "metadata": {},
   "outputs": [],
   "source": [
    "x = [i for i in range(1,n+1,k)]"
   ]
  },
  {
   "cell_type": "code",
   "execution_count": 94,
   "metadata": {},
   "outputs": [
    {
     "data": {
      "text/plain": [
       "[1, 3, 5, 7]"
      ]
     },
     "execution_count": 94,
     "metadata": {},
     "output_type": "execute_result"
    }
   ],
   "source": [
    "x"
   ]
  },
  {
   "cell_type": "code",
   "execution_count": 95,
   "metadata": {},
   "outputs": [],
   "source": [
    "y = [[x[j]+k]*k if j%2==0 else [x[j]-k]*k for j in range(len(x))]"
   ]
  },
  {
   "cell_type": "code",
   "execution_count": 96,
   "metadata": {},
   "outputs": [
    {
     "data": {
      "text/plain": [
       "[[3, 3], [1, 1], [7, 7], [5, 5]]"
      ]
     },
     "execution_count": 96,
     "metadata": {},
     "output_type": "execute_result"
    }
   ],
   "source": [
    "y"
   ]
  },
  {
   "cell_type": "code",
   "execution_count": 97,
   "metadata": {},
   "outputs": [],
   "source": [
    "h = [j for i in y for j in i]"
   ]
  },
  {
   "cell_type": "code",
   "execution_count": 98,
   "metadata": {},
   "outputs": [
    {
     "data": {
      "text/plain": [
       "[3, 3, 1, 1, 7, 7, 5, 5]"
      ]
     },
     "execution_count": 98,
     "metadata": {},
     "output_type": "execute_result"
    }
   ],
   "source": [
    "h"
   ]
  },
  {
   "cell_type": "code",
   "execution_count": 99,
   "metadata": {},
   "outputs": [],
   "source": [
    "z = [i for i in range(k)]*(n//k)"
   ]
  },
  {
   "cell_type": "code",
   "execution_count": 100,
   "metadata": {},
   "outputs": [
    {
     "data": {
      "text/plain": [
       "[0, 1, 0, 1, 0, 1, 0, 1]"
      ]
     },
     "execution_count": 100,
     "metadata": {},
     "output_type": "execute_result"
    }
   ],
   "source": [
    "z"
   ]
  },
  {
   "cell_type": "code",
   "execution_count": 101,
   "metadata": {},
   "outputs": [
    {
     "data": {
      "text/plain": [
       "[3, 4, 1, 2, 7, 8, 5, 6]"
      ]
     },
     "execution_count": 101,
     "metadata": {},
     "output_type": "execute_result"
    }
   ],
   "source": [
    "[i+j for i,j in zip(h,z)]"
   ]
  },
  {
   "cell_type": "code",
   "execution_count": null,
   "metadata": {},
   "outputs": [],
   "source": []
  },
  {
   "cell_type": "code",
   "execution_count": null,
   "metadata": {},
   "outputs": [],
   "source": []
  },
  {
   "cell_type": "code",
   "execution_count": null,
   "metadata": {},
   "outputs": [],
   "source": []
  },
  {
   "cell_type": "code",
   "execution_count": null,
   "metadata": {},
   "outputs": [],
   "source": []
  },
  {
   "cell_type": "code",
   "execution_count": null,
   "metadata": {},
   "outputs": [],
   "source": []
  },
  {
   "cell_type": "code",
   "execution_count": null,
   "metadata": {},
   "outputs": [],
   "source": []
  },
  {
   "cell_type": "code",
   "execution_count": null,
   "metadata": {},
   "outputs": [],
   "source": []
  },
  {
   "cell_type": "code",
   "execution_count": null,
   "metadata": {},
   "outputs": [],
   "source": [
    "def absolutePermutation(n, k):\n",
    "    if k == 0:\n",
    "        return [i for i in range(1, n+1)]\n",
    "    elif k == 1 and n%2 == 0:\n",
    "        return [i-1 if i%2==0 else i+1 for i in range(1,n+1)]\n",
    "    elif n%k == 0 and k == n//2:\n",
    "        return [i for i in range(n//2+1,n+1)] + [i for i in range(1,n//2+1)]\n",
    "    else:\n",
    "        return [-1]"
   ]
  },
  {
   "cell_type": "code",
   "execution_count": null,
   "metadata": {},
   "outputs": [],
   "source": []
  },
  {
   "cell_type": "code",
   "execution_count": null,
   "metadata": {},
   "outputs": [],
   "source": []
  },
  {
   "cell_type": "code",
   "execution_count": null,
   "metadata": {},
   "outputs": [],
   "source": []
  },
  {
   "cell_type": "code",
   "execution_count": null,
   "metadata": {},
   "outputs": [],
   "source": []
  },
  {
   "cell_type": "code",
   "execution_count": null,
   "metadata": {},
   "outputs": [],
   "source": []
  },
  {
   "cell_type": "code",
   "execution_count": null,
   "metadata": {},
   "outputs": [],
   "source": []
  },
  {
   "cell_type": "code",
   "execution_count": null,
   "metadata": {},
   "outputs": [],
   "source": []
  },
  {
   "cell_type": "code",
   "execution_count": null,
   "metadata": {},
   "outputs": [],
   "source": [
    "'''Organizing Containers of Balls'''"
   ]
  },
  {
   "cell_type": "code",
   "execution_count": null,
   "metadata": {},
   "outputs": [],
   "source": [
    "c = [[997612619, 934920795, 998879231, 999926463],\n",
    "     [960369681, 997828120, 999792735, 979622676],\n",
    "     [999013654, 998634077, 997988323, 958769423],\n",
    "     [997409523, 999301350, 940952923, 993020546]]\n",
    "n = len(c)"
   ]
  },
  {
   "cell_type": "code",
   "execution_count": null,
   "metadata": {},
   "outputs": [],
   "source": [
    "def organizingContainers(c, n):\n",
    "    h, v = [], [0 for x in range(n)]\n",
    "    for i in range(n):\n",
    "        h.append(sum(c[i]))\n",
    "    for e in c:\n",
    "        for j in range(n):\n",
    "            v[j] += e[j]\n",
    "        \n",
    "    return 'Possible' if set(h) == set(v) else 'Impossible'"
   ]
  },
  {
   "cell_type": "code",
   "execution_count": null,
   "metadata": {},
   "outputs": [],
   "source": [
    "organizingContainers(c, n)"
   ]
  },
  {
   "cell_type": "code",
   "execution_count": null,
   "metadata": {},
   "outputs": [],
   "source": [
    "c = [[0, 2],\n",
    "     [1, 1]]"
   ]
  },
  {
   "cell_type": "code",
   "execution_count": null,
   "metadata": {},
   "outputs": [],
   "source": [
    "c = [[1, 1],\n",
    "     [1, 1]]"
   ]
  },
  {
   "cell_type": "code",
   "execution_count": null,
   "metadata": {},
   "outputs": [],
   "source": [
    "c = [[0, 2, 1],\n",
    "     [1, 1, 1],\n",
    "     [2, 0, 0]]"
   ]
  },
  {
   "cell_type": "code",
   "execution_count": null,
   "metadata": {},
   "outputs": [],
   "source": [
    "c = [[997612619, 934920795, 998879231, 999926463],\n",
    "     [960369681, 997828120, 999792735, 979622676],\n",
    "     [999013654, 998634077, 997988323, 958769423],\n",
    "     [997409523, 999301350, 940952923, 993020546]]"
   ]
  },
  {
   "cell_type": "code",
   "execution_count": null,
   "metadata": {},
   "outputs": [],
   "source": [
    "n = set([3931339108, 3937613212, 3954405477, 3930684342])"
   ]
  },
  {
   "cell_type": "code",
   "execution_count": null,
   "metadata": {},
   "outputs": [],
   "source": [
    "m = set([3954405477, 3930684342, 3937613212, 3931339108])"
   ]
  },
  {
   "cell_type": "code",
   "execution_count": null,
   "metadata": {},
   "outputs": [],
   "source": [
    "n == m"
   ]
  },
  {
   "cell_type": "code",
   "execution_count": null,
   "metadata": {},
   "outputs": [],
   "source": []
  },
  {
   "cell_type": "code",
   "execution_count": null,
   "metadata": {},
   "outputs": [],
   "source": [
    "The program needs to transform the left 'language' format - to the 'right format.\n",
    "\n",
    "langauge (left side):\n",
    "==========\n",
    "numbers (1,2,3,4,5,6,7,8,9,0)\n",
    "Actions (+/-*)\n",
    "Argument: number | (<argument> <action> <argument>)\n",
    "\n",
    "Language (right side):\n",
    "========================\n",
    "numbers (1,2,3,4,5,6,7,8,9,0)\n",
    "Actions (+/-*)\n",
    "Argument: number | (<argument> <argument> <action>)\n",
    "\n",
    "Some Examples\n",
    "===============================\n",
    "(1+3) --> (13+)\n",
    "((1*3)+4) --> ((13*)4+)\n",
    "((1/2)+(2/3)) --> ((12/)(23/)+)\n",
    "(5-7) --> (57-)\n",
    "(5+(23)) --> (5(23)+)\n",
    "(((1/2)+(2/3))+((1/2)+(2/3))) --> (((12/)(23/)+)((12/)(23/)+)+)\n",
    "((((1/(23))+((2)/3))+((1/2)+(2/3))) / ((((1)/(2) )+(2/3))+((1/2)+(2/3)))  )  --> ((((1(23)/)((2)3/)+)((12/)(23/)+)+)((((1)(2)/)(23/)+)((12/)(23/)+)+)/)"
   ]
  },
  {
   "cell_type": "code",
   "execution_count": null,
   "metadata": {},
   "outputs": [],
   "source": [
    "def to_right(a=''):\n",
    "    '''Transform the left language format to the right format'''\n",
    "    \n",
    "    #Prepare input. Add spaces after parentheses ')' --> ') '\n",
    "    a = a.replace(' ', '')\n",
    "    a = list(a.replace(')', ') '))\n",
    "    \n",
    "    #Walk through list with conditions\n",
    "    #These spaces will be filled in with signs\n",
    "    digits, signs, lst = '0123456789', '+/-*', []\n",
    "    for i in range(len(a)-1):\n",
    "        if a[i] in signs and a[i+1] in digits:\n",
    "            a[i], a[i+1] = a[i+1], a[i]\n",
    "        elif a[i] in signs and a[i+1] == '(':\n",
    "            lst.append(a[i])\n",
    "            a[i] = ''\n",
    "        elif a[i] == ' ' and a[i+1] in signs:\n",
    "            a[i] = ''\n",
    "        elif a[i] == ' ' and a[i+1] not in signs:\n",
    "            a[i] = lst.pop()\n",
    "    return ''.join(a).strip()\n",
    "\n",
    "if __name__ == '__main__':\n",
    "    result = to_right('(5+(23))')\n",
    "    print(result)"
   ]
  },
  {
   "cell_type": "code",
   "execution_count": null,
   "metadata": {},
   "outputs": [],
   "source": [
    "'''Cats and a Mouse'''"
   ]
  },
  {
   "cell_type": "code",
   "execution_count": null,
   "metadata": {},
   "outputs": [],
   "source": [
    "x, y, z = 1, 3, 2"
   ]
  },
  {
   "cell_type": "code",
   "execution_count": null,
   "metadata": {},
   "outputs": [],
   "source": [
    "def catAndMouse(x, y, z):\n",
    "    if abs(z - x) < abs(z - y):\n",
    "        return 'Cat A'\n",
    "    elif abs(z - x) > abs(z - y):\n",
    "        return 'Cat B'\n",
    "    else: \n",
    "        return 'Mouse C'"
   ]
  },
  {
   "cell_type": "code",
   "execution_count": null,
   "metadata": {},
   "outputs": [],
   "source": [
    "catAndMouse(x, y, z)"
   ]
  },
  {
   "cell_type": "code",
   "execution_count": null,
   "metadata": {},
   "outputs": [],
   "source": [
    "'''Find Digits'''"
   ]
  },
  {
   "cell_type": "code",
   "execution_count": null,
   "metadata": {},
   "outputs": [],
   "source": [
    "def findDigits(n):\n",
    "    result, n = 0, str(n)\n",
    "    for d in n:\n",
    "        if d == '0':\n",
    "            continue\n",
    "        elif int(n) % int(d) == 0:\n",
    "            result += 1\n",
    "    return result"
   ]
  },
  {
   "cell_type": "code",
   "execution_count": null,
   "metadata": {},
   "outputs": [],
   "source": [
    "findDigits(1012)"
   ]
  },
  {
   "cell_type": "code",
   "execution_count": null,
   "metadata": {},
   "outputs": [],
   "source": [
    "'''Grading Students'''"
   ]
  },
  {
   "cell_type": "code",
   "execution_count": null,
   "metadata": {},
   "outputs": [],
   "source": [
    "a = [73, 67, 38, 33]\n",
    "n = len(a)"
   ]
  },
  {
   "cell_type": "code",
   "execution_count": null,
   "metadata": {},
   "outputs": [],
   "source": [
    "def gradingStudents(a):\n",
    "    return [x if x < 38 else x+2 if x - (x // 5 * 5) == 3 else x + 1 if x - (x // 5 * 5) == 4 else x for x in a]"
   ]
  },
  {
   "cell_type": "code",
   "execution_count": null,
   "metadata": {},
   "outputs": [],
   "source": [
    "gradingStudents(a)"
   ]
  },
  {
   "cell_type": "code",
   "execution_count": null,
   "metadata": {},
   "outputs": [],
   "source": [
    "'''Strange Counter'''"
   ]
  },
  {
   "cell_type": "code",
   "execution_count": null,
   "metadata": {},
   "outputs": [],
   "source": [
    "def strangeCounter(t):\n",
    "    m, = [3*2**i-2 for i in range(45) if t >= 3*2**i-2 and t < 3*2**(i+1)-2]\n",
    "    return (m + 2) - (t - m)"
   ]
  },
  {
   "cell_type": "code",
   "execution_count": null,
   "metadata": {},
   "outputs": [],
   "source": [
    "strangeCounter(3)"
   ]
  },
  {
   "cell_type": "code",
   "execution_count": null,
   "metadata": {},
   "outputs": [],
   "source": [
    "'''Migratory Birds'''"
   ]
  },
  {
   "cell_type": "code",
   "execution_count": null,
   "metadata": {},
   "outputs": [],
   "source": [
    "# arr = [1, 2, 3, 4, 5, 4, 3, 2, 1, 3, 4]\n",
    "arr = [1, 4, 4, 4, 5, 3]\n",
    "arr_count = len(arr)"
   ]
  },
  {
   "cell_type": "code",
   "execution_count": null,
   "metadata": {},
   "outputs": [],
   "source": [
    "def migratoryBirds(arr, arr_count):\n",
    "    d = {}\n",
    "    for e in arr:\n",
    "        if e in d:\n",
    "            d[e] += 1\n",
    "        else:\n",
    "            d.setdefault(e, 1)\n",
    "    return sorted(d.keys(), key=d.get, reverse=True)[0]\n",
    "#     return sorted(d.items(), key=lambda x: x[1], reverse=True)[0][0]"
   ]
  },
  {
   "cell_type": "code",
   "execution_count": null,
   "metadata": {},
   "outputs": [],
   "source": [
    "migratoryBirds(arr, arr_count)"
   ]
  },
  {
   "cell_type": "markdown",
   "metadata": {},
   "source": [
    "https://docs.python.org/3/howto/sorting.html"
   ]
  },
  {
   "cell_type": "code",
   "execution_count": null,
   "metadata": {},
   "outputs": [],
   "source": [
    "'''Forming a Magic Square'''"
   ]
  },
  {
   "cell_type": "code",
   "execution_count": null,
   "metadata": {},
   "outputs": [],
   "source": [
    "s = [[4, 5, 8],\n",
    "     [2, 4, 1],\n",
    "     [1, 9, 7]]  # expected 14"
   ]
  },
  {
   "cell_type": "code",
   "execution_count": null,
   "metadata": {},
   "outputs": [],
   "source": [
    "def func(list_xy, list_correct):\n",
    "    cost = 0\n",
    "    for xy, corr in zip(list_xy, list_correct):\n",
    "        cost += abs(xy-corr)\n",
    "    return cost\n",
    "\n",
    "def formingMagicSquare(s):\n",
    "    list_xy = [s[0][0], s[0][1], s[0][2], s[1][2], s[2][2], s[2][1], s[2][0], s[1][0]]\n",
    "    list_1 = [2,9,4,3,8,1,6,7]\n",
    "    list_2 = [4,9,2,7,6,1,8,3]\n",
    "    \n",
    "    costs = []\n",
    "    \n",
    "    for _ in range(4):\n",
    "        costs.append( func(list_xy, list_1) + abs(s[1][1]-5) )\n",
    "        x = list_1.pop()\n",
    "        y = list_1.pop()\n",
    "        \n",
    "        list_1.insert(0, x)\n",
    "        list_1.insert(0, y)\n",
    "        \n",
    "    for _ in range(4):\n",
    "        costs.append( func(list_xy, list_2) + abs(s[1][1]-5) )\n",
    "        x = list_2.pop()\n",
    "        y = list_2.pop()\n",
    "        \n",
    "        list_2.insert(0, x)\n",
    "        list_2.insert(0, y)\n",
    "        \n",
    "    return min(costs)"
   ]
  },
  {
   "cell_type": "code",
   "execution_count": null,
   "metadata": {},
   "outputs": [],
   "source": [
    "formingMagicSquare(s)"
   ]
  },
  {
   "cell_type": "code",
   "execution_count": null,
   "metadata": {},
   "outputs": [],
   "source": []
  },
  {
   "cell_type": "code",
   "execution_count": null,
   "metadata": {
    "scrolled": false
   },
   "outputs": [],
   "source": [
    "'''New Year Chaos'''"
   ]
  },
  {
   "cell_type": "code",
   "execution_count": null,
   "metadata": {
    "scrolled": true
   },
   "outputs": [],
   "source": [
    "qs = [2, 1, 5, 3, 4]\n",
    "n = len(qs)\n",
    "def minimumBribes(q, n):\n",
    "    x, y = 0, 0\n",
    "    for i in range(n-1, 0, -1):\n",
    "        for j in range(i):\n",
    "            if q[j] > q[j+1]:\n",
    "                q[j], q[j+1] = q[j+1], q[j]\n",
    "                x += 1\n",
    "                if y >= 2: \n",
    "                    print('Too chaotic')\n",
    "                    return \n",
    "                y += 1\n",
    "            else:\n",
    "                y = 0\n",
    "    print(x)\n",
    "minimumBribes(qs, n)"
   ]
  },
  {
   "cell_type": "code",
   "execution_count": null,
   "metadata": {},
   "outputs": [],
   "source": []
  },
  {
   "cell_type": "code",
   "execution_count": null,
   "metadata": {},
   "outputs": [],
   "source": [
    "q = [5, 1, 2, 3, 7, 8, 6, 4] # [1, 2, 5, 3, 7, 8, 6, 4]  # [5, 1, 2, 3, 7, 8, 6, 4]\n",
    "n = len(q)"
   ]
  },
  {
   "cell_type": "code",
   "execution_count": null,
   "metadata": {},
   "outputs": [],
   "source": [
    "def minimumBribes(q, n):\n",
    "    bribes = 0\n",
    "    for i in range(n-1, -1, -1): # changed from -1 to 0\n",
    "        if q[i] - (i + 1) > 2:\n",
    "            print('Too chaotic')\n",
    "            return\n",
    "#         for j in range(max(0, q[i] - 2), i):\n",
    "        for j in tuple(r for r in range(2, i)) if n-1 == i else (i-2, i-1) if i > 1 else (0,):\n",
    "            if q[j] > q[i]:\n",
    "                bribes+=1\n",
    "            print(q, f'i={i} j={j}', bribes)\n",
    "    print(bribes)"
   ]
  },
  {
   "cell_type": "code",
   "execution_count": null,
   "metadata": {
    "scrolled": true
   },
   "outputs": [],
   "source": [
    "minimumBribes(q, n)"
   ]
  },
  {
   "cell_type": "code",
   "execution_count": null,
   "metadata": {},
   "outputs": [],
   "source": [
    "t = int(raw_input())\n",
    "\n",
    "for _ in range(t):\n",
    "    n = int(raw_input())\n",
    "    arr = map(int, raw_input().split())\n",
    "    org = range(n+1)\n",
    "    pos = range(n+1)\n",
    "    cnt = [0]*(n + 1)\n",
    "    ans = 0\n",
    "    invalid = 0\n",
    "    \n",
    "    for i in xrange(n - 1, -1, -1):\n",
    "            if invalid:\n",
    "                break\n",
    "            oldp = pos[arr[i]]\n",
    "            newp = i + 1\n",
    "            while oldp != newp:\n",
    "                ans = ans + 1\n",
    "                cnt[org[oldp + 1]] += 1\n",
    "                \n",
    "                if cnt[org[oldp + 1]] > 2:\n",
    "                    invalid = 1\n",
    "                    break\n",
    "                    \n",
    "                org[oldp], org[oldp+1] = org[oldp+1], org[oldp]\n",
    "                \n",
    "                pos[org[oldp]] = oldp\n",
    "                pos[org[oldp + 1]] = oldp + 1\n",
    "                \n",
    "                oldp = oldp + 1\n",
    "                \n",
    "    if invalid:\n",
    "        ans = \"Too chaotic\"\n",
    "        \n",
    "    print ans"
   ]
  },
  {
   "cell_type": "code",
   "execution_count": null,
   "metadata": {},
   "outputs": [],
   "source": [
    "i, n = 7, 8"
   ]
  },
  {
   "cell_type": "code",
   "execution_count": null,
   "metadata": {},
   "outputs": [],
   "source": [
    "tuple(r for r in range(2, i)) if n-1 == i else (i-2, i-1) if i > 1 else (0,)"
   ]
  },
  {
   "cell_type": "code",
   "execution_count": null,
   "metadata": {},
   "outputs": [],
   "source": [
    "#         for j in range(max(0, q[i] - 2), i):"
   ]
  },
  {
   "cell_type": "code",
   "execution_count": null,
   "metadata": {},
   "outputs": [],
   "source": []
  },
  {
   "cell_type": "code",
   "execution_count": null,
   "metadata": {},
   "outputs": [],
   "source": [
    "def minimumBribes(q, n):\n",
    "    res, pos = n, {1,2}\n",
    "    for i in range(n):\n",
    "        pos |= {i+3}\n",
    "        if q[i] in pos:\n",
    "            if q[i] == min(pos): \n",
    "                res -= 1\n",
    "            if q[i] == max(pos): \n",
    "                res += 1\n",
    "            pos -= {q[i]}\n",
    "        else:\n",
    "            print('Too chaotic')\n",
    "            break\n",
    "    else:\n",
    "        print(res)"
   ]
  },
  {
   "cell_type": "code",
   "execution_count": null,
   "metadata": {},
   "outputs": [],
   "source": [
    "minimumBribes(q, n)"
   ]
  }
 ],
 "metadata": {
  "kernelspec": {
   "display_name": "Python 3",
   "language": "python",
   "name": "python3"
  },
  "language_info": {
   "codemirror_mode": {
    "name": "ipython",
    "version": 3
   },
   "file_extension": ".py",
   "mimetype": "text/x-python",
   "name": "python",
   "nbconvert_exporter": "python",
   "pygments_lexer": "ipython3",
   "version": "3.6.5"
  }
 },
 "nbformat": 4,
 "nbformat_minor": 2
}
