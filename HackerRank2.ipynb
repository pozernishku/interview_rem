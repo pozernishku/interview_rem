{
 "cells": [
  {
   "cell_type": "code",
   "execution_count": null,
   "metadata": {
    "collapsed": true
   },
   "outputs": [],
   "source": [
    "'''New Year Chaos'''"
   ]
  },
  {
   "cell_type": "code",
   "execution_count": null,
   "metadata": {
    "collapsed": true,
    "scrolled": true
   },
   "outputs": [],
   "source": [
    "qs = [2, 1, 5, 3, 4]\n",
    "n = len(qs)\n",
    "def minimumBribes(q, n):\n",
    "    x, y = 0, 0\n",
    "    for i in range(n-1, 0, -1):\n",
    "        for j in range(i):\n",
    "            if q[j] > q[j+1]:\n",
    "                q[j], q[j+1] = q[j+1], q[j]\n",
    "                x += 1\n",
    "                if y >= 2: \n",
    "                    print('Too chaotic')\n",
    "                    return \n",
    "                y += 1\n",
    "            else:\n",
    "                y = 0\n",
    "    print(x)\n",
    "minimumBribes(qs, n)"
   ]
  },
  {
   "cell_type": "code",
   "execution_count": null,
   "metadata": {
    "collapsed": true
   },
   "outputs": [],
   "source": []
  },
  {
   "cell_type": "code",
   "execution_count": 3,
   "metadata": {
    "collapsed": true
   },
   "outputs": [],
   "source": [
    "q = [5, 1, 2, 3, 7, 8, 6, 4] # [1, 2, 5, 3, 7, 8, 6, 4]  # [5, 1, 2, 3, 7, 8, 6, 4]\n",
    "n = len(q)"
   ]
  },
  {
   "cell_type": "code",
   "execution_count": 12,
   "metadata": {
    "collapsed": true
   },
   "outputs": [],
   "source": [
    "def minimumBribes(q, n):\n",
    "    bribes = 0\n",
    "    for i in range(n-1, -1, -1): # changed from -1 to 0\n",
    "        if q[i] - (i + 1) > 2:\n",
    "            print('Too chaotic')\n",
    "            return\n",
    "#         for j in range(max(0, q[i] - 2), i):\n",
    "        for j in tuple(r for r in range(2, i)) if n-1 == i else (i-2, i-1) if i > 1 else (0,):\n",
    "            if q[j] > q[i]:\n",
    "                bribes+=1\n",
    "            print(q, f'i={i} j={j}', bribes)\n",
    "    print(bribes)"
   ]
  },
  {
   "cell_type": "code",
   "execution_count": 13,
   "metadata": {
    "scrolled": true
   },
   "outputs": [
    {
     "name": "stdout",
     "output_type": "stream",
     "text": [
      "[5, 1, 2, 3, 7, 8, 6, 4] i=7 j=2 0\n",
      "[5, 1, 2, 3, 7, 8, 6, 4] i=7 j=3 0\n",
      "[5, 1, 2, 3, 7, 8, 6, 4] i=7 j=4 1\n",
      "[5, 1, 2, 3, 7, 8, 6, 4] i=7 j=5 2\n",
      "[5, 1, 2, 3, 7, 8, 6, 4] i=7 j=6 3\n",
      "[5, 1, 2, 3, 7, 8, 6, 4] i=6 j=4 4\n",
      "[5, 1, 2, 3, 7, 8, 6, 4] i=6 j=5 5\n",
      "[5, 1, 2, 3, 7, 8, 6, 4] i=5 j=3 5\n",
      "[5, 1, 2, 3, 7, 8, 6, 4] i=5 j=4 5\n",
      "[5, 1, 2, 3, 7, 8, 6, 4] i=4 j=2 5\n",
      "[5, 1, 2, 3, 7, 8, 6, 4] i=4 j=3 5\n",
      "[5, 1, 2, 3, 7, 8, 6, 4] i=3 j=1 5\n",
      "[5, 1, 2, 3, 7, 8, 6, 4] i=3 j=2 5\n",
      "[5, 1, 2, 3, 7, 8, 6, 4] i=2 j=0 6\n",
      "[5, 1, 2, 3, 7, 8, 6, 4] i=2 j=1 6\n",
      "[5, 1, 2, 3, 7, 8, 6, 4] i=1 j=0 7\n",
      "Too chaotic\n"
     ]
    }
   ],
   "source": [
    "minimumBribes(q, n)"
   ]
  },
  {
   "cell_type": "code",
   "execution_count": null,
   "metadata": {
    "collapsed": true
   },
   "outputs": [],
   "source": [
    "[5, 1, 2, 3, 7, 8, 6, 4] i=7 j=2 0\n",
    "[5, 1, 2, 3, 7, 8, 6, 4] i=7 j=3 0\n",
    "[5, 1, 2, 3, 7, 8, 6, 4] i=7 j=4 1\n",
    "[5, 1, 2, 3, 7, 8, 6, 4] i=7 j=5 2\n",
    "[5, 1, 2, 3, 7, 8, 6, 4] i=7 j=6 3\n",
    "[5, 1, 2, 3, 7, 8, 6, 4] i=6 j=4 4\n",
    "[5, 1, 2, 3, 7, 8, 6, 4] i=6 j=5 5\n",
    "[5, 1, 2, 3, 7, 8, 6, 4] i=5 j=3 5\n",
    "[5, 1, 2, 3, 7, 8, 6, 4] i=5 j=4 5\n",
    "[5, 1, 2, 3, 7, 8, 6, 4] i=4 j=2 5\n",
    "[5, 1, 2, 3, 7, 8, 6, 4] i=4 j=3 5\n",
    "[5, 1, 2, 3, 7, 8, 6, 4] i=3 j=1 5\n",
    "[5, 1, 2, 3, 7, 8, 6, 4] i=3 j=2 5\n",
    "[5, 1, 2, 3, 7, 8, 6, 4] i=2 j=0 6\n",
    "[5, 1, 2, 3, 7, 8, 6, 4] i=2 j=1 6\n",
    "[5, 1, 2, 3, 7, 8, 6, 4] i=1 j=0 7\n",
    "7"
   ]
  },
  {
   "cell_type": "code",
   "execution_count": null,
   "metadata": {
    "collapsed": true
   },
   "outputs": [],
   "source": [
    "i, n = 7, 8"
   ]
  },
  {
   "cell_type": "code",
   "execution_count": null,
   "metadata": {
    "collapsed": true
   },
   "outputs": [],
   "source": [
    "tuple(r for r in range(2, i)) if n-1 == i else (i-2, i-1) if i > 1 else (0,)"
   ]
  },
  {
   "cell_type": "code",
   "execution_count": null,
   "metadata": {
    "collapsed": true
   },
   "outputs": [],
   "source": [
    "#         for j in range(max(0, q[i] - 2), i):"
   ]
  },
  {
   "cell_type": "code",
   "execution_count": null,
   "metadata": {
    "collapsed": true
   },
   "outputs": [],
   "source": []
  },
  {
   "cell_type": "code",
   "execution_count": 19,
   "metadata": {},
   "outputs": [],
   "source": [
    "def minimumBribes(q, n):\n",
    "    res, pos = n, {1,2}\n",
    "    for i in range(n):\n",
    "        pos |= {i+3}\n",
    "        if q[i] in pos:\n",
    "            if q[i] == min(pos): \n",
    "                res -= 1\n",
    "            if q[i] == max(pos): \n",
    "                res += 1\n",
    "            pos -= {q[i]}\n",
    "        else:\n",
    "            print('Too chaotic')\n",
    "            break\n",
    "    else:\n",
    "        print(res)"
   ]
  },
  {
   "cell_type": "code",
   "execution_count": 20,
   "metadata": {},
   "outputs": [
    {
     "name": "stdout",
     "output_type": "stream",
     "text": [
      "Too chaotic\n"
     ]
    }
   ],
   "source": [
    "minimumBribes(q, n)"
   ]
  },
  {
   "cell_type": "code",
   "execution_count": null,
   "metadata": {
    "collapsed": true
   },
   "outputs": [],
   "source": []
  }
 ],
 "metadata": {
  "kernelspec": {
   "display_name": "Python [conda env:scr]",
   "language": "python",
   "name": "conda-env-scr-py"
  },
  "language_info": {
   "codemirror_mode": {
    "name": "ipython",
    "version": 3
   },
   "file_extension": ".py",
   "mimetype": "text/x-python",
   "name": "python",
   "nbconvert_exporter": "python",
   "pygments_lexer": "ipython3",
   "version": "3.6.2"
  }
 },
 "nbformat": 4,
 "nbformat_minor": 2
}
