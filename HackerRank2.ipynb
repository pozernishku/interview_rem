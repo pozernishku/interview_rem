{
 "cells": [
  {
   "cell_type": "code",
   "execution_count": null,
   "metadata": {
    "scrolled": true
   },
   "outputs": [],
   "source": [
    "'''Ema's Supercomputer'''"
   ]
  },
  {
   "cell_type": "code",
   "execution_count": 53,
   "metadata": {
    "collapsed": true
   },
   "outputs": [],
   "source": [
    "g = [\n",
    "    'BGBBGB',\n",
    "    'GGGGGG',\n",
    "    'BGBBGB',\n",
    "    'GGGGGG',\n",
    "    'BGBBGB',\n",
    "    'BGBBGB'\n",
    "]\n",
    "n = len(g)\n",
    "m = len(g[0])"
   ]
  },
  {
   "cell_type": "code",
   "execution_count": 62,
   "metadata": {},
   "outputs": [],
   "source": [
    "def twoPluses(g, n, m):\n",
    "    g = [list(e) for e in g]\n",
    "    a, result = [], []\n",
    "    x = [[-1 for _ in range(m)] for _ in range(n)]\n",
    "\n",
    "    for i in range(n):\n",
    "        for j in range(m):\n",
    "            if g[i][j] == 'G':\n",
    "                a.append((1,i,j))\n",
    "                for k in range(1, min(n-1 if n%2 == 0 else n, m-1 if m%2 == 0 else m)//2+1):\n",
    "                    if j+k <= m-1 and j-k >= 0 and i+k <= n-1 and i-k >= 0:\n",
    "                        if g[i][j+k] == 'G' and g[i][j-k] == 'G' and g[i+k][j] == 'G' and g[i-k][j] == 'G':\n",
    "                            a.append((4*k+1,i,j))\n",
    "                        else:\n",
    "                            break\n",
    "                    else:\n",
    "                        break\n",
    "            else:\n",
    "                continue\n",
    "                \n",
    "    for i in range(len(a)):\n",
    "        aa, ii, jj = a[i]\n",
    "        for k in range(1, a[i][0]//4+1):\n",
    "            x[ii][jj] = i\n",
    "            x[ii][jj+k] = i\n",
    "            x[ii][jj-k] = i\n",
    "            x[ii+k][jj] = i\n",
    "            x[ii-k][jj] = i\n",
    "        for j in range(i+1,len(a)):\n",
    "            aaa, iii, jjj = a[j]\n",
    "            for h in range(1, a[j][0]//4+1):\n",
    "                if x[iii][jjj]==i or x[iii][jjj+h]==i or x[iii][jjj-h]==i or x[iii+h][jjj]==i or x[iii-h][jjj]==i:\n",
    "                    break\n",
    "                else:\n",
    "                    continue\n",
    "            else: # loop h else statement ends successfully\n",
    "                result.append(aa*aaa)\n",
    "    return max(result)"
   ]
  },
  {
   "cell_type": "code",
   "execution_count": 63,
   "metadata": {},
   "outputs": [
    {
     "data": {
      "text/plain": [
       "25"
      ]
     },
     "execution_count": 63,
     "metadata": {},
     "output_type": "execute_result"
    }
   ],
   "source": [
    "twoPluses(g,n,m)"
   ]
  },
  {
   "cell_type": "code",
   "execution_count": null,
   "metadata": {
    "collapsed": true
   },
   "outputs": [],
   "source": [
    "def twins(a, b):\n",
    "    if len(a) != len(b):\n",
    "        return 'No'\n",
    "\n",
    "    b_even = []\n",
    "    b_odd = []\n",
    "    for k, v in enumerate(b):\n",
    "        if k%2 == 0:\n",
    "            b_even.append(v)\n",
    "        else:\n",
    "            b_odd.append(v)\n",
    "    \n",
    "    for k, v in enumerate(a):\n",
    "        if k%2 == 0 and v in b_even:\n",
    "            b_even.remove(v)\n",
    "        elif k%2 != 0 and v in b_odd:\n",
    "            b_odd.remove(v)\n",
    "        else:\n",
    "            return 'No'\n",
    "    return 'Yes'"
   ]
  },
  {
   "cell_type": "code",
   "execution_count": null,
   "metadata": {},
   "outputs": [],
   "source": [
    "print(twins(a,b))"
   ]
  },
  {
   "cell_type": "code",
   "execution_count": null,
   "metadata": {
    "collapsed": true
   },
   "outputs": [],
   "source": []
  },
  {
   "cell_type": "code",
   "execution_count": null,
   "metadata": {
    "collapsed": true
   },
   "outputs": [],
   "source": [
    "def twins(aa, bb):\n",
    "    result = []\n",
    "    for a, b in zip(aa, bb):\n",
    "        if len(a) != len(b): # are not guaranteed to have the same length.\n",
    "            result.append('No')\n",
    "            continue\n",
    "\n",
    "        a1, a2 = [], []\n",
    "        for i, e in enumerate(a):\n",
    "            if i%2 == 0:\n",
    "                a1.append(e)\n",
    "            else:\n",
    "                a2.append(e)\n",
    "\n",
    "        b1, b2 = [], []\n",
    "        for i, e in enumerate(b):\n",
    "            if i%2 == 0:\n",
    "                b1.append(e)\n",
    "            else:\n",
    "                b2.append(e)\n",
    "\n",
    "        x = sorted(a1) == sorted(b1)\n",
    "        y = sorted(a2) == sorted(b2)\n",
    "        \n",
    "        if all([x, y]):\n",
    "            result.append('Yes')\n",
    "        else:\n",
    "            result.append('No')\n",
    "    return result"
   ]
  },
  {
   "cell_type": "code",
   "execution_count": null,
   "metadata": {
    "collapsed": true
   },
   "outputs": [],
   "source": [
    "a = ['dcba', 'cdab', 'acacbd', 'dcba']\n",
    "b = ['abcd', 'abcd', 'acbcad', 'abcd']"
   ]
  },
  {
   "cell_type": "code",
   "execution_count": null,
   "metadata": {},
   "outputs": [],
   "source": [
    "twins(a, b)"
   ]
  },
  {
   "cell_type": "code",
   "execution_count": null,
   "metadata": {
    "collapsed": true
   },
   "outputs": [],
   "source": []
  },
  {
   "cell_type": "code",
   "execution_count": null,
   "metadata": {},
   "outputs": [],
   "source": [
    "import sys\n",
    "\n",
    "\"\"\"\n",
    "* Complete the function below.\n",
    "* DO NOT MODIFY CODE OUTSIDE THIS FUNCTION!\n",
    "\"\"\"\n",
    "def twins(aa, bb):\n",
    "    result = []\n",
    "    for a, b in zip(aa, bb):\n",
    "        if len(a) != len(b): # are not guaranteed to have the same length.\n",
    "            result.append('No')\n",
    "            continue\n",
    "\n",
    "        a1, a2 = [], []\n",
    "        for i, e in enumerate(a):\n",
    "            if i%2 == 0:\n",
    "                a1.append(e)\n",
    "            else:\n",
    "                a2.append(e)\n",
    "\n",
    "        b1, b2 = [], []\n",
    "        for i, e in enumerate(b):\n",
    "            if i%2 == 0:\n",
    "                b1.append(e)\n",
    "            else:\n",
    "                b2.append(e)\n",
    "\n",
    "        x = sorted(a1) == sorted(b1)\n",
    "        y = sorted(a2) == sorted(b2)\n",
    "        \n",
    "        if all([x, y]):\n",
    "            result.append('Yes')\n",
    "        else:\n",
    "            result.append('No')\n",
    "    return result\n",
    "\n",
    "\"\"\"\n",
    "* DO NOT MODIFY CODE BELOW THIS POINT!\n",
    "\"\"\"\n",
    "def main():\n",
    "    data = sys.stdin.readlines()\n",
    "    \n",
    "    pos = 0\n",
    "\n",
    "    a = []\n",
    "    b = []\n",
    "\n",
    "    for a_i in range(pos + 1, int(data[pos]) + 1):\n",
    "        a.append(data[a_i])\n",
    "\n",
    "    pos = len(a) + 1\n",
    "\n",
    "    for b_i in range(pos + 1, int(data[pos]) + pos + 1):\n",
    "        b.append(data[b_i])\n",
    "    \n",
    "    result = twins(a, b)\n",
    "    \n",
    "    for val in result:\n",
    "        print(val)\n",
    "\n",
    "main()"
   ]
  },
  {
   "cell_type": "code",
   "execution_count": null,
   "metadata": {
    "collapsed": true
   },
   "outputs": [],
   "source": []
  },
  {
   "cell_type": "code",
   "execution_count": null,
   "metadata": {
    "collapsed": true
   },
   "outputs": [],
   "source": [
    "The program needs to transform the left 'language' format - to the 'right format.\n",
    "\n",
    "langauge (left side):\n",
    "==========\n",
    "numbers (1,2,3,4,5,6,7,8,9,0)\n",
    "Actions (+/-*)\n",
    "Argument: number | (<argument> <action> <argument>)\n",
    "\n",
    "Language (right side):\n",
    "========================\n",
    "numbers (1,2,3,4,5,6,7,8,9,0)\n",
    "Actions (+/-*)\n",
    "Argument: number | (<argument> <argument> <action>)\n",
    "\n",
    "Some Examples\n",
    "===============================\n",
    "(1+3) --> (13+)\n",
    "((1*3)+4) --> ((13*)4+)\n",
    "((1/2)+(2/3)) --> ((12/)(23/)+)\n",
    "(5-7) --> (57-)\n",
    "(5+(23)) --> (5(23)+)\n",
    "(((1/2)+(2/3))+((1/2)+(2/3))) --> (((12/)(23/)+)((12/)(23/)+)+)\n",
    "((((1/(23))+((2)/3))+((1/2)+(2/3))) / ((((1)/(2) )+(2/3))+((1/2)+(2/3)))  )  --> ((((1(23)/)((2)3/)+)((12/)(23/)+)+)((((1)(2)/)(23/)+)((12/)(23/)+)+)/)"
   ]
  },
  {
   "cell_type": "code",
   "execution_count": null,
   "metadata": {
    "collapsed": true
   },
   "outputs": [],
   "source": [
    "def to_right(a=''):\n",
    "    '''Transform the left language format to the right format'''\n",
    "    \n",
    "    #Prepare input. Add spaces after parentheses ')' --> ') '\n",
    "    a = a.replace(' ', '')\n",
    "    a = list(a.replace(')', ') '))\n",
    "    \n",
    "    #Walk through list with conditions\n",
    "    #These spaces will be filled in with signs\n",
    "    digits, signs, lst = '0123456789', '+/-*', []\n",
    "    for i in range(len(a)-1):\n",
    "        if a[i] in signs and a[i+1] in digits:\n",
    "            a[i], a[i+1] = a[i+1], a[i]\n",
    "        elif a[i] in signs and a[i+1] == '(':\n",
    "            lst.append(a[i])\n",
    "            a[i] = ''\n",
    "        elif a[i] == ' ' and a[i+1] in signs:\n",
    "            a[i] = ''\n",
    "        elif a[i] == ' ' and a[i+1] not in signs:\n",
    "            a[i] = lst.pop()\n",
    "    return ''.join(a).strip()\n",
    "\n",
    "if __name__ == '__main__':\n",
    "    result = to_right('(5+(23))')\n",
    "    print(result)"
   ]
  },
  {
   "cell_type": "code",
   "execution_count": null,
   "metadata": {
    "collapsed": true
   },
   "outputs": [],
   "source": [
    "'''Cats and a Mouse'''"
   ]
  },
  {
   "cell_type": "code",
   "execution_count": null,
   "metadata": {
    "collapsed": true
   },
   "outputs": [],
   "source": [
    "x, y, z = 1, 3, 2"
   ]
  },
  {
   "cell_type": "code",
   "execution_count": null,
   "metadata": {
    "collapsed": true
   },
   "outputs": [],
   "source": [
    "def catAndMouse(x, y, z):\n",
    "    if abs(z - x) < abs(z - y):\n",
    "        return 'Cat A'\n",
    "    elif abs(z - x) > abs(z - y):\n",
    "        return 'Cat B'\n",
    "    else: \n",
    "        return 'Mouse C'"
   ]
  },
  {
   "cell_type": "code",
   "execution_count": null,
   "metadata": {
    "collapsed": true
   },
   "outputs": [],
   "source": [
    "catAndMouse(x, y, z)"
   ]
  },
  {
   "cell_type": "code",
   "execution_count": null,
   "metadata": {
    "collapsed": true
   },
   "outputs": [],
   "source": [
    "'''Find Digits'''"
   ]
  },
  {
   "cell_type": "code",
   "execution_count": null,
   "metadata": {
    "collapsed": true
   },
   "outputs": [],
   "source": [
    "def findDigits(n):\n",
    "    result, n = 0, str(n)\n",
    "    for d in n:\n",
    "        if d == '0':\n",
    "            continue\n",
    "        elif int(n) % int(d) == 0:\n",
    "            result += 1\n",
    "    return result"
   ]
  },
  {
   "cell_type": "code",
   "execution_count": null,
   "metadata": {
    "collapsed": true
   },
   "outputs": [],
   "source": [
    "findDigits(1012)"
   ]
  },
  {
   "cell_type": "code",
   "execution_count": null,
   "metadata": {
    "collapsed": true
   },
   "outputs": [],
   "source": [
    "'''Grading Students'''"
   ]
  },
  {
   "cell_type": "code",
   "execution_count": null,
   "metadata": {
    "collapsed": true
   },
   "outputs": [],
   "source": [
    "a = [73, 67, 38, 33]\n",
    "n = len(a)"
   ]
  },
  {
   "cell_type": "code",
   "execution_count": null,
   "metadata": {
    "collapsed": true
   },
   "outputs": [],
   "source": [
    "def gradingStudents(a):\n",
    "    return [x if x < 38 else x+2 if x - (x // 5 * 5) == 3 else x + 1 if x - (x // 5 * 5) == 4 else x for x in a]"
   ]
  },
  {
   "cell_type": "code",
   "execution_count": null,
   "metadata": {
    "collapsed": true
   },
   "outputs": [],
   "source": [
    "gradingStudents(a)"
   ]
  },
  {
   "cell_type": "code",
   "execution_count": null,
   "metadata": {
    "collapsed": true
   },
   "outputs": [],
   "source": [
    "'''Strange Counter'''"
   ]
  },
  {
   "cell_type": "code",
   "execution_count": null,
   "metadata": {
    "collapsed": true
   },
   "outputs": [],
   "source": [
    "def strangeCounter(t):\n",
    "    m, = [3*2**i-2 for i in range(45) if t >= 3*2**i-2 and t < 3*2**(i+1)-2]\n",
    "    return (m + 2) - (t - m)"
   ]
  },
  {
   "cell_type": "code",
   "execution_count": null,
   "metadata": {
    "collapsed": true
   },
   "outputs": [],
   "source": [
    "strangeCounter(3)"
   ]
  },
  {
   "cell_type": "code",
   "execution_count": null,
   "metadata": {
    "collapsed": true
   },
   "outputs": [],
   "source": [
    "'''Migratory Birds'''"
   ]
  },
  {
   "cell_type": "code",
   "execution_count": null,
   "metadata": {
    "collapsed": true
   },
   "outputs": [],
   "source": [
    "# arr = [1, 2, 3, 4, 5, 4, 3, 2, 1, 3, 4]\n",
    "arr = [1, 4, 4, 4, 5, 3]\n",
    "arr_count = len(arr)"
   ]
  },
  {
   "cell_type": "code",
   "execution_count": null,
   "metadata": {
    "collapsed": true
   },
   "outputs": [],
   "source": [
    "def migratoryBirds(arr, arr_count):\n",
    "    d = {}\n",
    "    for e in arr:\n",
    "        if e in d:\n",
    "            d[e] += 1\n",
    "        else:\n",
    "            d.setdefault(e, 1)\n",
    "    return sorted(d.keys(), key=d.get, reverse=True)[0]\n",
    "#     return sorted(d.items(), key=lambda x: x[1], reverse=True)[0][0]"
   ]
  },
  {
   "cell_type": "code",
   "execution_count": null,
   "metadata": {
    "collapsed": true
   },
   "outputs": [],
   "source": [
    "migratoryBirds(arr, arr_count)"
   ]
  },
  {
   "cell_type": "markdown",
   "metadata": {},
   "source": [
    "https://docs.python.org/3/howto/sorting.html"
   ]
  },
  {
   "cell_type": "code",
   "execution_count": null,
   "metadata": {
    "collapsed": true
   },
   "outputs": [],
   "source": [
    "'''Forming a Magic Square'''"
   ]
  },
  {
   "cell_type": "code",
   "execution_count": null,
   "metadata": {
    "collapsed": true
   },
   "outputs": [],
   "source": [
    "s = [[4, 5, 8],\n",
    "     [2, 4, 1],\n",
    "     [1, 9, 7]]  # expected 14"
   ]
  },
  {
   "cell_type": "code",
   "execution_count": null,
   "metadata": {
    "collapsed": true
   },
   "outputs": [],
   "source": [
    "def func(list_xy, list_correct):\n",
    "    cost = 0\n",
    "    for xy, corr in zip(list_xy, list_correct):\n",
    "        cost += abs(xy-corr)\n",
    "    return cost\n",
    "\n",
    "def formingMagicSquare(s):\n",
    "    list_xy = [s[0][0], s[0][1], s[0][2], s[1][2], s[2][2], s[2][1], s[2][0], s[1][0]]\n",
    "    list_1 = [2,9,4,3,8,1,6,7]\n",
    "    list_2 = [4,9,2,7,6,1,8,3]\n",
    "    \n",
    "    costs = []\n",
    "    \n",
    "    for _ in range(4):\n",
    "        costs.append( func(list_xy, list_1) + abs(s[1][1]-5) )\n",
    "        x = list_1.pop()\n",
    "        y = list_1.pop()\n",
    "        \n",
    "        list_1.insert(0, x)\n",
    "        list_1.insert(0, y)\n",
    "        \n",
    "    for _ in range(4):\n",
    "        costs.append( func(list_xy, list_2) + abs(s[1][1]-5) )\n",
    "        x = list_2.pop()\n",
    "        y = list_2.pop()\n",
    "        \n",
    "        list_2.insert(0, x)\n",
    "        list_2.insert(0, y)\n",
    "        \n",
    "    return min(costs)"
   ]
  },
  {
   "cell_type": "code",
   "execution_count": null,
   "metadata": {
    "collapsed": true
   },
   "outputs": [],
   "source": [
    "formingMagicSquare(s)"
   ]
  },
  {
   "cell_type": "code",
   "execution_count": null,
   "metadata": {
    "collapsed": true
   },
   "outputs": [],
   "source": []
  },
  {
   "cell_type": "code",
   "execution_count": null,
   "metadata": {
    "collapsed": true,
    "scrolled": false
   },
   "outputs": [],
   "source": [
    "'''New Year Chaos'''"
   ]
  },
  {
   "cell_type": "code",
   "execution_count": null,
   "metadata": {
    "collapsed": true,
    "scrolled": true
   },
   "outputs": [],
   "source": [
    "qs = [2, 1, 5, 3, 4]\n",
    "n = len(qs)\n",
    "def minimumBribes(q, n):\n",
    "    x, y = 0, 0\n",
    "    for i in range(n-1, 0, -1):\n",
    "        for j in range(i):\n",
    "            if q[j] > q[j+1]:\n",
    "                q[j], q[j+1] = q[j+1], q[j]\n",
    "                x += 1\n",
    "                if y >= 2: \n",
    "                    print('Too chaotic')\n",
    "                    return \n",
    "                y += 1\n",
    "            else:\n",
    "                y = 0\n",
    "    print(x)\n",
    "minimumBribes(qs, n)"
   ]
  },
  {
   "cell_type": "code",
   "execution_count": null,
   "metadata": {
    "collapsed": true
   },
   "outputs": [],
   "source": []
  },
  {
   "cell_type": "code",
   "execution_count": null,
   "metadata": {
    "collapsed": true
   },
   "outputs": [],
   "source": [
    "q = [5, 1, 2, 3, 7, 8, 6, 4] # [1, 2, 5, 3, 7, 8, 6, 4]  # [5, 1, 2, 3, 7, 8, 6, 4]\n",
    "n = len(q)"
   ]
  },
  {
   "cell_type": "code",
   "execution_count": null,
   "metadata": {
    "collapsed": true
   },
   "outputs": [],
   "source": [
    "def minimumBribes(q, n):\n",
    "    bribes = 0\n",
    "    for i in range(n-1, -1, -1): # changed from -1 to 0\n",
    "        if q[i] - (i + 1) > 2:\n",
    "            print('Too chaotic')\n",
    "            return\n",
    "#         for j in range(max(0, q[i] - 2), i):\n",
    "        for j in tuple(r for r in range(2, i)) if n-1 == i else (i-2, i-1) if i > 1 else (0,):\n",
    "            if q[j] > q[i]:\n",
    "                bribes+=1\n",
    "            print(q, f'i={i} j={j}', bribes)\n",
    "    print(bribes)"
   ]
  },
  {
   "cell_type": "code",
   "execution_count": null,
   "metadata": {
    "collapsed": true,
    "scrolled": true
   },
   "outputs": [],
   "source": [
    "minimumBribes(q, n)"
   ]
  },
  {
   "cell_type": "code",
   "execution_count": null,
   "metadata": {
    "collapsed": true
   },
   "outputs": [],
   "source": [
    "t = int(raw_input())\n",
    "\n",
    "for _ in range(t):\n",
    "    n = int(raw_input())\n",
    "    arr = map(int, raw_input().split())\n",
    "    org = range(n+1)\n",
    "    pos = range(n+1)\n",
    "    cnt = [0]*(n + 1)\n",
    "    ans = 0\n",
    "    invalid = 0\n",
    "    \n",
    "    for i in xrange(n - 1, -1, -1):\n",
    "            if invalid:\n",
    "                break\n",
    "            oldp = pos[arr[i]]\n",
    "            newp = i + 1\n",
    "            while oldp != newp:\n",
    "                ans = ans + 1\n",
    "                cnt[org[oldp + 1]] += 1\n",
    "                \n",
    "                if cnt[org[oldp + 1]] > 2:\n",
    "                    invalid = 1\n",
    "                    break\n",
    "                    \n",
    "                org[oldp], org[oldp+1] = org[oldp+1], org[oldp]\n",
    "                \n",
    "                pos[org[oldp]] = oldp\n",
    "                pos[org[oldp + 1]] = oldp + 1\n",
    "                \n",
    "                oldp = oldp + 1\n",
    "                \n",
    "    if invalid:\n",
    "        ans = \"Too chaotic\"\n",
    "        \n",
    "    print ans"
   ]
  },
  {
   "cell_type": "code",
   "execution_count": null,
   "metadata": {
    "collapsed": true
   },
   "outputs": [],
   "source": [
    "i, n = 7, 8"
   ]
  },
  {
   "cell_type": "code",
   "execution_count": null,
   "metadata": {
    "collapsed": true
   },
   "outputs": [],
   "source": [
    "tuple(r for r in range(2, i)) if n-1 == i else (i-2, i-1) if i > 1 else (0,)"
   ]
  },
  {
   "cell_type": "code",
   "execution_count": null,
   "metadata": {
    "collapsed": true
   },
   "outputs": [],
   "source": [
    "#         for j in range(max(0, q[i] - 2), i):"
   ]
  },
  {
   "cell_type": "code",
   "execution_count": null,
   "metadata": {
    "collapsed": true
   },
   "outputs": [],
   "source": []
  },
  {
   "cell_type": "code",
   "execution_count": null,
   "metadata": {
    "collapsed": true
   },
   "outputs": [],
   "source": [
    "def minimumBribes(q, n):\n",
    "    res, pos = n, {1,2}\n",
    "    for i in range(n):\n",
    "        pos |= {i+3}\n",
    "        if q[i] in pos:\n",
    "            if q[i] == min(pos): \n",
    "                res -= 1\n",
    "            if q[i] == max(pos): \n",
    "                res += 1\n",
    "            pos -= {q[i]}\n",
    "        else:\n",
    "            print('Too chaotic')\n",
    "            break\n",
    "    else:\n",
    "        print(res)"
   ]
  },
  {
   "cell_type": "code",
   "execution_count": null,
   "metadata": {
    "collapsed": true
   },
   "outputs": [],
   "source": [
    "minimumBribes(q, n)"
   ]
  }
 ],
 "metadata": {
  "kernelspec": {
   "display_name": "Python [conda env:scr]",
   "language": "python",
   "name": "conda-env-scr-py"
  },
  "language_info": {
   "codemirror_mode": {
    "name": "ipython",
    "version": 3
   },
   "file_extension": ".py",
   "mimetype": "text/x-python",
   "name": "python",
   "nbconvert_exporter": "python",
   "pygments_lexer": "ipython3",
   "version": "3.6.2"
  }
 },
 "nbformat": 4,
 "nbformat_minor": 2
}
