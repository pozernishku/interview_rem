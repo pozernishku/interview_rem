{
 "cells": [
  {
   "cell_type": "code",
   "execution_count": null,
   "metadata": {},
   "outputs": [],
   "source": [
    "'''Special Palindrome Again'''"
   ]
  },
  {
   "cell_type": "code",
   "execution_count": null,
   "metadata": {
    "collapsed": true
   },
   "outputs": [],
   "source": [
    "s = 'aabaaza' # 7+2+2+0+1+0 = 12   ;9+"
   ]
  },
  {
   "cell_type": "code",
   "execution_count": null,
   "metadata": {
    "collapsed": true
   },
   "outputs": [],
   "source": [
    "# 1 -> 1; 3 -> 6; 3 -> 3+0+1 -> 4      5 -> 15; 5 -> 5+2+1+0+1 -> 9;   7 -> 28; 7 -> 7+4+3+0+1+1 -> 16\n",
    "# 9 -> 45;   9 -> 9+6+5+2+1+0+1+0+1 -> 25\n",
    "# 4 -> 4+3+2+1 -> 10; 5 -> 5+4+3+2+1 -> 15; 6 -> 6+5+4+3+2+1 -> 21; (6 ** 2 + 6)//2\n",
    "# 4, 9, 16, 25\n",
    "# 0, 1, 2, 3, 4,  5,  6,  7\n",
    "# 0, 1, 3, 5, 7,  9,  11, 13\n",
    "# 0, 1, 4, 9, 16, 25, 36, 49"
   ]
  },
  {
   "cell_type": "code",
   "execution_count": 440,
   "metadata": {
    "collapsed": true
   },
   "outputs": [],
   "source": [
    "# aaaazaa [('a', 4), ('z', 1), ('a', 2)] 7+4+3+1+1+0+0=16;  10+3+3=16 = 3   +  10+3 = 16\n",
    "# aazaaka [('a', 2), ('z', 1), ('a', 2), ('k', 1), ('a', 1)] 7+2+2+0+1+0+0=12;  3+3+3+2+1=12 = 3+2+1 + 3+3 = 12\n",
    "# akaazaa [('a', 1), ('k', 1), ('a', 2), ('z', 1), ('a', 2)] 7+2+2+0+1+0+0=12;  1+2+3+3+3=12 = 1+2+3 + 3+3 = 12\n",
    "# aba     [('a', 1), ('b', 1), ('a', 1)] 1+2+1=4\n",
    "# zxc     [('z', 1), ('x', 1), ('c', 1)] 1+1+1=3\n",
    "#          print(s, i, i+1, s[i], s[i+1], c, pc, x)\n",
    "s = 'asasd' # 6+3+3+1+0+0 = 13 = 13; 16; 7+4+3+1+1+0+0 = 16; 10+3+3 = 16  aaaazaa"
   ]
  },
  {
   "cell_type": "code",
   "execution_count": 451,
   "metadata": {},
   "outputs": [],
   "source": [
    "def substrCount(n, s):\n",
    "    pc, c, x = 0, 1, []\n",
    "    for i in range(n):\n",
    "        if i+1 > n-1:\n",
    "            x.append((s[i], c))\n",
    "            break\n",
    "        elif s[i] == s[i+1]:\n",
    "            c += 1\n",
    "            if i+2 > n-1:\n",
    "                pc += (c ** 2 + c)//2\n",
    "            elif s[i] != s[i+2]:\n",
    "                pc += (c ** 2 + c)//2\n",
    "        elif s[i] != s[i+1]:\n",
    "            x.append((s[i], c))\n",
    "            c = 1\n",
    "    print(x, pc)\n",
    "    \n",
    "    m = len(x)\n",
    "    for i in range(m):\n",
    "        if x[i][1] == 1 and i == 0:\n",
    "            pc += 1\n",
    "        elif x[i][1] == 1 and i == m-1:\n",
    "            pc += 1\n",
    "        elif x[i][1] == 1 and x[i-1][0] == x[i+1][0]:\n",
    "            pc += 1 + min(x[i-1][1], x[i+1][1])\n",
    "        elif x[i][1] == 1:\n",
    "            pc += 1\n",
    "        print('loop', i, pc)\n",
    "\n",
    "    return pc"
   ]
  },
  {
   "cell_type": "code",
   "execution_count": 452,
   "metadata": {},
   "outputs": [
    {
     "name": "stdout",
     "output_type": "stream",
     "text": [
      "[('a', 1), ('s', 1), ('a', 1), ('s', 1), ('d', 1)] 0\n",
      "loop 0 1\n",
      "loop 1 3\n",
      "loop 2 5\n",
      "loop 3 6\n",
      "loop 4 7\n"
     ]
    },
    {
     "data": {
      "text/plain": [
       "7"
      ]
     },
     "execution_count": 452,
     "metadata": {},
     "output_type": "execute_result"
    }
   ],
   "source": [
    "substrCount(len(s), s)"
   ]
  },
  {
   "cell_type": "code",
   "execution_count": null,
   "metadata": {
    "collapsed": true
   },
   "outputs": [],
   "source": [
    "ln = len(s)"
   ]
  },
  {
   "cell_type": "code",
   "execution_count": null,
   "metadata": {},
   "outputs": [],
   "source": [
    "(ln ** 2 + ln)//2"
   ]
  },
  {
   "cell_type": "code",
   "execution_count": null,
   "metadata": {},
   "outputs": [],
   "source": [
    "(ln-(ln//2))**2"
   ]
  },
  {
   "cell_type": "code",
   "execution_count": null,
   "metadata": {
    "collapsed": true
   },
   "outputs": [],
   "source": []
  },
  {
   "cell_type": "code",
   "execution_count": null,
   "metadata": {
    "collapsed": true
   },
   "outputs": [],
   "source": []
  },
  {
   "cell_type": "code",
   "execution_count": null,
   "metadata": {
    "collapsed": true
   },
   "outputs": [],
   "source": [
    "'''Sherlock and the Valid String'''"
   ]
  },
  {
   "cell_type": "code",
   "execution_count": null,
   "metadata": {
    "collapsed": true
   },
   "outputs": [],
   "source": [
    "s = 'aabbccddeefghi'"
   ]
  },
  {
   "cell_type": "code",
   "execution_count": null,
   "metadata": {
    "collapsed": true
   },
   "outputs": [],
   "source": [
    "s = 'aaabbcc'"
   ]
  },
  {
   "cell_type": "code",
   "execution_count": null,
   "metadata": {
    "collapsed": true
   },
   "outputs": [],
   "source": [
    "s = 'ibfdgaeadiaefgbhbdghhhbgdfgeiccbiehhfcggchgghadhdhagfbahhddgghbdehidbibaeaagaeeigffcebfbaieggabcfbiiedcabfihchdfabifahcbhagccbdfifhghcadfiadeeaheeddddiecaicbgigccageicehfdhdgafaddhffadigfhhcaedcedecafeacbdacgfgfeeibgaiffdehigebhhehiaahfidibccdcdagifgaihacihadecgifihbebffebdfbchbgigeccahgihbcbcaggebaaafgfedbfgagfediddghdgbgehhhifhgcedechahidcbchebheihaadbbbiaiccededchdagfhccfdefigfibifabeiaccghcegfbcghaefifbachebaacbhbfgfddeceababbacgffbagidebeadfihaefefegbghgddbbgddeehgfbhafbccidebgehifafgbghafacgfdccgifdcbbbidfifhdaibgigebigaedeaaiadegfefbhacgddhchgcbgcaeaieiegiffchbgbebgbehbbfcebciiagacaiechdigbgbghefcahgbhfibhedaeeiffebdiabcifgccdefabccdghehfibfiifdaicfedagahhdcbhbicdgibgcedieihcichadgchgbdcdagaihebbabhibcihicadgadfcihdheefbhffiageddhgahaidfdhhdbgciiaciegchiiebfbcbhaeagccfhbfhaddagnfieihghfbaggiffbbfbecgaiiidccdceadbbdfgigibgcgchafccdchgifdeieicbaididhfcfdedbhaadedfageigfdehgcdaecaebebebfcieaecfagfdieaefdiedbcadchabhebgehiidfcgahcdhcdhgchhiiheffiifeegcfdgbdeffhgeghdfhbfbifgidcafbfcd'"
   ]
  },
  {
   "cell_type": "code",
   "execution_count": null,
   "metadata": {
    "collapsed": true
   },
   "outputs": [],
   "source": [
    "s = 'aaaaabc'"
   ]
  },
  {
   "cell_type": "code",
   "execution_count": null,
   "metadata": {
    "collapsed": true
   },
   "outputs": [],
   "source": [
    "from collections import Counter\n",
    "def isValid(s):\n",
    "    c = Counter(s)\n",
    "    cl, ls = len(c), sorted(c.values(), reverse=True)\n",
    "    print(ls, cl, c)\n",
    "    if cl == 1: \n",
    "        return 'YES'\n",
    "    a, b, c, d = ls[0], ls[1], ls[-2], ls[-1]\n",
    "    if a == b == c == d:\n",
    "        return 'YES'\n",
    "    elif a - d == 1:\n",
    "        if b - c == 0:\n",
    "            return 'YES'\n",
    "        else:\n",
    "            return 'NO'\n",
    "    elif d == 1:\n",
    "        if c == a:\n",
    "            return 'YES'\n",
    "        else:\n",
    "            return 'NO'\n",
    "    else:\n",
    "        return 'NO'"
   ]
  },
  {
   "cell_type": "code",
   "execution_count": null,
   "metadata": {
    "collapsed": true,
    "scrolled": true
   },
   "outputs": [],
   "source": [
    "isValid(s)"
   ]
  },
  {
   "cell_type": "code",
   "execution_count": null,
   "metadata": {
    "collapsed": true
   },
   "outputs": [],
   "source": []
  },
  {
   "cell_type": "code",
   "execution_count": null,
   "metadata": {
    "collapsed": true
   },
   "outputs": [],
   "source": [
    "from itertools import permutations"
   ]
  },
  {
   "cell_type": "code",
   "execution_count": null,
   "metadata": {
    "collapsed": true
   },
   "outputs": [],
   "source": [
    "a = 'eggegg'"
   ]
  },
  {
   "cell_type": "code",
   "execution_count": null,
   "metadata": {
    "collapsed": true
   },
   "outputs": [],
   "source": [
    "def reverseShuffleMerge(s):\n",
    "    n = len(s)\n",
    "    reversed_half = s[n//2-1::-1]\n",
    "    shuffle = list(map(''.join, permutations(reversed_half, n//2)))\n",
    "    print(reversed_half, shuffle, s)\n",
    "    def merge(x, y):\n",
    "        return x, y\n",
    "    return merge(reversed_half, shuffle[-2])\n",
    "    "
   ]
  },
  {
   "cell_type": "code",
   "execution_count": null,
   "metadata": {
    "collapsed": true
   },
   "outputs": [],
   "source": [
    "reverseShuffleMerge(a)"
   ]
  },
  {
   "cell_type": "code",
   "execution_count": null,
   "metadata": {
    "collapsed": true
   },
   "outputs": [],
   "source": [
    "'agfedcb' < 'bcdefga'"
   ]
  },
  {
   "cell_type": "code",
   "execution_count": null,
   "metadata": {
    "collapsed": true
   },
   "outputs": [],
   "source": [
    "'egg' < 'gge'"
   ]
  },
  {
   "cell_type": "code",
   "execution_count": null,
   "metadata": {
    "collapsed": true
   },
   "outputs": [],
   "source": []
  },
  {
   "cell_type": "code",
   "execution_count": null,
   "metadata": {
    "collapsed": true
   },
   "outputs": [],
   "source": []
  },
  {
   "cell_type": "code",
   "execution_count": null,
   "metadata": {
    "collapsed": true
   },
   "outputs": [],
   "source": []
  },
  {
   "cell_type": "code",
   "execution_count": null,
   "metadata": {
    "collapsed": true
   },
   "outputs": [],
   "source": [
    "n, k = 20, 5"
   ]
  },
  {
   "cell_type": "code",
   "execution_count": null,
   "metadata": {
    "collapsed": true
   },
   "outputs": [],
   "source": [
    "a = u"
   ]
  },
  {
   "cell_type": "code",
   "execution_count": null,
   "metadata": {
    "collapsed": true
   },
   "outputs": [],
   "source": [
    "def maxMin(k, a, n):\n",
    "    a.sort()\n",
    "    y = 10**9\n",
    "    for i in range(0, n-k+1):\n",
    "        x = a[i+k-1] - a[i]\n",
    "        if x < y:\n",
    "            y = x\n",
    "    return y\n"
   ]
  },
  {
   "cell_type": "code",
   "execution_count": null,
   "metadata": {
    "collapsed": true
   },
   "outputs": [],
   "source": [
    "maxMin(k, a, n)"
   ]
  },
  {
   "cell_type": "code",
   "execution_count": null,
   "metadata": {
    "collapsed": true
   },
   "outputs": [],
   "source": [
    "u = '''4504\n",
    "1520\n",
    "5857\n",
    "4094\n",
    "4157\n",
    "3902\n",
    "822\n",
    "6643\n",
    "2422\n",
    "7288\n",
    "8245\n",
    "9948\n",
    "2822\n",
    "1784\n",
    "7802\n",
    "3142\n",
    "9739\n",
    "5629\n",
    "5413\n",
    "7232'''"
   ]
  },
  {
   "cell_type": "code",
   "execution_count": null,
   "metadata": {
    "collapsed": true
   },
   "outputs": [],
   "source": [
    "u = list(map(int, u.split('\\n')))"
   ]
  },
  {
   "cell_type": "code",
   "execution_count": null,
   "metadata": {
    "collapsed": true
   },
   "outputs": [],
   "source": [
    "2822 - 822"
   ]
  },
  {
   "cell_type": "code",
   "execution_count": null,
   "metadata": {
    "collapsed": true
   },
   "outputs": [],
   "source": []
  },
  {
   "cell_type": "code",
   "execution_count": null,
   "metadata": {
    "collapsed": true
   },
   "outputs": [],
   "source": []
  },
  {
   "cell_type": "code",
   "execution_count": null,
   "metadata": {
    "collapsed": true
   },
   "outputs": [],
   "source": [
    "n, k = 5, 3\n",
    "c = [1, 3, 5, 7, 9]"
   ]
  },
  {
   "cell_type": "code",
   "execution_count": null,
   "metadata": {
    "collapsed": true
   },
   "outputs": [],
   "source": []
  },
  {
   "cell_type": "code",
   "execution_count": null,
   "metadata": {
    "collapsed": true
   },
   "outputs": [],
   "source": [
    "def getMinimumCost(k, c, n):\n",
    "    c.sort(reverse=True)\n",
    "    x, y = 0, 0\n",
    "    for i in range(0, n, k):\n",
    "        for j in range(i, i+k if i+k <= n - 1 else n):\n",
    "            x += c[j] * (y + 1)\n",
    "        y += 1\n",
    "    return x"
   ]
  },
  {
   "cell_type": "code",
   "execution_count": null,
   "metadata": {
    "collapsed": true
   },
   "outputs": [],
   "source": [
    "getMinimumCost(k, c, n)"
   ]
  },
  {
   "cell_type": "code",
   "execution_count": null,
   "metadata": {
    "collapsed": true
   },
   "outputs": [],
   "source": []
  },
  {
   "cell_type": "code",
   "execution_count": null,
   "metadata": {
    "collapsed": true
   },
   "outputs": [],
   "source": [
    "a, b, n = 276, 21, 34\n",
    "(a + b) % n == (a%n + b%n)%n #True"
   ]
  },
  {
   "cell_type": "code",
   "execution_count": null,
   "metadata": {
    "collapsed": true
   },
   "outputs": [],
   "source": [
    "(a * b) % n == (a%n * b%n)%n #True"
   ]
  },
  {
   "cell_type": "code",
   "execution_count": null,
   "metadata": {
    "collapsed": true
   },
   "outputs": [],
   "source": [
    "def chocolateFeast(n, c, m):\n",
    "    bal = n % c\n",
    "    eat = n // c\n",
    "    bal += eat\n",
    "    eat += bal // m\n",
    "    bal = (eat - bal) + (bal % m)\n",
    "    eat += bal // m\n",
    "    return eat"
   ]
  },
  {
   "cell_type": "code",
   "execution_count": null,
   "metadata": {
    "collapsed": true
   },
   "outputs": [],
   "source": [
    "chocolateFeast(65044, 608, 1)"
   ]
  },
  {
   "cell_type": "code",
   "execution_count": null,
   "metadata": {
    "collapsed": true
   },
   "outputs": [],
   "source": []
  },
  {
   "cell_type": "code",
   "execution_count": null,
   "metadata": {
    "collapsed": true
   },
   "outputs": [],
   "source": [
    "# Code is not working for n, c, m = 65044, 608, 1\n",
    "for _ in range(1):\n",
    "#     n, c, m = map(int, input().split())\n",
    "    n, c, m = 65044, 608, 1\n",
    "    chocs = n // c\n",
    "    wraps = chocs\n",
    "    while wraps >= m:\n",
    "        chocs += wraps//m\n",
    "        wraps = wraps//m + wraps % m\n",
    "    print(chocs)"
   ]
  },
  {
   "cell_type": "code",
   "execution_count": null,
   "metadata": {
    "collapsed": true
   },
   "outputs": [],
   "source": []
  },
  {
   "cell_type": "code",
   "execution_count": null,
   "metadata": {
    "collapsed": true
   },
   "outputs": [],
   "source": [
    "65044%608"
   ]
  },
  {
   "cell_type": "code",
   "execution_count": null,
   "metadata": {
    "collapsed": true
   },
   "outputs": [],
   "source": [
    "65044//608"
   ]
  },
  {
   "cell_type": "code",
   "execution_count": null,
   "metadata": {
    "collapsed": true
   },
   "outputs": [],
   "source": [
    "596 + 106"
   ]
  },
  {
   "cell_type": "code",
   "execution_count": null,
   "metadata": {
    "collapsed": true
   },
   "outputs": [],
   "source": [
    "106 + (702 // 1)"
   ]
  },
  {
   "cell_type": "code",
   "execution_count": null,
   "metadata": {
    "collapsed": true
   },
   "outputs": [],
   "source": []
  }
 ],
 "metadata": {
  "kernelspec": {
   "display_name": "Python [conda env:scr]",
   "language": "python",
   "name": "conda-env-scr-py"
  },
  "language_info": {
   "codemirror_mode": {
    "name": "ipython",
    "version": 3
   },
   "file_extension": ".py",
   "mimetype": "text/x-python",
   "name": "python",
   "nbconvert_exporter": "python",
   "pygments_lexer": "ipython3",
   "version": "3.6.2"
  }
 },
 "nbformat": 4,
 "nbformat_minor": 2
}
