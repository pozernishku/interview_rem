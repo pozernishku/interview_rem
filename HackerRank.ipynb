{
 "cells": [
  {
   "cell_type": "code",
   "execution_count": null,
   "metadata": {
    "collapsed": true
   },
   "outputs": [],
   "source": [
    "'''New Year Chaos'''"
   ]
  },
  {
   "cell_type": "code",
   "execution_count": null,
   "metadata": {
    "collapsed": true
   },
   "outputs": [],
   "source": [
    "1 2 3 4 5\n",
    "2 1 5 3 4   3\n",
    "2 5 1 3 4   Too chaotic\n",
    "\n",
    "1 2 3 > 1 3 2 > 3 1 2 #2\n",
    "1 2 > 2 1 #1\n",
    "1 2 3 > 2 1 3 > 2 3 1 #2\n",
    "1 2 3 > 2 1 3 > 2 3 1 > 3 2 1 #3   or   1 3 2 > 3 1 2 > 3 2 1 #3\n",
    "3 2 1 - 2 3 1 - 2 1 3 - 1 2 3"
   ]
  },
  {
   "cell_type": "code",
   "execution_count": null,
   "metadata": {
    "collapsed": true,
    "scrolled": true
   },
   "outputs": [],
   "source": [
    "#qs = [2, 1, 5, 3, 4]\n",
    "# qs = [3, 2, 1] # 2 3 1 > 2 1 3\n",
    "qs = [2, 1, 5, 3, 4]\n",
    "# qs = [2, 5, 1, 3, 4]\n",
    "# qs = [5, 1, 2, 3, 7, 8, 6, 4]\n",
    "n = len(qs)\n",
    "def minimumBribes(q, n):\n",
    "    x, y = 0, 0\n",
    "    for i in range(n-1, 0, -1):\n",
    "        for j in range(i):\n",
    "            if q[j] > q[j+1]:\n",
    "                q[j], q[j+1] = q[j+1], q[j]\n",
    "                x += 1\n",
    "                if y >= 2: \n",
    "                    print('Too chaotic')\n",
    "                    return \n",
    "                y += 1\n",
    "            else:\n",
    "                y = 0\n",
    "    print(x)\n",
    "minimumBribes(qs, n)"
   ]
  },
  {
   "cell_type": "code",
   "execution_count": null,
   "metadata": {
    "collapsed": true
   },
   "outputs": [],
   "source": [
    "# 2 1 5 3 4    2 5 1 3 4    i=1  j=1  br=3  \n",
    "q = [5, 1, 2, 3, 7, 8, 6, 4] # [1, 2, 5, 3, 7, 8, 6, 4]  # [5, 1, 2, 3, 7, 8, 6, 4]\n",
    "n = len(q)"
   ]
  },
  {
   "cell_type": "code",
   "execution_count": null,
   "metadata": {
    "collapsed": true
   },
   "outputs": [],
   "source": [
    "def minimumBribes(q, n):\n",
    "    bribes = 0\n",
    "    for i in range(n-1, 0, -1): # changed from -1 to 0\n",
    "        if q[i] - (i + 1) > 2:\n",
    "            print('Too chaotic')\n",
    "            return\n",
    "#         for j in (i-2, i-1) if i > 1 else (0,):\n",
    "        for j in tuple(r for r in range(2, i)) if n-1 == i else (i-2, i-1) if i > 1 else (0,):\n",
    "#         for j in range(max(0, q[i] - 2), i):\n",
    "            if q[j] > q[i]:\n",
    "                bribes+=1\n",
    "#             print(q, f'i={i} j={j}', bribes)\n",
    "    print(bribes)"
   ]
  },
  {
   "cell_type": "code",
   "execution_count": null,
   "metadata": {
    "scrolled": true
   },
   "outputs": [],
   "source": [
    "minimumBribes(q, n)"
   ]
  },
  {
   "cell_type": "code",
   "execution_count": null,
   "metadata": {
    "collapsed": true
   },
   "outputs": [],
   "source": [
    "[5, 1, 2, 3, 7, 8, 6, 4] i=7 j=2 0\n",
    "[5, 1, 2, 3, 7, 8, 6, 4] i=7 j=3 0\n",
    "[5, 1, 2, 3, 7, 8, 6, 4] i=7 j=4 1\n",
    "[5, 1, 2, 3, 7, 8, 6, 4] i=7 j=5 2\n",
    "[5, 1, 2, 3, 7, 8, 6, 4] i=7 j=6 3\n",
    "[5, 1, 2, 3, 7, 8, 6, 4] i=6 j=4 4\n",
    "[5, 1, 2, 3, 7, 8, 6, 4] i=6 j=5 5\n",
    "[5, 1, 2, 3, 7, 8, 6, 4] i=5 j=3 5\n",
    "[5, 1, 2, 3, 7, 8, 6, 4] i=5 j=4 5\n",
    "[5, 1, 2, 3, 7, 8, 6, 4] i=4 j=2 5\n",
    "[5, 1, 2, 3, 7, 8, 6, 4] i=4 j=3 5\n",
    "[5, 1, 2, 3, 7, 8, 6, 4] i=3 j=1 5\n",
    "[5, 1, 2, 3, 7, 8, 6, 4] i=3 j=2 5\n",
    "[5, 1, 2, 3, 7, 8, 6, 4] i=2 j=0 6\n",
    "[5, 1, 2, 3, 7, 8, 6, 4] i=2 j=1 6\n",
    "[5, 1, 2, 3, 7, 8, 6, 4] i=1 j=0 7\n",
    "7"
   ]
  },
  {
   "cell_type": "code",
   "execution_count": null,
   "metadata": {
    "collapsed": true
   },
   "outputs": [],
   "source": [
    "i, n = 7, 8"
   ]
  },
  {
   "cell_type": "code",
   "execution_count": null,
   "metadata": {
    "collapsed": true
   },
   "outputs": [],
   "source": [
    "tuple(r for r in range(2, i)) if n-1 == i else (i-2, i-1) if i > 1 else (0,)"
   ]
  },
  {
   "cell_type": "code",
   "execution_count": null,
   "metadata": {
    "collapsed": true
   },
   "outputs": [],
   "source": [
    "#         for j in range(max(0, q[i] - 2), i):"
   ]
  },
  {
   "cell_type": "code",
   "execution_count": null,
   "metadata": {
    "collapsed": true
   },
   "outputs": [],
   "source": [
    "qs = [2, 1, 5, 3, 4]\n",
    "n = len(qs)\n",
    "res, pos = n, {1,2}\n",
    "for i in range(n):\n",
    "    pos |= {i+3}\n",
    "    print(pos, res)\n",
    "    if qs[i] in pos:\n",
    "        if qs[i]==min(pos): \n",
    "            res -= 1\n",
    "        if qs[i]==max(pos): \n",
    "            res += 1\n",
    "        pos -= {qs[i]}\n",
    "    else:\n",
    "        print('Too chaotic')\n",
    "        break\n",
    "else:\n",
    "    print(res)"
   ]
  },
  {
   "cell_type": "code",
   "execution_count": null,
   "metadata": {
    "collapsed": true
   },
   "outputs": [],
   "source": []
  },
  {
   "cell_type": "code",
   "execution_count": null,
   "metadata": {
    "collapsed": true
   },
   "outputs": [],
   "source": []
  },
  {
   "cell_type": "code",
   "execution_count": null,
   "metadata": {
    "collapsed": true
   },
   "outputs": [],
   "source": [
    "'''2D Array - DS'''"
   ]
  },
  {
   "cell_type": "code",
   "execution_count": null,
   "metadata": {
    "collapsed": true
   },
   "outputs": [],
   "source": [
    "from random import randint"
   ]
  },
  {
   "cell_type": "code",
   "execution_count": null,
   "metadata": {
    "collapsed": true
   },
   "outputs": [],
   "source": [
    "arr = [[randint(-9, 9) for _ in range(6)] for j in range(6)]\n",
    "arr"
   ]
  },
  {
   "cell_type": "code",
   "execution_count": null,
   "metadata": {
    "collapsed": true
   },
   "outputs": [],
   "source": [
    "def hourglassSum(arr):\n",
    "    x = []\n",
    "    for i in range(4):\n",
    "        for j in range(4):\n",
    "            x.append(sum(arr[i][j:j+3] + arr[i+2][j:j+3] + [arr[i+1][j+1]]))\n",
    "    return max(x)"
   ]
  },
  {
   "cell_type": "code",
   "execution_count": null,
   "metadata": {
    "collapsed": true
   },
   "outputs": [],
   "source": [
    "hourglassSum(arr)"
   ]
  },
  {
   "cell_type": "code",
   "execution_count": null,
   "metadata": {
    "collapsed": true
   },
   "outputs": [],
   "source": []
  },
  {
   "cell_type": "code",
   "execution_count": null,
   "metadata": {
    "collapsed": true
   },
   "outputs": [],
   "source": [
    "'''Repeated String'''"
   ]
  },
  {
   "cell_type": "code",
   "execution_count": null,
   "metadata": {
    "collapsed": true
   },
   "outputs": [],
   "source": [
    "s = 'aba'\n",
    "n = 10"
   ]
  },
  {
   "cell_type": "code",
   "execution_count": null,
   "metadata": {
    "collapsed": true
   },
   "outputs": [],
   "source": [
    "def repeatedString(s, n):\n",
    "    l = len(s)\n",
    "    k = n // l\n",
    "    a = s.count('a')\n",
    "    return k * a + s[:n-l*k].count('a')"
   ]
  },
  {
   "cell_type": "code",
   "execution_count": null,
   "metadata": {
    "collapsed": true
   },
   "outputs": [],
   "source": [
    "repeatedString(s, n)"
   ]
  },
  {
   "cell_type": "code",
   "execution_count": null,
   "metadata": {
    "collapsed": true
   },
   "outputs": [],
   "source": [
    "'''Jumping on the Clouds'''"
   ]
  },
  {
   "cell_type": "code",
   "execution_count": null,
   "metadata": {
    "collapsed": true
   },
   "outputs": [],
   "source": [
    "c = [0, 0, 1, 0, 0, 1, 0]"
   ]
  },
  {
   "cell_type": "code",
   "execution_count": null,
   "metadata": {
    "collapsed": true
   },
   "outputs": [],
   "source": [
    "c = [0, 0, 0, 0, 1, 0]"
   ]
  },
  {
   "cell_type": "code",
   "execution_count": null,
   "metadata": {
    "collapsed": true
   },
   "outputs": [],
   "source": [
    "def jumpingOnClouds(c):\n",
    "    n, m, i = len(c), 0, 0\n",
    "    if n == 2:\n",
    "        return 1\n",
    "    while i < n-1:\n",
    "        if i+2 <= n-1 and c[i+2] == 0:\n",
    "            m += 1\n",
    "            i += 2\n",
    "        else:\n",
    "            m += 1\n",
    "            i += 1\n",
    "    return m"
   ]
  },
  {
   "cell_type": "code",
   "execution_count": null,
   "metadata": {
    "collapsed": true
   },
   "outputs": [],
   "source": [
    "jumpingOnClouds(c)"
   ]
  },
  {
   "cell_type": "code",
   "execution_count": null,
   "metadata": {
    "collapsed": true
   },
   "outputs": [],
   "source": []
  },
  {
   "cell_type": "code",
   "execution_count": null,
   "metadata": {
    "collapsed": true
   },
   "outputs": [],
   "source": [
    "'''Counting Valleys'''"
   ]
  },
  {
   "cell_type": "code",
   "execution_count": null,
   "metadata": {
    "collapsed": true
   },
   "outputs": [],
   "source": [
    "s = 'DDUUDDUDUUUD'\n",
    "n = len(s)"
   ]
  },
  {
   "cell_type": "code",
   "execution_count": null,
   "metadata": {
    "collapsed": true
   },
   "outputs": [],
   "source": [
    "def countingValleys(n, s):\n",
    "    k, m, f = 0, 0, False\n",
    "    for c in s:\n",
    "        if k == -1:\n",
    "            f = True\n",
    "        if c == 'D':\n",
    "            k -= 1\n",
    "        elif c == 'U':\n",
    "            k += 1\n",
    "        if k == 0 and f:\n",
    "            m += 1\n",
    "            f = False\n",
    "        print(c, k, m)\n",
    "    return m"
   ]
  },
  {
   "cell_type": "code",
   "execution_count": null,
   "metadata": {
    "collapsed": true
   },
   "outputs": [],
   "source": [
    "countingValleys(n, s)"
   ]
  },
  {
   "cell_type": "code",
   "execution_count": null,
   "metadata": {
    "collapsed": true
   },
   "outputs": [],
   "source": [
    "DDUUDDUDUUUD 2\n",
    "_   _     _/\\_\n",
    " \\  /\\    /\n",
    "  \\/  \\/\\/\n",
    "\n",
    "UDUUUDUDDD 0\n",
    "\n",
    "     /\\/\\\n",
    "    /    \\\n",
    "_/\\/      \\\n",
    "\n",
    "UDDDUDUU 1\n",
    "_/\\      _\n",
    "   \\    /\n",
    "    \\/\\/"
   ]
  },
  {
   "cell_type": "code",
   "execution_count": null,
   "metadata": {
    "collapsed": true
   },
   "outputs": [],
   "source": []
  },
  {
   "cell_type": "code",
   "execution_count": null,
   "metadata": {
    "collapsed": true
   },
   "outputs": [],
   "source": [
    "'''Telegram'''"
   ]
  },
  {
   "cell_type": "code",
   "execution_count": null,
   "metadata": {
    "collapsed": true
   },
   "outputs": [],
   "source": [
    "import telegram"
   ]
  },
  {
   "cell_type": "code",
   "execution_count": null,
   "metadata": {
    "collapsed": true
   },
   "outputs": [],
   "source": [
    "bot = telegram.Bot(token='TOKEN')"
   ]
  },
  {
   "cell_type": "code",
   "execution_count": null,
   "metadata": {
    "collapsed": true
   },
   "outputs": [],
   "source": [
    "print(bot.get_me())"
   ]
  },
  {
   "cell_type": "code",
   "execution_count": null,
   "metadata": {
    "collapsed": true
   },
   "outputs": [],
   "source": []
  },
  {
   "cell_type": "code",
   "execution_count": null,
   "metadata": {
    "collapsed": true
   },
   "outputs": [],
   "source": [
    "s = [6,4,5,2,None,1,0,0]"
   ]
  },
  {
   "cell_type": "code",
   "execution_count": null,
   "metadata": {
    "collapsed": true,
    "scrolled": true
   },
   "outputs": [],
   "source": [
    "for i, c in enumerate(s):\n",
    "    print(i, c)"
   ]
  },
  {
   "cell_type": "code",
   "execution_count": null,
   "metadata": {
    "collapsed": true
   },
   "outputs": [],
   "source": [
    "'''Common Child'''"
   ]
  },
  {
   "cell_type": "code",
   "execution_count": null,
   "metadata": {
    "collapsed": true
   },
   "outputs": [],
   "source": [
    "'''\n",
    "NHA -> 3\n",
    "SHINCHAN HA -> 2, NHA -> 3, HA -> 2, A -> 1, N -> 1\n",
    "NOHARAAA\n",
    "\n",
    "0\n",
    "AA\n",
    "BB\n",
    "\n",
    "AY -> 2\n",
    "HARRY AY -> 2, Y -> 1\n",
    "SALLY\n",
    "\n",
    "ABC, ABD -> 3, D -> 1\n",
    "ABCD\n",
    "ABDC\n",
    "\n",
    "ABCD -> 4, C -> 1\n",
    "ABCDC\n",
    "ABDCD\n",
    "\n",
    "BD -> 2\n",
    "ABCDEF A -> 1, BD -> 2, F -> 1\n",
    "FBDAMN\n",
    "'''"
   ]
  },
  {
   "cell_type": "code",
   "execution_count": null,
   "metadata": {
    "collapsed": true
   },
   "outputs": [],
   "source": [
    "s1, s2 = 'WEWOUCUIDGCGTRMEZEPXZFEJWISRSBBSYXAYDFEJJDLEBVHHKS', 'FDAGCXGKCTKWNECHMRXZWMLRYUCOCZHJRRJBOAJOQJZZVUYXIC'"
   ]
  },
  {
   "cell_type": "code",
   "execution_count": null,
   "metadata": {
    "collapsed": true
   },
   "outputs": [],
   "source": [
    "from pprint import pprint"
   ]
  },
  {
   "cell_type": "code",
   "execution_count": null,
   "metadata": {
    "collapsed": true
   },
   "outputs": [],
   "source": [
    "a, b = [8, 2, 3, 5, 7], [2, 3, 6, 5, 4]"
   ]
  },
  {
   "cell_type": "code",
   "execution_count": null,
   "metadata": {
    "collapsed": true
   },
   "outputs": [],
   "source": [
    "a, b = 'ABCDEF', 'FBDAMN'"
   ]
  },
  {
   "cell_type": "code",
   "execution_count": null,
   "metadata": {
    "collapsed": true
   },
   "outputs": [],
   "source": [
    "def commonChild(a, b):\n",
    "    print(a, b)\n",
    "    n = len(a)\n",
    "    if n == 0: return 0\n",
    "    \n",
    "    l = [[0 if i == 0 or j == 0 else None for j in range(n+1)] for i in range(n+1)]\n",
    "    pprint(l)\n",
    "    \n",
    "    for i in range(n):\n",
    "        for j in range(n):\n",
    "            if a[i] != b[j]:\n",
    "                l[i+1][j+1] = max(l[i][j+1], l[i+1][j])\n",
    "            else: # a[i] == b[j]:\n",
    "                l[i+1][j+1] = 1 + l[i][j]\n",
    "    else:\n",
    "        pprint(l)\n",
    "        return l[i+1][j+1]"
   ]
  },
  {
   "cell_type": "code",
   "execution_count": null,
   "metadata": {
    "collapsed": true
   },
   "outputs": [],
   "source": [
    "commonChild(a, b)"
   ]
  },
  {
   "cell_type": "code",
   "execution_count": null,
   "metadata": {
    "collapsed": true
   },
   "outputs": [],
   "source": [
    "a = 'ABCDEF'\n",
    "b = 'FBDAMN'\n",
    "\n",
    "n = len(a)\n",
    "if n == 0: result = 0\n",
    "\n",
    "l = [[0]*(n+1) for _ in range(n+1)]\n",
    "pprint(l)\n",
    "\n",
    "for i, ca in enumerate(a):\n",
    "    for j, cb in enumerate(b):\n",
    "        if ca != cb:\n",
    "            l[i][j] = max(l[i][j-1], l[i-1][j])\n",
    "        else:\n",
    "            l[i][j] = 1 + l[i-1][j-1]\n",
    "else: result = l[i][j]\n",
    "\n",
    "pprint(l)\n",
    "\n",
    "print(result)"
   ]
  },
  {
   "cell_type": "code",
   "execution_count": null,
   "metadata": {
    "collapsed": true
   },
   "outputs": [],
   "source": []
  },
  {
   "cell_type": "code",
   "execution_count": null,
   "metadata": {
    "collapsed": true
   },
   "outputs": [],
   "source": [
    "'''Special Palindrome Again'''"
   ]
  },
  {
   "cell_type": "code",
   "execution_count": null,
   "metadata": {
    "collapsed": true
   },
   "outputs": [],
   "source": [
    "s = 'aabaaza' # 7+2+2+0+1+0 = 12   ;9+"
   ]
  },
  {
   "cell_type": "code",
   "execution_count": null,
   "metadata": {
    "collapsed": true
   },
   "outputs": [],
   "source": [
    "# 1 -> 1; 3 -> 6; 3 -> 3+0+1 -> 4      5 -> 15; 5 -> 5+2+1+0+1 -> 9;   7 -> 28; 7 -> 7+4+3+0+1+1 -> 16\n",
    "# 9 -> 45;   9 -> 9+6+5+2+1+0+1+0+1 -> 25\n",
    "# 4 -> 4+3+2+1 -> 10; 5 -> 5+4+3+2+1 -> 15; 6 -> 6+5+4+3+2+1 -> 21; (6 ** 2 + 6)//2\n",
    "# 4, 9, 16, 25\n",
    "# 0, 1, 2, 3, 4,  5,  6,  7\n",
    "# 0, 1, 3, 5, 7,  9,  11, 13\n",
    "# 0, 1, 4, 9, 16, 25, 36, 49"
   ]
  },
  {
   "cell_type": "code",
   "execution_count": null,
   "metadata": {
    "collapsed": true
   },
   "outputs": [],
   "source": [
    "# aaaazaa [('a', 4), ('z', 1), ('a', 2)] 7+4+3+1+1+0+0=16;  10+3+3=16 = 3   +  10+3 = 16\n",
    "# aazaaka [('a', 2), ('z', 1), ('a', 2), ('k', 1), ('a', 1)] 7+2+2+0+1+0+0=12;  3+3+3+2+1=12 = 3+2+1 + 3+3 = 12\n",
    "# akaazaa [('a', 1), ('k', 1), ('a', 2), ('z', 1), ('a', 2)] 7+2+2+0+1+0+0=12;  1+2+3+3+3=12 = 1+2+3 + 3+3 = 12\n",
    "# aba     [('a', 1), ('b', 1), ('a', 1)] 1+2+1=4\n",
    "# zxc     [('z', 1), ('x', 1), ('c', 1)] 1+1+1=3\n",
    "#          print(s, i, i+1, s[i], s[i+1], c, pc, x)\n",
    "s = 'asasd' # 6+3+3+1+0+0 = 13 = 13; 16; 7+4+3+1+1+0+0 = 16; 10+3+3 = 16  aaaazaa"
   ]
  },
  {
   "cell_type": "code",
   "execution_count": null,
   "metadata": {
    "collapsed": true
   },
   "outputs": [],
   "source": [
    "def substrCount(n, s):\n",
    "    pc, c, x = 0, 1, []\n",
    "    for i in range(n):\n",
    "        if i+1 > n-1:\n",
    "            x.append((s[i], c))\n",
    "            break\n",
    "        elif s[i] == s[i+1]:\n",
    "            c += 1\n",
    "            if i+2 > n-1:\n",
    "                pc += (c ** 2 + c)//2\n",
    "            elif s[i] != s[i+2]:\n",
    "                pc += (c ** 2 + c)//2\n",
    "        elif s[i] != s[i+1]:\n",
    "            x.append((s[i], c))\n",
    "            c = 1\n",
    "    print(x, pc)\n",
    "    \n",
    "    m = len(x)\n",
    "    for i in range(m):\n",
    "        if x[i][1] == 1 and i == 0:\n",
    "            pc += 1\n",
    "        elif x[i][1] == 1 and i == m-1:\n",
    "            pc += 1\n",
    "        elif x[i][1] == 1 and x[i-1][0] == x[i+1][0]:\n",
    "            pc += 1 + min(x[i-1][1], x[i+1][1])\n",
    "        elif x[i][1] == 1:\n",
    "            pc += 1\n",
    "        print('loop', i, pc)\n",
    "\n",
    "    return pc"
   ]
  },
  {
   "cell_type": "code",
   "execution_count": null,
   "metadata": {
    "collapsed": true
   },
   "outputs": [],
   "source": [
    "substrCount(len(s), s)"
   ]
  },
  {
   "cell_type": "code",
   "execution_count": null,
   "metadata": {
    "collapsed": true
   },
   "outputs": [],
   "source": [
    "ln = len(s)"
   ]
  },
  {
   "cell_type": "code",
   "execution_count": null,
   "metadata": {
    "collapsed": true
   },
   "outputs": [],
   "source": [
    "(ln ** 2 + ln)//2"
   ]
  },
  {
   "cell_type": "code",
   "execution_count": null,
   "metadata": {
    "collapsed": true
   },
   "outputs": [],
   "source": [
    "(ln-(ln//2))**2"
   ]
  },
  {
   "cell_type": "code",
   "execution_count": null,
   "metadata": {
    "collapsed": true
   },
   "outputs": [],
   "source": []
  },
  {
   "cell_type": "code",
   "execution_count": null,
   "metadata": {
    "collapsed": true
   },
   "outputs": [],
   "source": []
  },
  {
   "cell_type": "code",
   "execution_count": null,
   "metadata": {
    "collapsed": true
   },
   "outputs": [],
   "source": [
    "'''Sherlock and the Valid String'''"
   ]
  },
  {
   "cell_type": "code",
   "execution_count": null,
   "metadata": {
    "collapsed": true
   },
   "outputs": [],
   "source": [
    "s = 'aabbccddeefghi'"
   ]
  },
  {
   "cell_type": "code",
   "execution_count": null,
   "metadata": {
    "collapsed": true
   },
   "outputs": [],
   "source": [
    "s = 'aaabbcc'"
   ]
  },
  {
   "cell_type": "code",
   "execution_count": null,
   "metadata": {
    "collapsed": true
   },
   "outputs": [],
   "source": [
    "s = 'ibfdgaeadiaefgbhbdghhhbgdfgeiccbiehhfcggchgghadhdhagfbahhddgghbdehidbibaeaagaeeigffcebfbaieggabcfbiiedcabfihchdfabifahcbhagccbdfifhghcadfiadeeaheeddddiecaicbgigccageicehfdhdgafaddhffadigfhhcaedcedecafeacbdacgfgfeeibgaiffdehigebhhehiaahfidibccdcdagifgaihacihadecgifihbebffebdfbchbgigeccahgihbcbcaggebaaafgfedbfgagfediddghdgbgehhhifhgcedechahidcbchebheihaadbbbiaiccededchdagfhccfdefigfibifabeiaccghcegfbcghaefifbachebaacbhbfgfddeceababbacgffbagidebeadfihaefefegbghgddbbgddeehgfbhafbccidebgehifafgbghafacgfdccgifdcbbbidfifhdaibgigebigaedeaaiadegfefbhacgddhchgcbgcaeaieiegiffchbgbebgbehbbfcebciiagacaiechdigbgbghefcahgbhfibhedaeeiffebdiabcifgccdefabccdghehfibfiifdaicfedagahhdcbhbicdgibgcedieihcichadgchgbdcdagaihebbabhibcihicadgadfcihdheefbhffiageddhgahaidfdhhdbgciiaciegchiiebfbcbhaeagccfhbfhaddagnfieihghfbaggiffbbfbecgaiiidccdceadbbdfgigibgcgchafccdchgifdeieicbaididhfcfdedbhaadedfageigfdehgcdaecaebebebfcieaecfagfdieaefdiedbcadchabhebgehiidfcgahcdhcdhgchhiiheffiifeegcfdgbdeffhgeghdfhbfbifgidcafbfcd'"
   ]
  },
  {
   "cell_type": "code",
   "execution_count": null,
   "metadata": {
    "collapsed": true
   },
   "outputs": [],
   "source": [
    "s = 'aaaaabc'"
   ]
  },
  {
   "cell_type": "code",
   "execution_count": null,
   "metadata": {
    "collapsed": true
   },
   "outputs": [],
   "source": [
    "from collections import Counter\n",
    "def isValid(s):\n",
    "    c = Counter(s)\n",
    "    cl, ls = len(c), sorted(c.values(), reverse=True)\n",
    "    print(ls, cl, c)\n",
    "    if cl == 1: \n",
    "        return 'YES'\n",
    "    a, b, c, d = ls[0], ls[1], ls[-2], ls[-1]\n",
    "    if a == b == c == d:\n",
    "        return 'YES'\n",
    "    elif a - d == 1:\n",
    "        if b - c == 0:\n",
    "            return 'YES'\n",
    "        else:\n",
    "            return 'NO'\n",
    "    elif d == 1:\n",
    "        if c == a:\n",
    "            return 'YES'\n",
    "        else:\n",
    "            return 'NO'\n",
    "    else:\n",
    "        return 'NO'"
   ]
  },
  {
   "cell_type": "code",
   "execution_count": null,
   "metadata": {
    "collapsed": true,
    "scrolled": true
   },
   "outputs": [],
   "source": [
    "isValid(s)"
   ]
  },
  {
   "cell_type": "code",
   "execution_count": null,
   "metadata": {
    "collapsed": true
   },
   "outputs": [],
   "source": []
  },
  {
   "cell_type": "code",
   "execution_count": null,
   "metadata": {
    "collapsed": true
   },
   "outputs": [],
   "source": [
    "from itertools import permutations"
   ]
  },
  {
   "cell_type": "code",
   "execution_count": null,
   "metadata": {
    "collapsed": true
   },
   "outputs": [],
   "source": [
    "a = 'eggegg'"
   ]
  },
  {
   "cell_type": "code",
   "execution_count": null,
   "metadata": {
    "collapsed": true
   },
   "outputs": [],
   "source": [
    "def reverseShuffleMerge(s):\n",
    "    n = len(s)\n",
    "    reversed_half = s[n//2-1::-1]\n",
    "    shuffle = list(map(''.join, permutations(reversed_half, n//2)))\n",
    "    print(reversed_half, shuffle, s)\n",
    "    def merge(x, y):\n",
    "        return x, y\n",
    "    return merge(reversed_half, shuffle[-2])\n",
    "    "
   ]
  },
  {
   "cell_type": "code",
   "execution_count": null,
   "metadata": {
    "collapsed": true
   },
   "outputs": [],
   "source": [
    "reverseShuffleMerge(a)"
   ]
  },
  {
   "cell_type": "code",
   "execution_count": null,
   "metadata": {
    "collapsed": true
   },
   "outputs": [],
   "source": [
    "'agfedcb' < 'bcdefga'"
   ]
  },
  {
   "cell_type": "code",
   "execution_count": null,
   "metadata": {
    "collapsed": true
   },
   "outputs": [],
   "source": [
    "'egg' < 'gge'"
   ]
  },
  {
   "cell_type": "code",
   "execution_count": null,
   "metadata": {
    "collapsed": true
   },
   "outputs": [],
   "source": []
  },
  {
   "cell_type": "code",
   "execution_count": null,
   "metadata": {
    "collapsed": true
   },
   "outputs": [],
   "source": []
  },
  {
   "cell_type": "code",
   "execution_count": null,
   "metadata": {
    "collapsed": true
   },
   "outputs": [],
   "source": []
  },
  {
   "cell_type": "code",
   "execution_count": null,
   "metadata": {
    "collapsed": true
   },
   "outputs": [],
   "source": [
    "n, k = 20, 5"
   ]
  },
  {
   "cell_type": "code",
   "execution_count": null,
   "metadata": {
    "collapsed": true
   },
   "outputs": [],
   "source": [
    "a = u"
   ]
  },
  {
   "cell_type": "code",
   "execution_count": null,
   "metadata": {
    "collapsed": true
   },
   "outputs": [],
   "source": [
    "def maxMin(k, a, n):\n",
    "    a.sort()\n",
    "    y = 10**9\n",
    "    for i in range(0, n-k+1):\n",
    "        x = a[i+k-1] - a[i]\n",
    "        if x < y:\n",
    "            y = x\n",
    "    return y\n"
   ]
  },
  {
   "cell_type": "code",
   "execution_count": null,
   "metadata": {
    "collapsed": true
   },
   "outputs": [],
   "source": [
    "maxMin(k, a, n)"
   ]
  },
  {
   "cell_type": "code",
   "execution_count": null,
   "metadata": {
    "collapsed": true
   },
   "outputs": [],
   "source": [
    "u = '''4504\n",
    "1520\n",
    "5857\n",
    "4094\n",
    "4157\n",
    "3902\n",
    "822\n",
    "6643\n",
    "2422\n",
    "7288\n",
    "8245\n",
    "9948\n",
    "2822\n",
    "1784\n",
    "7802\n",
    "3142\n",
    "9739\n",
    "5629\n",
    "5413\n",
    "7232'''"
   ]
  },
  {
   "cell_type": "code",
   "execution_count": null,
   "metadata": {
    "collapsed": true
   },
   "outputs": [],
   "source": [
    "u = list(map(int, u.split('\\n')))"
   ]
  },
  {
   "cell_type": "code",
   "execution_count": null,
   "metadata": {
    "collapsed": true
   },
   "outputs": [],
   "source": [
    "2822 - 822"
   ]
  },
  {
   "cell_type": "code",
   "execution_count": null,
   "metadata": {
    "collapsed": true
   },
   "outputs": [],
   "source": []
  },
  {
   "cell_type": "code",
   "execution_count": null,
   "metadata": {
    "collapsed": true
   },
   "outputs": [],
   "source": []
  },
  {
   "cell_type": "code",
   "execution_count": null,
   "metadata": {
    "collapsed": true
   },
   "outputs": [],
   "source": [
    "n, k = 5, 3\n",
    "c = [1, 3, 5, 7, 9]"
   ]
  },
  {
   "cell_type": "code",
   "execution_count": null,
   "metadata": {
    "collapsed": true
   },
   "outputs": [],
   "source": []
  },
  {
   "cell_type": "code",
   "execution_count": null,
   "metadata": {
    "collapsed": true
   },
   "outputs": [],
   "source": [
    "def getMinimumCost(k, c, n):\n",
    "    c.sort(reverse=True)\n",
    "    x, y = 0, 0\n",
    "    for i in range(0, n, k):\n",
    "        for j in range(i, i+k if i+k <= n - 1 else n):\n",
    "            x += c[j] * (y + 1)\n",
    "        y += 1\n",
    "    return x"
   ]
  },
  {
   "cell_type": "code",
   "execution_count": null,
   "metadata": {
    "collapsed": true
   },
   "outputs": [],
   "source": [
    "getMinimumCost(k, c, n)"
   ]
  },
  {
   "cell_type": "code",
   "execution_count": null,
   "metadata": {
    "collapsed": true
   },
   "outputs": [],
   "source": []
  },
  {
   "cell_type": "code",
   "execution_count": null,
   "metadata": {
    "collapsed": true
   },
   "outputs": [],
   "source": [
    "a, b, n = 276, 21, 34\n",
    "(a + b) % n == (a%n + b%n)%n #True"
   ]
  },
  {
   "cell_type": "code",
   "execution_count": null,
   "metadata": {
    "collapsed": true
   },
   "outputs": [],
   "source": [
    "(a * b) % n == (a%n * b%n)%n #True"
   ]
  },
  {
   "cell_type": "code",
   "execution_count": null,
   "metadata": {
    "collapsed": true
   },
   "outputs": [],
   "source": [
    "def chocolateFeast(n, c, m):\n",
    "    bal = n % c\n",
    "    eat = n // c\n",
    "    bal += eat\n",
    "    eat += bal // m\n",
    "    bal = (eat - bal) + (bal % m)\n",
    "    eat += bal // m\n",
    "    return eat"
   ]
  },
  {
   "cell_type": "code",
   "execution_count": null,
   "metadata": {
    "collapsed": true
   },
   "outputs": [],
   "source": [
    "chocolateFeast(65044, 608, 1)"
   ]
  },
  {
   "cell_type": "code",
   "execution_count": null,
   "metadata": {
    "collapsed": true
   },
   "outputs": [],
   "source": []
  },
  {
   "cell_type": "code",
   "execution_count": null,
   "metadata": {
    "collapsed": true
   },
   "outputs": [],
   "source": [
    "# Code is not working for n, c, m = 65044, 608, 1\n",
    "for _ in range(1):\n",
    "#     n, c, m = map(int, input().split())\n",
    "    n, c, m = 65044, 608, 1\n",
    "    chocs = n // c\n",
    "    wraps = chocs\n",
    "    while wraps >= m:\n",
    "        chocs += wraps//m\n",
    "        wraps = wraps//m + wraps % m\n",
    "    print(chocs)"
   ]
  },
  {
   "cell_type": "code",
   "execution_count": null,
   "metadata": {
    "collapsed": true
   },
   "outputs": [],
   "source": []
  }
 ],
 "metadata": {
  "kernelspec": {
   "display_name": "Python [conda env:scr]",
   "language": "python",
   "name": "conda-env-scr-py"
  },
  "language_info": {
   "codemirror_mode": {
    "name": "ipython",
    "version": 3
   },
   "file_extension": ".py",
   "mimetype": "text/x-python",
   "name": "python",
   "nbconvert_exporter": "python",
   "pygments_lexer": "ipython3",
   "version": "3.6.2"
  }
 },
 "nbformat": 4,
 "nbformat_minor": 2
}
