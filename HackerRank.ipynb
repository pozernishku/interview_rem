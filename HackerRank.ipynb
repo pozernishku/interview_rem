{
 "cells": [
  {
   "cell_type": "code",
   "execution_count": null,
   "metadata": {
    "collapsed": true
   },
   "outputs": [],
   "source": [
    "'''Mark and Toys'''"
   ]
  },
  {
   "cell_type": "code",
   "execution_count": null,
   "metadata": {
    "collapsed": true
   },
   "outputs": [],
   "source": [
    "def maximumToys(p, k, n):\n",
    "    s=0\n",
    "    c=0\n",
    "    for i in range(n-1):\n",
    "        mi=i\n",
    "        for j in range(i+1,n):\n",
    "            if p[mi]>p[j]:\n",
    "                mi=j\n",
    "        \n",
    "        p[i],p[mi]=p[mi],p[i]\n",
    "        s+=p[i]\n",
    "        c+=1\n",
    "        print(s,c,k)\n",
    "        if s <= k:\n",
    "            print('hhh',s,c,k)\n",
    "            \n",
    "    return c, p"
   ]
  },
  {
   "cell_type": "code",
   "execution_count": null,
   "metadata": {
    "collapsed": true
   },
   "outputs": [],
   "source": [
    "maximumToys([1,12,5,111,200,1000,10],50,7)"
   ]
  },
  {
   "cell_type": "code",
   "execution_count": null,
   "metadata": {
    "collapsed": true
   },
   "outputs": [],
   "source": [
    "def maximumToys(prices, k):\n",
    "    prices = sorted(prices)\n",
    "    maxPrice = 0\n",
    "    count = 0\n",
    "    while (maxPrice <= k):\n",
    "        maxPrice += prices.pop(0)\n",
    "        count +=1\n",
    "    return count-1"
   ]
  },
  {
   "cell_type": "code",
   "execution_count": null,
   "metadata": {
    "collapsed": true
   },
   "outputs": [],
   "source": [
    "def maximumToys(p, k, n):\n",
    "    s,c=0,0\n",
    "    for i in range(n-1):\n",
    "        mi=i\n",
    "        for j in range(i+1,n):\n",
    "            if p[mi]>p[j]:\n",
    "                mi=j\n",
    "        \n",
    "        p[i],p[mi]=p[mi],p[i]\n",
    "        s+=p[i]\n",
    "        \n",
    "        if s>=k: break\n",
    "        else: c+=1\n",
    "\n",
    "    return c"
   ]
  },
  {
   "cell_type": "code",
   "execution_count": null,
   "metadata": {
    "collapsed": true
   },
   "outputs": [],
   "source": [
    "N,K = map(int, input().strip().split())\n",
    "assert 1 <= N <= 10**5 and 1 <= K <= 10**9\n",
    "lis = map(int, input().strip().split())\n",
    "for toy in lis:\n",
    "    assert 1 <= toy <= 10**5\n",
    "    print(toy)\n",
    "    \n",
    "lis.sort()\n",
    "    \n",
    "count = 0\n",
    "for i in range(N-1):\n",
    "    K -= lis[i]\n",
    "    if K < 0:\n",
    "        print(count)\n",
    "        exit(0)\n",
    "    else:\n",
    "        count += 1\n",
    "    \n",
    "print(count)"
   ]
  },
  {
   "cell_type": "code",
   "execution_count": null,
   "metadata": {
    "collapsed": true
   },
   "outputs": [],
   "source": []
  },
  {
   "cell_type": "code",
   "execution_count": null,
   "metadata": {
    "collapsed": true
   },
   "outputs": [],
   "source": [
    "'''Array Manipulation'''"
   ]
  },
  {
   "cell_type": "code",
   "execution_count": null,
   "metadata": {
    "collapsed": true
   },
   "outputs": [],
   "source": [
    "def arrayManipulation(n, m, queries): # not solved\n",
    "    mx = max([k[1] for k in queries])\n",
    "    arr = [0] * mx\n",
    "    for q in queries:\n",
    "        r = range(q[0]-1,q[1])\n",
    "        for i in r:\n",
    "            arr[i] += q[2]\n",
    "    return max(arr)"
   ]
  },
  {
   "cell_type": "code",
   "execution_count": null,
   "metadata": {
    "collapsed": true
   },
   "outputs": [],
   "source": []
  },
  {
   "cell_type": "code",
   "execution_count": null,
   "metadata": {
    "collapsed": true
   },
   "outputs": [],
   "source": [
    "'''Minimum Swaps'''"
   ]
  },
  {
   "cell_type": "code",
   "execution_count": null,
   "metadata": {
    "collapsed": true
   },
   "outputs": [],
   "source": [
    "def minimumSwaps(arr):\n",
    "    c = 0\n",
    "    for k in range(len(arr)):\n",
    "        m = min(arr[k:])\n",
    "        if m < arr[k]:\n",
    "            c += 1\n",
    "            i = arr.index(m)\n",
    "            arr[k], arr[i] = arr[i], arr[k]\n",
    "    return c\n",
    "ar = [3,2,1,5,4]\n",
    "minimumSwaps(ar)\n",
    "\n",
    "a = [3,2,1]\n",
    "\n",
    "len(a) - 1\n",
    "\n",
    "a[0]\n",
    "\n",
    "\n",
    "\n",
    "def minimumSwaps(arr):\n",
    "    x = 0\n",
    "    for k in range(len(arr)):\n",
    "        mi = k\n",
    "        for j in range(k + 1, len(arr)):\n",
    "            if arr[mi] > arr[j]:\n",
    "                mi = j\n",
    "                \n",
    "        arr[k], arr[mi] = arr[mi], arr[k]\n",
    "        print('mi changed',arr,mi,k)\n",
    "        x = x + 1 if mi != k else x\n",
    "        \n",
    "    return x\n",
    "\n",
    "z = [4, 3, 1, 2]\n",
    "minimumSwaps(z)\n",
    "\n",
    "\n",
    "\n",
    "[1, 3, 5, 2, 4, 6, 8]\n",
    "\n",
    "[7, 1, 3, 2, 4, 5, 6]\n",
    "[1, 2, 3, 4, 5, 6, 7]\n",
    "\n",
    "# 1. Sort list (or len(arr) and generate list comprehension)\n",
    "# 2. Go through every element of both arrays (sorted and not sorted) O(n) \n",
    "# 3. swap: \n",
    "# idx = arr2.index(arr[i0])\n",
    "# arr[i0], arr[idx] = arr[idx], arr[i0]\n",
    "[2, 3, 4, 1, 5]\n",
    "[1, 2, 3, 4, 5]\n",
    "\n",
    "[3, 2, 4, 1, 5]\n",
    "[3, 2, 4, 1, 5]\n",
    "[3, 2, 1, 4, 5]\n",
    "[3, 2, 1, 4, 5]\n",
    "\n",
    "\n",
    "[6, 1, 3, 2, 4, 5, 7]\n",
    "[1, 6, 3, 2, 4, 5, 7]\n",
    "[1, 2, 3, 6, 4, 5, 7]\n",
    "[1, 2, 3, 4, 6, 5, 7]\n",
    "[1, 2, 3, 4, 5, 6, 7]\n",
    "\n",
    "def minimumSwaps(arr):\n",
    "    arr2 = [i + 1 for i in range(len(arr))]\n",
    "    for i in range(len(arr)):\n",
    "        idx = arr2.index(arr[i])\n",
    "        print(arr,i,idx,arr2,arr[i],arr[idx])\n",
    "        arr[i], arr[idx] = arr[idx], arr[i]\n",
    "            \n",
    "        \n",
    "    return arr\n",
    "\n",
    "z = [2, 3, 4, 1, 5]\n",
    "minimumSwaps(z)\n",
    "\n",
    "\n",
    "\n",
    "def minimumSwaps(arr):\n",
    "    j = 0\n",
    "    x = 0\n",
    "    arr2 = [i + 1 for i in range(len(arr))]\n",
    "    for i in arr2:\n",
    "        idx = arr.index(i) # find index of inserted element in arr\n",
    "        eras = arr[j]\n",
    "        if i != arr[j]:\n",
    "            arr[j] = i # insert element into unsorted arr\n",
    "            arr[idx] = eras # insert erased value into that arr index\n",
    "            x += 1\n",
    "        j += 1\n",
    "        print('after', idx, eras, arr, arr2)\n",
    "    return arr, x\n",
    "\n",
    "z = [7, 1, 3, 2, 4, 5, 6]\n",
    "minimumSwaps(z)\n",
    "\n",
    "\n",
    "\n",
    "# 1. loop through sorted arr2 and insert element into unsorted arr\n",
    "# 2. find index of inserted element in arr\n",
    "# 3. insert erased value into that arr index\n",
    "[1, 7, 3, 2, 4, 5, 6]\n",
    "[1, 2, 3, 7, 4, 5, 6]\n",
    "[1, 2, 3, 4, 7, 5, 6]\n",
    "[1, 2, 3, 4, 5, 7, 6]\n",
    "[1, 2, 3, 4, 5, 6, 7]\n",
    "\n",
    "[1, 3, 4, 2, 5]\n",
    "[1, 2, 4, 3, 5]\n",
    "[1, 2, 3, 4, 5]"
   ]
  },
  {
   "cell_type": "code",
   "execution_count": null,
   "metadata": {
    "collapsed": true
   },
   "outputs": [],
   "source": []
  },
  {
   "cell_type": "code",
   "execution_count": null,
   "metadata": {
    "collapsed": true
   },
   "outputs": [],
   "source": [
    "'''Fraudulent Activity Notifications'''"
   ]
  },
  {
   "cell_type": "code",
   "execution_count": null,
   "metadata": {
    "collapsed": true
   },
   "outputs": [],
   "source": [
    "#!/bin/python3\n",
    "\n",
    "import math\n",
    "import os\n",
    "import random\n",
    "import re\n",
    "import sys\n",
    "from statistics import median\n",
    "\n",
    "\n",
    "# Complete the activityNotifications function below.\n",
    "def activityNotifications(expenditure, d, n):\n",
    "    nf = 0\n",
    "    m = 0\n",
    "    #[2, 3, 4, 2, 3, 6, 8, 4, 5] 9 5\n",
    "    #[6, 8, 4, 5] a\n",
    "    #[2, 3, 4, 2, 3] q\n",
    "    \n",
    "    #1 2 3 4 4     5 4\n",
    "    a = expenditure[d:]\n",
    "    q = sorted(expenditure[:d])\n",
    "    m = median(q)\n",
    "    \n",
    "    for i in range(n-d):\n",
    "        if a[i] >= 2*m:\n",
    "            nf += 1\n",
    "        \n",
    "        for j in range(d):\n",
    "            if a[i] < q[j]:\n",
    "                q.insert(j, a[i])\n",
    "                q.pop(0)\n",
    "                break\n",
    "                \n",
    "        if d % 2 == 0:\n",
    "            m = sum(q[d//2-1:d//2+1]) / 2\n",
    "        else:\n",
    "            m = q[d//2]\n",
    "        \n",
    "        # q = sorted(expenditure[i:i+d])\n",
    "        # if d % 2 == 0:\n",
    "            # m = sum(q[d//2-1:d//2+1]) / 2\n",
    "            # m = statistics.median(q)\n",
    "        # else:\n",
    "            # m = q[d//2]\n",
    "            \n",
    "        # print('q:{} a:{} a[i]:{} m:{} i:{} nf:{}'.format(q,a,a[i],m,i,nf))\n",
    "        \n",
    "    return nf\n",
    "        \n",
    "if __name__ == '__main__':\n",
    "    fptr = open(os.environ['OUTPUT_PATH'], 'w')\n",
    "\n",
    "    nd = input().split()\n",
    "\n",
    "    n = int(nd[0])\n",
    "\n",
    "    d = int(nd[1])\n",
    "\n",
    "    expenditure = list(map(int, input().rstrip().split()))\n",
    "\n",
    "    result = activityNotifications(expenditure, d, n)\n",
    "\n",
    "    fptr.write(str(result) + '\\n')\n",
    "\n",
    "    fptr.close()\n"
   ]
  },
  {
   "cell_type": "code",
   "execution_count": null,
   "metadata": {
    "collapsed": true
   },
   "outputs": [],
   "source": [
    "def activityNotifications(expenditure, n, d):\n",
    "    nf, m, j = 0, 0, 0\n",
    "    m = median(expenditure[:d])\n",
    "    \n",
    "    for i in range(d, n):\n",
    "        if expenditure[i] >= 2*m:\n",
    "            nf += 1\n",
    "        j += 1\n",
    "        m = median(expenditure[j:i+1])\n",
    "    \n",
    "    return nf\n",
    "        "
   ]
  },
  {
   "cell_type": "code",
   "execution_count": null,
   "metadata": {
    "collapsed": true
   },
   "outputs": [],
   "source": [
    "    a = expenditure[d:]\n",
    "    q = sorted(expenditure[:d])\n",
    "    m = median(q)\n",
    "    \n",
    "    for i in range(n-d):\n",
    "        if a[i] >= 2*m:\n",
    "            nf += 1\n",
    "        \n",
    "        for j in range(d):\n",
    "            if a[i] < q[j]:\n",
    "                q.insert(j, a[i])\n",
    "                q.pop(0)\n",
    "                break\n",
    "                \n",
    "        if d % 2 == 0:\n",
    "            m = sum(q[d//2-1:d//2+1]) / 2\n",
    "        else:\n",
    "            m = q[d//2]\n",
    "        \n",
    "        # q = sorted(expenditure[i:i+d])\n",
    "        # if d % 2 == 0:\n",
    "            # m = sum(q[d//2-1:d//2+1]) / 2\n",
    "            # m = statistics.median(q)\n",
    "        # else:\n",
    "            # m = q[d//2]\n",
    "            \n",
    "        # print('q:{} a:{} a[i]:{} m:{} i:{} nf:{}'.format(q,a,a[i],m,i,nf))\n",
    "        \n",
    "    return nf"
   ]
  },
  {
   "cell_type": "code",
   "execution_count": null,
   "metadata": {
    "collapsed": true
   },
   "outputs": [],
   "source": [
    "def activityNotifications(expenditure, n, d):\n",
    "    nf, m = 0, 0\n",
    "    \n",
    "    ar = counting_sort(expenditure[:d])\n",
    "\n",
    "    if d % 2 == 0:\n",
    "        m = sum(ar[d//2-1:d//2+1]) / 2\n",
    "    else:\n",
    "        m = ar[d//2]\n",
    "    \n",
    "    for j in range(d, n):\n",
    "        if expenditure[j] >= 2*m:\n",
    "            nf += 1\n",
    "            \n",
    "    print(expenditure, ar, nf)\n",
    "    return nf"
   ]
  },
  {
   "cell_type": "code",
   "execution_count": null,
   "metadata": {
    "collapsed": true
   },
   "outputs": [],
   "source": [
    "a, n, d = [2, 3, 4, 2, 3, 6, 8, 4, 5], 9, 5"
   ]
  },
  {
   "cell_type": "code",
   "execution_count": null,
   "metadata": {
    "collapsed": true
   },
   "outputs": [],
   "source": [
    "activityNotifications(a, n, d)"
   ]
  },
  {
   "cell_type": "code",
   "execution_count": null,
   "metadata": {
    "collapsed": true
   },
   "outputs": [],
   "source": [
    "def activityNotifications(expenditure, n, d):\n",
    "    nf, m = 0, 0\n",
    "    a = expenditure[d:]\n",
    "    q = counting_sort(expenditure[:d])\n",
    "\n",
    "    if d % 2 == 0:\n",
    "        m = sum(q[d//2-1:d//2+1]) / 2\n",
    "    else:\n",
    "        m = q[d//2]\n",
    "    \n",
    "    for i in range(n-d):\n",
    "        if a[i] >= 2*m:\n",
    "            nf += 1\n",
    "        \n",
    "        for j in range(d):\n",
    "            if a[i] < q[j]:\n",
    "                q.insert(j, a[i])\n",
    "                q.pop(0)\n",
    "                break\n",
    "        \n",
    "        if d % 2 == 0:\n",
    "            m = sum(q[d//2-1:d//2+1]) / 2\n",
    "        else:\n",
    "            m = q[d//2]\n",
    "            \n",
    "    return nf"
   ]
  },
  {
   "cell_type": "code",
   "execution_count": null,
   "metadata": {
    "collapsed": true
   },
   "outputs": [],
   "source": [
    "a, n, d = [2, 3, 4, 2, 3, 6, 8, 4, 5], 9, 5"
   ]
  },
  {
   "cell_type": "code",
   "execution_count": null,
   "metadata": {
    "collapsed": true
   },
   "outputs": [],
   "source": [
    "activityNotifications(a, n, d)"
   ]
  },
  {
   "cell_type": "code",
   "execution_count": null,
   "metadata": {
    "collapsed": true
   },
   "outputs": [],
   "source": [
    "def med(arz, d):\n",
    "    i, p = 0, 0\n",
    "    for a in range(200):\n",
    "        for c in range(arz[a]):\n",
    "            if i == d//2 and d%2!=0:\n",
    "                return a\n",
    "            elif i == d//2 and d%2==0:\n",
    "                return (a+p)/2\n",
    "            i += 1\n",
    "            p = a\n",
    "\n",
    "def med(arz, d):\n",
    "    if d%2!=0:\n",
    "        d = -(-d // 2)\n",
    "        for i in range(len(arz)):\n",
    "            d = d - arz[i]\n",
    "            if d <= 0: return i\n",
    "    elif d%2==0:\n",
    "        d = -(-d // 2)\n",
    "        m1 = d\n",
    "        m2 = d + 1\n",
    "        print(m1)\n",
    "        for i in range(len(arz)):\n",
    "            m1 = m1 - arz[i]\n",
    "            if m1 <= 0: \n",
    "                m1 = i\n",
    "                break\n",
    "        print(m2)\n",
    "        for i in range(len(arz)):\n",
    "            m2 = m2 - arz[i]\n",
    "            if m2 <= 0:\n",
    "                m2 = i\n",
    "                break\n",
    "                \n",
    "        return (m1+m2)/2\n",
    "\n",
    "med([0,3,2,1,1,1],9)\n",
    "\n",
    "def activityNotifications(arr, n, d):\n",
    "    nf, m = 0, 0\n",
    "    \n",
    "    a = [0] * 200\n",
    "    for e in arr:\n",
    "        a[e] += 1\n",
    "    \n",
    "    b = arr[d:]\n",
    "    c = arr[:-d]\n",
    "    bc = zip(b,c)\n",
    "    \n",
    "    for i,j in bc:\n",
    "        m = med(a,d)\n",
    "        a[i] += 1\n",
    "        a[j] -= 1\n",
    "        if i >= 2*m:\n",
    "            nf += 1\n",
    "    return nf\n",
    "\n",
    "a, n, d = [2, 3, 4, 2, 3, 6, 8, 4, 5, 0, 7], 11, 5\n",
    "\n",
    "activityNotifications(a,n,d)\n",
    "\n",
    "#[4,4,1,2,1,2,0,3,5] -> [1,2,2,1,2,1] -> [0,1,1,2,2,3,4,4,5]\n",
    "med([1,2,2,1,2,1], 1)"
   ]
  },
  {
   "cell_type": "code",
   "execution_count": null,
   "metadata": {
    "collapsed": true
   },
   "outputs": [],
   "source": []
  },
  {
   "cell_type": "code",
   "execution_count": null,
   "metadata": {
    "collapsed": true
   },
   "outputs": [],
   "source": [
    "'''New Year Chaos'''"
   ]
  },
  {
   "cell_type": "code",
   "execution_count": null,
   "metadata": {
    "collapsed": true
   },
   "outputs": [],
   "source": [
    "q = [2,1,5,3,4]\n",
    "n = len(x)"
   ]
  },
  {
   "cell_type": "code",
   "execution_count": null,
   "metadata": {
    "collapsed": true
   },
   "outputs": [],
   "source": [
    "def minimumBribes(q, n):\n",
    "    bribes = 0\n",
    "    for i in range(n-1, -1, -1):\n",
    "        if q[i] - (i + 1) > 2:\n",
    "            print('Too chaotic')\n",
    "            return\n",
    "        for j in range(max(0, q[i] - 2), i):\n",
    "            if q[j] > q[i]:\n",
    "                bribes+=1\n",
    "#             print(f\"i:{i}, j:{j}, q[i]:{q[i]}, q[j]:{q[j]}, bribes:{bribes}, q:{q}\")\n",
    "    print(bribes)"
   ]
  },
  {
   "cell_type": "code",
   "execution_count": null,
   "metadata": {
    "collapsed": true
   },
   "outputs": [],
   "source": [
    "minimumBribes(q, n)"
   ]
  },
  {
   "cell_type": "code",
   "execution_count": null,
   "metadata": {
    "collapsed": true
   },
   "outputs": [],
   "source": []
  },
  {
   "cell_type": "code",
   "execution_count": null,
   "metadata": {
    "collapsed": true
   },
   "outputs": [],
   "source": [
    "'''2D Array - DS'''"
   ]
  },
  {
   "cell_type": "code",
   "execution_count": null,
   "metadata": {
    "collapsed": true
   },
   "outputs": [],
   "source": [
    "from random import randint"
   ]
  },
  {
   "cell_type": "code",
   "execution_count": null,
   "metadata": {
    "collapsed": true
   },
   "outputs": [],
   "source": [
    "arr = [[randint(-9, 9) for _ in range(6)] for j in range(6)]\n",
    "arr"
   ]
  },
  {
   "cell_type": "code",
   "execution_count": null,
   "metadata": {
    "collapsed": true
   },
   "outputs": [],
   "source": [
    "def hourglassSum(arr):\n",
    "    x = []\n",
    "    for i in range(4):\n",
    "        for j in range(4):\n",
    "            x.append(sum(arr[i][j:j+3] + arr[i+2][j:j+3] + [arr[i+1][j+1]]))\n",
    "    return max(x)"
   ]
  },
  {
   "cell_type": "code",
   "execution_count": null,
   "metadata": {
    "collapsed": true
   },
   "outputs": [],
   "source": [
    "hourglassSum(arr)"
   ]
  },
  {
   "cell_type": "code",
   "execution_count": null,
   "metadata": {
    "collapsed": true
   },
   "outputs": [],
   "source": []
  },
  {
   "cell_type": "code",
   "execution_count": null,
   "metadata": {
    "collapsed": true
   },
   "outputs": [],
   "source": [
    "'''Repeated String'''"
   ]
  },
  {
   "cell_type": "code",
   "execution_count": null,
   "metadata": {
    "collapsed": true
   },
   "outputs": [],
   "source": [
    "s = 'aba'\n",
    "n = 10"
   ]
  },
  {
   "cell_type": "code",
   "execution_count": null,
   "metadata": {
    "collapsed": true
   },
   "outputs": [],
   "source": [
    "def repeatedString(s, n):\n",
    "    l = len(s)\n",
    "    k = n // l\n",
    "    a = s.count('a')\n",
    "    return k * a + s[:n-l*k].count('a')"
   ]
  },
  {
   "cell_type": "code",
   "execution_count": null,
   "metadata": {
    "collapsed": true
   },
   "outputs": [],
   "source": [
    "repeatedString(s, n)"
   ]
  },
  {
   "cell_type": "code",
   "execution_count": null,
   "metadata": {
    "collapsed": true
   },
   "outputs": [],
   "source": []
  },
  {
   "cell_type": "code",
   "execution_count": null,
   "metadata": {
    "collapsed": true
   },
   "outputs": [],
   "source": [
    "'''Jumping on the Clouds'''"
   ]
  },
  {
   "cell_type": "code",
   "execution_count": null,
   "metadata": {
    "collapsed": true
   },
   "outputs": [],
   "source": [
    "c = [0, 0, 1, 0, 0, 1, 0]"
   ]
  },
  {
   "cell_type": "code",
   "execution_count": null,
   "metadata": {
    "collapsed": true
   },
   "outputs": [],
   "source": [
    "c = [0, 0, 0, 0, 1, 0]"
   ]
  },
  {
   "cell_type": "code",
   "execution_count": null,
   "metadata": {
    "collapsed": true
   },
   "outputs": [],
   "source": [
    "def jumpingOnClouds(c):\n",
    "    n, m, i = len(c), 0, 0\n",
    "    if n == 2:\n",
    "        return 1\n",
    "    while i < n-1:\n",
    "        if i+2 <= n-1 and c[i+2] == 0:\n",
    "            m += 1\n",
    "            i += 2\n",
    "        else:\n",
    "            m += 1\n",
    "            i += 1\n",
    "    return m"
   ]
  },
  {
   "cell_type": "code",
   "execution_count": null,
   "metadata": {
    "collapsed": true
   },
   "outputs": [],
   "source": [
    "jumpingOnClouds(c)"
   ]
  },
  {
   "cell_type": "code",
   "execution_count": null,
   "metadata": {
    "collapsed": true
   },
   "outputs": [],
   "source": []
  },
  {
   "cell_type": "code",
   "execution_count": null,
   "metadata": {
    "collapsed": true
   },
   "outputs": [],
   "source": [
    "'''Counting Valleys'''"
   ]
  },
  {
   "cell_type": "code",
   "execution_count": null,
   "metadata": {
    "collapsed": true
   },
   "outputs": [],
   "source": [
    "s = 'DDUUDDUDUUUD'\n",
    "n = len(s)"
   ]
  },
  {
   "cell_type": "code",
   "execution_count": null,
   "metadata": {
    "collapsed": true
   },
   "outputs": [],
   "source": [
    "def countingValleys(n, s):\n",
    "    k, m, f = 0, 0, False\n",
    "    for c in s:\n",
    "        if k == -1:\n",
    "            f = True\n",
    "        if c == 'D':\n",
    "            k -= 1\n",
    "        elif c == 'U':\n",
    "            k += 1\n",
    "        if k == 0 and f:\n",
    "            m += 1\n",
    "            f = False\n",
    "        print(c, k, m)\n",
    "    return m"
   ]
  },
  {
   "cell_type": "code",
   "execution_count": null,
   "metadata": {
    "collapsed": true
   },
   "outputs": [],
   "source": [
    "countingValleys(n, s)"
   ]
  },
  {
   "cell_type": "code",
   "execution_count": null,
   "metadata": {
    "collapsed": true
   },
   "outputs": [],
   "source": [
    "DDUUDDUDUUUD 2\n",
    "_   _     _/\\_\n",
    " \\  /\\    /\n",
    "  \\/  \\/\\/\n",
    "\n",
    "UDUUUDUDDD 0\n",
    "\n",
    "     /\\/\\\n",
    "    /    \\\n",
    "_/\\/      \\\n",
    "\n",
    "UDDDUDUU 1\n",
    "_/\\      _\n",
    "   \\    /\n",
    "    \\/\\/"
   ]
  },
  {
   "cell_type": "code",
   "execution_count": null,
   "metadata": {
    "collapsed": true
   },
   "outputs": [],
   "source": []
  },
  {
   "cell_type": "code",
   "execution_count": null,
   "metadata": {
    "collapsed": true
   },
   "outputs": [],
   "source": [
    "'''Common Child'''"
   ]
  },
  {
   "cell_type": "code",
   "execution_count": null,
   "metadata": {
    "collapsed": true
   },
   "outputs": [],
   "source": [
    "from pprint import pprint"
   ]
  },
  {
   "cell_type": "code",
   "execution_count": null,
   "metadata": {
    "collapsed": true
   },
   "outputs": [],
   "source": [
    "a, b = 'ABCDEF', 'FBDAMN'"
   ]
  },
  {
   "cell_type": "code",
   "execution_count": null,
   "metadata": {
    "collapsed": true
   },
   "outputs": [],
   "source": [
    "def commonChild(a, b):\n",
    "    print(a, b)\n",
    "    n = len(a)\n",
    "    if n == 0: return 0\n",
    "    \n",
    "    l = [[0 if i == 0 or j == 0 else None for j in range(n+1)] for i in range(n+1)]\n",
    "    pprint(l)\n",
    "    \n",
    "    for i in range(n):\n",
    "        for j in range(n):\n",
    "            if a[i] != b[j]:\n",
    "                l[i+1][j+1] = max(l[i][j+1], l[i+1][j])\n",
    "            else: # a[i] == b[j]:\n",
    "                l[i+1][j+1] = 1 + l[i][j]\n",
    "    else:\n",
    "        pprint(l)\n",
    "        return l[i+1][j+1]"
   ]
  },
  {
   "cell_type": "code",
   "execution_count": null,
   "metadata": {
    "collapsed": true
   },
   "outputs": [],
   "source": [
    "commonChild(a, b)"
   ]
  },
  {
   "cell_type": "code",
   "execution_count": null,
   "metadata": {
    "collapsed": true
   },
   "outputs": [],
   "source": []
  },
  {
   "cell_type": "code",
   "execution_count": null,
   "metadata": {
    "collapsed": true
   },
   "outputs": [],
   "source": [
    "'''Special Palindrome Again'''"
   ]
  },
  {
   "cell_type": "code",
   "execution_count": null,
   "metadata": {
    "collapsed": true
   },
   "outputs": [],
   "source": [
    "s = 'aabaaza'"
   ]
  },
  {
   "cell_type": "code",
   "execution_count": null,
   "metadata": {
    "collapsed": true
   },
   "outputs": [],
   "source": [
    "s = 'asasd'"
   ]
  },
  {
   "cell_type": "code",
   "execution_count": null,
   "metadata": {
    "collapsed": true
   },
   "outputs": [],
   "source": [
    "def substrCount(n, s):\n",
    "    pc, c, x = 0, 1, []\n",
    "    for i in range(n):\n",
    "        if i+1 > n-1:\n",
    "            x.append((s[i], c))\n",
    "            break\n",
    "        elif s[i] == s[i+1]:\n",
    "            c += 1\n",
    "            if i+2 > n-1:\n",
    "                pc += (c ** 2 + c)//2\n",
    "            elif s[i] != s[i+2]:\n",
    "                pc += (c ** 2 + c)//2\n",
    "        elif s[i] != s[i+1]:\n",
    "            x.append((s[i], c))\n",
    "            c = 1\n",
    "    print(x, pc)\n",
    "    \n",
    "    m = len(x)\n",
    "    for i in range(m):\n",
    "        if x[i][1] == 1 and i == 0:\n",
    "            pc += 1\n",
    "        elif x[i][1] == 1 and i == m-1:\n",
    "            pc += 1\n",
    "        elif x[i][1] == 1 and x[i-1][0] == x[i+1][0]:\n",
    "            pc += 1 + min(x[i-1][1], x[i+1][1])\n",
    "        elif x[i][1] == 1:\n",
    "            pc += 1\n",
    "        print('loop', i, pc)\n",
    "\n",
    "    return pc"
   ]
  },
  {
   "cell_type": "code",
   "execution_count": null,
   "metadata": {
    "collapsed": true
   },
   "outputs": [],
   "source": [
    "substrCount(len(s), s)"
   ]
  },
  {
   "cell_type": "code",
   "execution_count": null,
   "metadata": {
    "collapsed": true
   },
   "outputs": [],
   "source": [
    "ln = len(s)"
   ]
  },
  {
   "cell_type": "code",
   "execution_count": null,
   "metadata": {
    "collapsed": true
   },
   "outputs": [],
   "source": [
    "(ln ** 2 + ln)//2"
   ]
  },
  {
   "cell_type": "code",
   "execution_count": null,
   "metadata": {
    "collapsed": true
   },
   "outputs": [],
   "source": [
    "(ln-(ln//2))**2"
   ]
  },
  {
   "cell_type": "code",
   "execution_count": null,
   "metadata": {
    "collapsed": true
   },
   "outputs": [],
   "source": []
  },
  {
   "cell_type": "code",
   "execution_count": null,
   "metadata": {
    "collapsed": true
   },
   "outputs": [],
   "source": [
    "'''Sherlock and the Valid String'''"
   ]
  },
  {
   "cell_type": "code",
   "execution_count": null,
   "metadata": {
    "collapsed": true
   },
   "outputs": [],
   "source": [
    "s = 'aabbccddeefghi'"
   ]
  },
  {
   "cell_type": "code",
   "execution_count": null,
   "metadata": {
    "collapsed": true
   },
   "outputs": [],
   "source": [
    "s = 'aaabbcc'"
   ]
  },
  {
   "cell_type": "code",
   "execution_count": null,
   "metadata": {
    "collapsed": true
   },
   "outputs": [],
   "source": [
    "s = 'ibfdgaeadiaefgbhbdghhhbgdfgeiccbiehhfcggchgghadhdhagfbahhddgghbdehidbibaeaagaeeigffcebfbaieggabcfbiiedcabfihchdfabifahcbhagccbdfifhghcadfiadeeaheeddddiecaicbgigccageicehfdhdgafaddhffadigfhhcaedcedecafeacbdacgfgfeeibgaiffdehigebhhehiaahfidibccdcdagifgaihacihadecgifihbebffebdfbchbgigeccahgihbcbcaggebaaafgfedbfgagfediddghdgbgehhhifhgcedechahidcbchebheihaadbbbiaiccededchdagfhccfdefigfibifabeiaccghcegfbcghaefifbachebaacbhbfgfddeceababbacgffbagidebeadfihaefefegbghgddbbgddeehgfbhafbccidebgehifafgbghafacgfdccgifdcbbbidfifhdaibgigebigaedeaaiadegfefbhacgddhchgcbgcaeaieiegiffchbgbebgbehbbfcebciiagacaiechdigbgbghefcahgbhfibhedaeeiffebdiabcifgccdefabccdghehfibfiifdaicfedagahhdcbhbicdgibgcedieihcichadgchgbdcdagaihebbabhibcihicadgadfcihdheefbhffiageddhgahaidfdhhdbgciiaciegchiiebfbcbhaeagccfhbfhaddagnfieihghfbaggiffbbfbecgaiiidccdceadbbdfgigibgcgchafccdchgifdeieicbaididhfcfdedbhaadedfageigfdehgcdaecaebebebfcieaecfagfdieaefdiedbcadchabhebgehiidfcgahcdhcdhgchhiiheffiifeegcfdgbdeffhgeghdfhbfbifgidcafbfcd'"
   ]
  },
  {
   "cell_type": "code",
   "execution_count": null,
   "metadata": {
    "collapsed": true
   },
   "outputs": [],
   "source": [
    "s = 'aaaaabc'"
   ]
  },
  {
   "cell_type": "code",
   "execution_count": null,
   "metadata": {
    "collapsed": true
   },
   "outputs": [],
   "source": [
    "from collections import Counter\n",
    "def isValid(s):\n",
    "    c = Counter(s)\n",
    "    cl, ls = len(c), sorted(c.values(), reverse=True)\n",
    "    print(ls, cl, c)\n",
    "    if cl == 1: \n",
    "        return 'YES'\n",
    "    a, b, c, d = ls[0], ls[1], ls[-2], ls[-1]\n",
    "    if a == b == c == d:\n",
    "        return 'YES'\n",
    "    elif a - d == 1:\n",
    "        if b - c == 0:\n",
    "            return 'YES'\n",
    "        else:\n",
    "            return 'NO'\n",
    "    elif d == 1:\n",
    "        if c == a:\n",
    "            return 'YES'\n",
    "        else:\n",
    "            return 'NO'\n",
    "    else:\n",
    "        return 'NO'"
   ]
  },
  {
   "cell_type": "code",
   "execution_count": null,
   "metadata": {
    "collapsed": true,
    "scrolled": true
   },
   "outputs": [],
   "source": [
    "isValid(s)"
   ]
  },
  {
   "cell_type": "code",
   "execution_count": null,
   "metadata": {
    "collapsed": true
   },
   "outputs": [],
   "source": []
  },
  {
   "cell_type": "code",
   "execution_count": null,
   "metadata": {
    "collapsed": true
   },
   "outputs": [],
   "source": [
    "from itertools import permutations"
   ]
  },
  {
   "cell_type": "code",
   "execution_count": null,
   "metadata": {
    "collapsed": true
   },
   "outputs": [],
   "source": [
    "a = 'eggegg'"
   ]
  },
  {
   "cell_type": "code",
   "execution_count": null,
   "metadata": {
    "collapsed": true
   },
   "outputs": [],
   "source": [
    "def reverseShuffleMerge(s): # not solved!\n",
    "    n = len(s)\n",
    "    reversed_half = s[n//2-1::-1]\n",
    "    shuffle = list(map(''.join, permutations(reversed_half, n//2)))\n",
    "    print(reversed_half, shuffle, s)\n",
    "    def merge(x, y):\n",
    "        return x, y\n",
    "    return merge(reversed_half, shuffle[-2])\n",
    "    "
   ]
  },
  {
   "cell_type": "code",
   "execution_count": null,
   "metadata": {
    "collapsed": true
   },
   "outputs": [],
   "source": [
    "reverseShuffleMerge(a)"
   ]
  },
  {
   "cell_type": "code",
   "execution_count": null,
   "metadata": {
    "collapsed": true
   },
   "outputs": [],
   "source": [
    "'agfedcb' < 'bcdefga'"
   ]
  },
  {
   "cell_type": "code",
   "execution_count": null,
   "metadata": {
    "collapsed": true
   },
   "outputs": [],
   "source": [
    "'egg' < 'gge'"
   ]
  },
  {
   "cell_type": "code",
   "execution_count": null,
   "metadata": {
    "collapsed": true
   },
   "outputs": [],
   "source": []
  },
  {
   "cell_type": "code",
   "execution_count": null,
   "metadata": {
    "collapsed": true
   },
   "outputs": [],
   "source": [
    "def maxMin(k, a, n):\n",
    "    a.sort()\n",
    "    y = 10**9\n",
    "    for i in range(0, n-k+1):\n",
    "        x = a[i+k-1] - a[i]\n",
    "        if x < y:\n",
    "            y = x\n",
    "    return y"
   ]
  },
  {
   "cell_type": "code",
   "execution_count": null,
   "metadata": {
    "collapsed": true
   },
   "outputs": [],
   "source": [
    "n, k = 20, 5"
   ]
  },
  {
   "cell_type": "code",
   "execution_count": null,
   "metadata": {
    "collapsed": true
   },
   "outputs": [],
   "source": [
    "u = '''4504\n",
    "1520\n",
    "5857\n",
    "4094\n",
    "4157\n",
    "3902\n",
    "822\n",
    "6643\n",
    "2422\n",
    "7288\n",
    "8245\n",
    "9948\n",
    "2822\n",
    "1784\n",
    "7802\n",
    "3142\n",
    "9739\n",
    "5629\n",
    "5413\n",
    "7232'''"
   ]
  },
  {
   "cell_type": "code",
   "execution_count": null,
   "metadata": {
    "collapsed": true
   },
   "outputs": [],
   "source": [
    "u = list(map(int, u.split('\\n')))"
   ]
  },
  {
   "cell_type": "code",
   "execution_count": null,
   "metadata": {
    "collapsed": true
   },
   "outputs": [],
   "source": [
    "a = u"
   ]
  },
  {
   "cell_type": "code",
   "execution_count": null,
   "metadata": {
    "collapsed": true
   },
   "outputs": [],
   "source": [
    "maxMin(k, a, n)"
   ]
  },
  {
   "cell_type": "code",
   "execution_count": null,
   "metadata": {
    "collapsed": true
   },
   "outputs": [],
   "source": []
  },
  {
   "cell_type": "code",
   "execution_count": null,
   "metadata": {
    "collapsed": true
   },
   "outputs": [],
   "source": [
    "n, k = 5, 3\n",
    "c = [1, 3, 5, 7, 9]"
   ]
  },
  {
   "cell_type": "code",
   "execution_count": null,
   "metadata": {
    "collapsed": true
   },
   "outputs": [],
   "source": []
  },
  {
   "cell_type": "code",
   "execution_count": null,
   "metadata": {
    "collapsed": true
   },
   "outputs": [],
   "source": [
    "def getMinimumCost(k, c, n):\n",
    "    c.sort(reverse=True)\n",
    "    x, y = 0, 0\n",
    "    for i in range(0, n, k):\n",
    "        for j in range(i, i+k if i+k <= n - 1 else n):\n",
    "            x += c[j] * (y + 1)\n",
    "        y += 1\n",
    "    return x"
   ]
  },
  {
   "cell_type": "code",
   "execution_count": null,
   "metadata": {
    "collapsed": true
   },
   "outputs": [],
   "source": [
    "getMinimumCost(k, c, n)"
   ]
  },
  {
   "cell_type": "code",
   "execution_count": null,
   "metadata": {
    "collapsed": true
   },
   "outputs": [],
   "source": []
  },
  {
   "cell_type": "code",
   "execution_count": null,
   "metadata": {
    "collapsed": true
   },
   "outputs": [],
   "source": [
    "'''Some properties of %'''"
   ]
  },
  {
   "cell_type": "code",
   "execution_count": null,
   "metadata": {
    "collapsed": true
   },
   "outputs": [],
   "source": [
    "a, b, n = 276, 21, 34\n",
    "(a + b) % n == (a%n + b%n)%n #True"
   ]
  },
  {
   "cell_type": "code",
   "execution_count": null,
   "metadata": {
    "collapsed": true
   },
   "outputs": [],
   "source": [
    "(a * b) % n == (a%n * b%n)%n #True"
   ]
  },
  {
   "cell_type": "code",
   "execution_count": null,
   "metadata": {
    "collapsed": true
   },
   "outputs": [],
   "source": []
  },
  {
   "cell_type": "code",
   "execution_count": null,
   "metadata": {
    "collapsed": true
   },
   "outputs": [],
   "source": [
    "'''Chocolate Feast'''"
   ]
  },
  {
   "cell_type": "code",
   "execution_count": null,
   "metadata": {
    "collapsed": true
   },
   "outputs": [],
   "source": [
    "def chocolateFeast(n, c, m): # not solved\n",
    "    bal = n % c\n",
    "    eat = n // c\n",
    "    bal += eat\n",
    "    eat += bal // m\n",
    "    bal = (eat - bal) + (bal % m)\n",
    "    eat += bal // m\n",
    "    return eat"
   ]
  },
  {
   "cell_type": "code",
   "execution_count": null,
   "metadata": {
    "collapsed": true
   },
   "outputs": [],
   "source": [
    "chocolateFeast(65044, 608, 1)"
   ]
  },
  {
   "cell_type": "code",
   "execution_count": null,
   "metadata": {
    "collapsed": true
   },
   "outputs": [],
   "source": []
  },
  {
   "cell_type": "code",
   "execution_count": null,
   "metadata": {
    "collapsed": true
   },
   "outputs": [],
   "source": [
    "# Code is not working for n, c, m = 65044, 608, 1\n",
    "for _ in range(1):\n",
    "#     n, c, m = map(int, input().split())\n",
    "    n, c, m = 65044, 608, 1\n",
    "    chocs = n // c\n",
    "    wraps = chocs\n",
    "    while wraps >= m:\n",
    "        chocs += wraps//m\n",
    "        wraps = wraps//m + wraps % m\n",
    "    print(chocs)"
   ]
  },
  {
   "cell_type": "code",
   "execution_count": null,
   "metadata": {
    "collapsed": true
   },
   "outputs": [],
   "source": []
  },
  {
   "cell_type": "code",
   "execution_count": null,
   "metadata": {
    "collapsed": true
   },
   "outputs": [],
   "source": [
    "'''Ema's Supercomputer'''"
   ]
  },
  {
   "cell_type": "code",
   "execution_count": null,
   "metadata": {
    "collapsed": true
   },
   "outputs": [],
   "source": [
    "g = [\n",
    "    'BGBBGB',\n",
    "    'GGGGGG',\n",
    "    'BGBBGB',\n",
    "    'GGGGGG',\n",
    "    'BGBBGB',\n",
    "    'BGBBGB'\n",
    "]\n",
    "n = len(g)\n",
    "m = len(g[0])"
   ]
  },
  {
   "cell_type": "code",
   "execution_count": null,
   "metadata": {
    "collapsed": true
   },
   "outputs": [],
   "source": [
    "def twoPluses(g, n, m):\n",
    "    g = [list(e) for e in g]\n",
    "    a, result = [], []\n",
    "    x = [[-1 for _ in range(m)] for _ in range(n)]\n",
    "\n",
    "    for i in range(n):\n",
    "        for j in range(m):\n",
    "            if g[i][j] == 'G':\n",
    "                a.append((1,i,j))\n",
    "                for k in range(1, min(n-1 if n%2 == 0 else n, m-1 if m%2 == 0 else m)//2+1):\n",
    "                    if j+k <= m-1 and j-k >= 0 and i+k <= n-1 and i-k >= 0:\n",
    "                        if g[i][j+k] == 'G' and g[i][j-k] == 'G' and g[i+k][j] == 'G' and g[i-k][j] == 'G':\n",
    "                            a.append((4*k+1,i,j))\n",
    "                        else:\n",
    "                            break\n",
    "                    else:\n",
    "                        break\n",
    "            else:\n",
    "                continue\n",
    "                \n",
    "    for i in range(len(a)):\n",
    "        aa, ii, jj = a[i]\n",
    "        for k in range(1, a[i][0]//4+1):\n",
    "            x[ii][jj] = i\n",
    "            x[ii][jj+k] = i\n",
    "            x[ii][jj-k] = i\n",
    "            x[ii+k][jj] = i\n",
    "            x[ii-k][jj] = i\n",
    "        for j in range(i+1,len(a)):\n",
    "            aaa, iii, jjj = a[j]\n",
    "            for h in range(1, a[j][0]//4+1):\n",
    "                if x[iii][jjj]==i or x[iii][jjj+h]==i or x[iii][jjj-h]==i or x[iii+h][jjj]==i or x[iii-h][jjj]==i:\n",
    "                    break\n",
    "                else:\n",
    "                    continue\n",
    "            else: # loop h else statement ends successfully\n",
    "                result.append(aa*aaa)\n",
    "    return max(result)"
   ]
  },
  {
   "cell_type": "code",
   "execution_count": null,
   "metadata": {
    "collapsed": true
   },
   "outputs": [],
   "source": [
    "twoPluses(g,n,m)"
   ]
  },
  {
   "cell_type": "code",
   "execution_count": null,
   "metadata": {
    "collapsed": true
   },
   "outputs": [],
   "source": []
  },
  {
   "cell_type": "code",
   "execution_count": null,
   "metadata": {
    "collapsed": true
   },
   "outputs": [],
   "source": [
    "'''Twins'''"
   ]
  },
  {
   "cell_type": "code",
   "execution_count": null,
   "metadata": {
    "collapsed": true
   },
   "outputs": [],
   "source": [
    "def twins(a, b): # not solved\n",
    "    if len(a) != len(b):\n",
    "        return 'No'\n",
    "\n",
    "    b_even = []\n",
    "    b_odd = []\n",
    "    for k, v in enumerate(b):\n",
    "        if k%2 == 0:\n",
    "            b_even.append(v)\n",
    "        else:\n",
    "            b_odd.append(v)\n",
    "    \n",
    "    for k, v in enumerate(a):\n",
    "        if k%2 == 0 and v in b_even:\n",
    "            b_even.remove(v)\n",
    "        elif k%2 != 0 and v in b_odd:\n",
    "            b_odd.remove(v)\n",
    "        else:\n",
    "            return 'No'\n",
    "    return 'Yes'"
   ]
  },
  {
   "cell_type": "code",
   "execution_count": null,
   "metadata": {
    "collapsed": true
   },
   "outputs": [],
   "source": [
    "print(twins(a,b))"
   ]
  },
  {
   "cell_type": "code",
   "execution_count": null,
   "metadata": {
    "collapsed": true
   },
   "outputs": [],
   "source": [
    "def twins(aa, bb):\n",
    "    result = []\n",
    "    for a, b in zip(aa, bb):\n",
    "        if len(a) != len(b): # are not guaranteed to have the same length.\n",
    "            result.append('No')\n",
    "            continue\n",
    "\n",
    "        a1, a2 = [], []\n",
    "        for i, e in enumerate(a):\n",
    "            if i%2 == 0:\n",
    "                a1.append(e)\n",
    "            else:\n",
    "                a2.append(e)\n",
    "\n",
    "        b1, b2 = [], []\n",
    "        for i, e in enumerate(b):\n",
    "            if i%2 == 0:\n",
    "                b1.append(e)\n",
    "            else:\n",
    "                b2.append(e)\n",
    "\n",
    "        x = sorted(a1) == sorted(b1)\n",
    "        y = sorted(a2) == sorted(b2)\n",
    "        \n",
    "        if all([x, y]):\n",
    "            result.append('Yes')\n",
    "        else:\n",
    "            result.append('No')\n",
    "    return result"
   ]
  },
  {
   "cell_type": "code",
   "execution_count": null,
   "metadata": {
    "collapsed": true
   },
   "outputs": [],
   "source": [
    "a = ['dcba', 'cdab', 'acacbd', 'dcba']\n",
    "b = ['abcd', 'abcd', 'acbcad', 'abcd']"
   ]
  },
  {
   "cell_type": "code",
   "execution_count": null,
   "metadata": {
    "collapsed": true
   },
   "outputs": [],
   "source": [
    "twins(a, b)"
   ]
  },
  {
   "cell_type": "code",
   "execution_count": null,
   "metadata": {
    "collapsed": true
   },
   "outputs": [],
   "source": []
  },
  {
   "cell_type": "code",
   "execution_count": null,
   "metadata": {
    "collapsed": true
   },
   "outputs": [],
   "source": [
    "import sys\n",
    "\n",
    "\"\"\"\n",
    "* Complete the function below.\n",
    "* DO NOT MODIFY CODE OUTSIDE THIS FUNCTION!\n",
    "\"\"\"\n",
    "def twins(aa, bb):\n",
    "    result = []\n",
    "    for a, b in zip(aa, bb):\n",
    "        if len(a) != len(b): # are not guaranteed to have the same length.\n",
    "            result.append('No')\n",
    "            continue\n",
    "\n",
    "        a1, a2 = [], []\n",
    "        for i, e in enumerate(a):\n",
    "            if i%2 == 0:\n",
    "                a1.append(e)\n",
    "            else:\n",
    "                a2.append(e)\n",
    "\n",
    "        b1, b2 = [], []\n",
    "        for i, e in enumerate(b):\n",
    "            if i%2 == 0:\n",
    "                b1.append(e)\n",
    "            else:\n",
    "                b2.append(e)\n",
    "\n",
    "        x = sorted(a1) == sorted(b1)\n",
    "        y = sorted(a2) == sorted(b2)\n",
    "        \n",
    "        if all([x, y]):\n",
    "            result.append('Yes')\n",
    "        else:\n",
    "            result.append('No')\n",
    "    return result\n",
    "\n",
    "\"\"\"\n",
    "* DO NOT MODIFY CODE BELOW THIS POINT!\n",
    "\"\"\"\n",
    "def main():\n",
    "    data = sys.stdin.readlines()\n",
    "    \n",
    "    pos = 0\n",
    "\n",
    "    a = []\n",
    "    b = []\n",
    "\n",
    "    for a_i in range(pos + 1, int(data[pos]) + 1):\n",
    "        a.append(data[a_i])\n",
    "\n",
    "    pos = len(a) + 1\n",
    "\n",
    "    for b_i in range(pos + 1, int(data[pos]) + pos + 1):\n",
    "        b.append(data[b_i])\n",
    "    \n",
    "    result = twins(a, b)\n",
    "    \n",
    "    for val in result:\n",
    "        print(val)\n",
    "\n",
    "main()"
   ]
  },
  {
   "cell_type": "code",
   "execution_count": null,
   "metadata": {
    "collapsed": true
   },
   "outputs": [],
   "source": []
  },
  {
   "cell_type": "code",
   "execution_count": null,
   "metadata": {
    "collapsed": true
   },
   "outputs": [],
   "source": [
    "The program needs to transform the left 'language' format - to the 'right format.\n",
    "\n",
    "langauge (left side):\n",
    "==========\n",
    "numbers (1,2,3,4,5,6,7,8,9,0)\n",
    "Actions (+/-*)\n",
    "Argument: number | (<argument> <action> <argument>)\n",
    "\n",
    "Language (right side):\n",
    "========================\n",
    "numbers (1,2,3,4,5,6,7,8,9,0)\n",
    "Actions (+/-*)\n",
    "Argument: number | (<argument> <argument> <action>)\n",
    "\n",
    "Some Examples\n",
    "===============================\n",
    "(1+3) --> (13+)\n",
    "((1*3)+4) --> ((13*)4+)\n",
    "((1/2)+(2/3)) --> ((12/)(23/)+)\n",
    "(5-7) --> (57-)\n",
    "(5+(23)) --> (5(23)+)\n",
    "(((1/2)+(2/3))+((1/2)+(2/3))) --> (((12/)(23/)+)((12/)(23/)+)+)\n",
    "((((1/(23))+((2)/3))+((1/2)+(2/3))) / ((((1)/(2) )+(2/3))+((1/2)+(2/3)))  )  --> ((((1(23)/)((2)3/)+)((12/)(23/)+)+)((((1)(2)/)(23/)+)((12/)(23/)+)+)/)"
   ]
  },
  {
   "cell_type": "code",
   "execution_count": null,
   "metadata": {
    "collapsed": true
   },
   "outputs": [],
   "source": [
    "def to_right(a=''):\n",
    "    '''Transform the left language format to the right format'''\n",
    "    \n",
    "    #Prepare input. Add spaces after parentheses ')' --> ') '\n",
    "    a = a.replace(' ', '')\n",
    "    a = list(a.replace(')', ') '))\n",
    "    \n",
    "    #Walk through list with conditions\n",
    "    #These spaces will be filled in with signs\n",
    "    digits, signs, lst = '0123456789', '+/-*', []\n",
    "    for i in range(len(a)-1):\n",
    "        if a[i] in signs and a[i+1] in digits:\n",
    "            a[i], a[i+1] = a[i+1], a[i]\n",
    "        elif a[i] in signs and a[i+1] == '(':\n",
    "            lst.append(a[i])\n",
    "            a[i] = ''\n",
    "        elif a[i] == ' ' and a[i+1] in signs:\n",
    "            a[i] = ''\n",
    "        elif a[i] == ' ' and a[i+1] not in signs:\n",
    "            a[i] = lst.pop()\n",
    "    return ''.join(a).strip()\n",
    "\n",
    "if __name__ == '__main__':\n",
    "    result = to_right('(5+(23))')\n",
    "    print(result)"
   ]
  },
  {
   "cell_type": "code",
   "execution_count": null,
   "metadata": {
    "collapsed": true
   },
   "outputs": [],
   "source": []
  },
  {
   "cell_type": "code",
   "execution_count": null,
   "metadata": {
    "collapsed": true
   },
   "outputs": [],
   "source": [
    "'''Cats and a Mouse'''"
   ]
  },
  {
   "cell_type": "code",
   "execution_count": null,
   "metadata": {
    "collapsed": true
   },
   "outputs": [],
   "source": [
    "x, y, z = 1, 3, 2"
   ]
  },
  {
   "cell_type": "code",
   "execution_count": null,
   "metadata": {
    "collapsed": true
   },
   "outputs": [],
   "source": [
    "def catAndMouse(x, y, z):\n",
    "    if abs(z - x) < abs(z - y):\n",
    "        return 'Cat A'\n",
    "    elif abs(z - x) > abs(z - y):\n",
    "        return 'Cat B'\n",
    "    else: \n",
    "        return 'Mouse C'"
   ]
  },
  {
   "cell_type": "code",
   "execution_count": null,
   "metadata": {
    "collapsed": true
   },
   "outputs": [],
   "source": [
    "catAndMouse(x, y, z)"
   ]
  },
  {
   "cell_type": "code",
   "execution_count": null,
   "metadata": {
    "collapsed": true
   },
   "outputs": [],
   "source": []
  },
  {
   "cell_type": "code",
   "execution_count": null,
   "metadata": {
    "collapsed": true
   },
   "outputs": [],
   "source": [
    "'''Find Digits'''"
   ]
  },
  {
   "cell_type": "code",
   "execution_count": null,
   "metadata": {
    "collapsed": true
   },
   "outputs": [],
   "source": [
    "def findDigits(n):\n",
    "    result, n = 0, str(n)\n",
    "    for d in n:\n",
    "        if d == '0':\n",
    "            continue\n",
    "        elif int(n) % int(d) == 0:\n",
    "            result += 1\n",
    "    return result"
   ]
  },
  {
   "cell_type": "code",
   "execution_count": null,
   "metadata": {
    "collapsed": true
   },
   "outputs": [],
   "source": [
    "findDigits(1012)"
   ]
  },
  {
   "cell_type": "code",
   "execution_count": null,
   "metadata": {
    "collapsed": true
   },
   "outputs": [],
   "source": []
  },
  {
   "cell_type": "code",
   "execution_count": null,
   "metadata": {
    "collapsed": true
   },
   "outputs": [],
   "source": [
    "'''Grading Students'''"
   ]
  },
  {
   "cell_type": "code",
   "execution_count": null,
   "metadata": {
    "collapsed": true
   },
   "outputs": [],
   "source": [
    "a = [73, 67, 38, 33]\n",
    "n = len(a)"
   ]
  },
  {
   "cell_type": "code",
   "execution_count": null,
   "metadata": {
    "collapsed": true
   },
   "outputs": [],
   "source": [
    "def gradingStudents(a):\n",
    "    return [x if x < 38 else x+2 if x - (x // 5 * 5) == 3 else x + 1 if x - (x // 5 * 5) == 4 else x for x in a]"
   ]
  },
  {
   "cell_type": "code",
   "execution_count": null,
   "metadata": {
    "collapsed": true
   },
   "outputs": [],
   "source": [
    "gradingStudents(a)"
   ]
  },
  {
   "cell_type": "code",
   "execution_count": null,
   "metadata": {
    "collapsed": true
   },
   "outputs": [],
   "source": []
  },
  {
   "cell_type": "code",
   "execution_count": null,
   "metadata": {
    "collapsed": true
   },
   "outputs": [],
   "source": [
    "'''Strange Counter'''"
   ]
  },
  {
   "cell_type": "code",
   "execution_count": null,
   "metadata": {
    "collapsed": true
   },
   "outputs": [],
   "source": [
    "def strangeCounter(t):\n",
    "    m, = [3*2**i-2 for i in range(45) if t >= 3*2**i-2 and t < 3*2**(i+1)-2]\n",
    "    return (m + 2) - (t - m)"
   ]
  },
  {
   "cell_type": "code",
   "execution_count": null,
   "metadata": {
    "collapsed": true
   },
   "outputs": [],
   "source": [
    "strangeCounter(3)"
   ]
  },
  {
   "cell_type": "code",
   "execution_count": null,
   "metadata": {
    "collapsed": true
   },
   "outputs": [],
   "source": []
  },
  {
   "cell_type": "code",
   "execution_count": null,
   "metadata": {
    "collapsed": true
   },
   "outputs": [],
   "source": [
    "'''Migratory Birds'''"
   ]
  },
  {
   "cell_type": "code",
   "execution_count": null,
   "metadata": {
    "collapsed": true
   },
   "outputs": [],
   "source": [
    "# arr = [1, 2, 3, 4, 5, 4, 3, 2, 1, 3, 4]\n",
    "arr = [1, 4, 4, 4, 5, 3]\n",
    "arr_count = len(arr)"
   ]
  },
  {
   "cell_type": "code",
   "execution_count": null,
   "metadata": {
    "collapsed": true
   },
   "outputs": [],
   "source": [
    "def migratoryBirds(arr, arr_count):\n",
    "    d = {}\n",
    "    for e in arr:\n",
    "        if e in d:\n",
    "            d[e] += 1\n",
    "        else:\n",
    "            d.setdefault(e, 1)\n",
    "    return sorted(d.keys(), key=d.get, reverse=True)[0]\n",
    "#     return sorted(d.items(), key=lambda x: x[1], reverse=True)[0][0]"
   ]
  },
  {
   "cell_type": "code",
   "execution_count": null,
   "metadata": {
    "collapsed": true
   },
   "outputs": [],
   "source": [
    "migratoryBirds(arr, arr_count)"
   ]
  },
  {
   "cell_type": "markdown",
   "metadata": {},
   "source": [
    "https://docs.python.org/3/howto/sorting.html"
   ]
  },
  {
   "cell_type": "code",
   "execution_count": null,
   "metadata": {
    "collapsed": true
   },
   "outputs": [],
   "source": []
  },
  {
   "cell_type": "code",
   "execution_count": null,
   "metadata": {
    "collapsed": true
   },
   "outputs": [],
   "source": [
    "'''Forming a Magic Square'''"
   ]
  },
  {
   "cell_type": "code",
   "execution_count": null,
   "metadata": {
    "collapsed": true
   },
   "outputs": [],
   "source": [
    "s = [[4, 5, 8],\n",
    "     [2, 4, 1],\n",
    "     [1, 9, 7]]  # expected 14"
   ]
  },
  {
   "cell_type": "code",
   "execution_count": null,
   "metadata": {
    "collapsed": true
   },
   "outputs": [],
   "source": [
    "def func(list_xy, list_correct):\n",
    "    cost = 0\n",
    "    for xy, corr in zip(list_xy, list_correct):\n",
    "        cost += abs(xy-corr)\n",
    "    return cost\n",
    "\n",
    "def formingMagicSquare(s):\n",
    "    list_xy = [s[0][0], s[0][1], s[0][2], s[1][2], s[2][2], s[2][1], s[2][0], s[1][0]]\n",
    "    list_1 = [2,9,4,3,8,1,6,7]\n",
    "    list_2 = [4,9,2,7,6,1,8,3]\n",
    "    \n",
    "    costs = []\n",
    "    \n",
    "    for _ in range(4):\n",
    "        costs.append( func(list_xy, list_1) + abs(s[1][1]-5) )\n",
    "        x = list_1.pop()\n",
    "        y = list_1.pop()\n",
    "        \n",
    "        list_1.insert(0, x)\n",
    "        list_1.insert(0, y)\n",
    "        \n",
    "    for _ in range(4):\n",
    "        costs.append( func(list_xy, list_2) + abs(s[1][1]-5) )\n",
    "        x = list_2.pop()\n",
    "        y = list_2.pop()\n",
    "        \n",
    "        list_2.insert(0, x)\n",
    "        list_2.insert(0, y)\n",
    "        \n",
    "    return min(costs)"
   ]
  },
  {
   "cell_type": "code",
   "execution_count": null,
   "metadata": {
    "collapsed": true
   },
   "outputs": [],
   "source": [
    "formingMagicSquare(s)"
   ]
  },
  {
   "cell_type": "code",
   "execution_count": null,
   "metadata": {
    "collapsed": true
   },
   "outputs": [],
   "source": []
  },
  {
   "cell_type": "code",
   "execution_count": null,
   "metadata": {
    "collapsed": true,
    "scrolled": true
   },
   "outputs": [],
   "source": [
    "'''Utopian Tree'''"
   ]
  },
  {
   "cell_type": "markdown",
   "metadata": {},
   "source": [
    "https://oeis.org/search?q=1%2C2%2C3%2C6%2C7%2C14%2C15%2C30%2C31%2C62&language=english&go=Search"
   ]
  },
  {
   "cell_type": "code",
   "execution_count": null,
   "metadata": {
    "collapsed": true
   },
   "outputs": [],
   "source": [
    "n = 20\n",
    "from math import sqrt"
   ]
  },
  {
   "cell_type": "code",
   "execution_count": null,
   "metadata": {
    "collapsed": true
   },
   "outputs": [],
   "source": [
    "def utopianTree(n):\n",
    "    x = 0\n",
    "    for i in range(n+1):\n",
    "        if i%2==0:\n",
    "            x += 1\n",
    "        else:\n",
    "            x *= 2\n",
    "    else:\n",
    "        return x"
   ]
  },
  {
   "cell_type": "code",
   "execution_count": null,
   "metadata": {
    "collapsed": true
   },
   "outputs": [],
   "source": [
    "utopianTree(n)"
   ]
  },
  {
   "cell_type": "code",
   "execution_count": null,
   "metadata": {
    "collapsed": true
   },
   "outputs": [],
   "source": [
    "def utopianTree(n):\n",
    "    '''Closed Form'''\n",
    "    return round((-1)**n/2-3/2+2**(n/2)*(1+sqrt(2)+(1-sqrt(2))*(-1)**n))"
   ]
  },
  {
   "cell_type": "code",
   "execution_count": null,
   "metadata": {
    "collapsed": true
   },
   "outputs": [],
   "source": [
    "utopianTree(n)"
   ]
  },
  {
   "cell_type": "code",
   "execution_count": null,
   "metadata": {
    "collapsed": true
   },
   "outputs": [],
   "source": [
    "def utopianTree(n):\n",
    "    '''Closed Form'''\n",
    "    return 2 ** ((n+1)//2+1)   -  1 - (n%2)"
   ]
  },
  {
   "cell_type": "code",
   "execution_count": null,
   "metadata": {
    "collapsed": true
   },
   "outputs": [],
   "source": [
    "'''Bitwise'''\n",
    "~(~1<<(n>>1)) << n%2"
   ]
  },
  {
   "cell_type": "code",
   "execution_count": null,
   "metadata": {
    "collapsed": true
   },
   "outputs": [],
   "source": [
    "utopianTree(n)"
   ]
  },
  {
   "cell_type": "code",
   "execution_count": null,
   "metadata": {
    "collapsed": true
   },
   "outputs": [],
   "source": []
  },
  {
   "cell_type": "code",
   "execution_count": null,
   "metadata": {
    "collapsed": true
   },
   "outputs": [],
   "source": [
    "'''Taum and B'day'''"
   ]
  },
  {
   "cell_type": "code",
   "execution_count": null,
   "metadata": {
    "collapsed": true
   },
   "outputs": [],
   "source": [
    "b, w, bc, wc, z = 860, 605, 274229, 795307, 2153"
   ]
  },
  {
   "cell_type": "code",
   "execution_count": null,
   "metadata": {
    "collapsed": true
   },
   "outputs": [],
   "source": [
    "def taumBday(b, w, bc, wc, z):\n",
    "    x = (b+w)*min(bc,wc)+z*(min(b,w) if (bc > wc and b < w) or (bc < wc and b > w) else max(b,w))\n",
    "    y = b*bc+w*wc\n",
    "    return x if x < y else y\n",
    "#     return min(b * bc + w * wc, bc * (b + w) + w * z, wc * (b + w) + b * z)"
   ]
  },
  {
   "cell_type": "code",
   "execution_count": null,
   "metadata": {
    "collapsed": true
   },
   "outputs": [],
   "source": [
    "taumBday(b, w, bc, wc, z)"
   ]
  },
  {
   "cell_type": "code",
   "execution_count": null,
   "metadata": {
    "collapsed": true
   },
   "outputs": [],
   "source": []
  }
 ],
 "metadata": {
  "kernelspec": {
   "display_name": "Python [conda env:scr]",
   "language": "python",
   "name": "conda-env-scr-py"
  },
  "language_info": {
   "codemirror_mode": {
    "name": "ipython",
    "version": 3
   },
   "file_extension": ".py",
   "mimetype": "text/x-python",
   "name": "python",
   "nbconvert_exporter": "python",
   "pygments_lexer": "ipython3",
   "version": "3.6.7"
  }
 },
 "nbformat": 4,
 "nbformat_minor": 2
}
