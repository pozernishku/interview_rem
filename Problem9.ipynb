{
 "cells": [
  {
   "cell_type": "code",
   "execution_count": null,
   "metadata": {
    "collapsed": true
   },
   "outputs": [],
   "source": []
  },
  {
   "cell_type": "code",
   "execution_count": null,
   "metadata": {
    "collapsed": true
   },
   "outputs": [],
   "source": []
  },
  {
   "cell_type": "code",
   "execution_count": null,
   "metadata": {
    "collapsed": true
   },
   "outputs": [],
   "source": []
  },
  {
   "cell_type": "code",
   "execution_count": null,
   "metadata": {
    "collapsed": true
   },
   "outputs": [],
   "source": []
  },
  {
   "cell_type": "code",
   "execution_count": null,
   "metadata": {
    "collapsed": true
   },
   "outputs": [],
   "source": []
  },
  {
   "cell_type": "code",
   "execution_count": null,
   "metadata": {
    "collapsed": true
   },
   "outputs": [],
   "source": []
  },
  {
   "cell_type": "code",
   "execution_count": null,
   "metadata": {
    "collapsed": true
   },
   "outputs": [],
   "source": []
  },
  {
   "cell_type": "code",
   "execution_count": null,
   "metadata": {
    "collapsed": true
   },
   "outputs": [],
   "source": []
  },
  {
   "cell_type": "code",
   "execution_count": null,
   "metadata": {
    "collapsed": true
   },
   "outputs": [],
   "source": []
  },
  {
   "cell_type": "code",
   "execution_count": null,
   "metadata": {
    "collapsed": true
   },
   "outputs": [],
   "source": []
  },
  {
   "cell_type": "code",
   "execution_count": null,
   "metadata": {
    "collapsed": true
   },
   "outputs": [],
   "source": []
  },
  {
   "cell_type": "code",
   "execution_count": null,
   "metadata": {
    "collapsed": true
   },
   "outputs": [],
   "source": []
  },
  {
   "cell_type": "code",
   "execution_count": null,
   "metadata": {
    "collapsed": true
   },
   "outputs": [],
   "source": []
  },
  {
   "cell_type": "code",
   "execution_count": null,
   "metadata": {
    "collapsed": true
   },
   "outputs": [],
   "source": []
  },
  {
   "cell_type": "code",
   "execution_count": null,
   "metadata": {
    "collapsed": true
   },
   "outputs": [],
   "source": []
  },
  {
   "cell_type": "code",
   "execution_count": null,
   "metadata": {
    "collapsed": true
   },
   "outputs": [],
   "source": []
  },
  {
   "cell_type": "code",
   "execution_count": null,
   "metadata": {
    "collapsed": true
   },
   "outputs": [],
   "source": []
  },
  {
   "cell_type": "code",
   "execution_count": null,
   "metadata": {
    "collapsed": true
   },
   "outputs": [],
   "source": []
  },
  {
   "cell_type": "code",
   "execution_count": null,
   "metadata": {
    "collapsed": true
   },
   "outputs": [],
   "source": []
  },
  {
   "cell_type": "code",
   "execution_count": 115,
   "metadata": {},
   "outputs": [],
   "source": [
    "def solution(ranks):\n",
    "    from collections import Counter\n",
    "    ranks = sorted(ranks)\n",
    "    c = Counter(ranks)\n",
    "    cnt = 0\n",
    "    x = list(c.items())\n",
    "#     print(x)\n",
    "    M = len(x)\n",
    "    for i in range(M-1):\n",
    "        if x[i][0] == x[i+1][0]-1:\n",
    "#             print(x[i])\n",
    "            cnt += x[i][1]\n",
    "    return cnt"
   ]
  },
  {
   "cell_type": "code",
   "execution_count": 117,
   "metadata": {},
   "outputs": [
    {
     "data": {
      "text/plain": [
       "5"
      ]
     },
     "execution_count": 117,
     "metadata": {},
     "output_type": "execute_result"
    }
   ],
   "source": [
    "solution([3,4,3,0,2,2,3,0,0])  # [3,4,3,0,2,2,3,0,0] #[4,2,0] #[4,4,3,3,1,0]"
   ]
  },
  {
   "cell_type": "code",
   "execution_count": null,
   "metadata": {
    "collapsed": true
   },
   "outputs": [],
   "source": []
  },
  {
   "cell_type": "code",
   "execution_count": 35,
   "metadata": {
    "collapsed": true
   },
   "outputs": [],
   "source": [
    "def solution(S):\n",
    "    from collections import deque\n",
    "    N = len(S)\n",
    "    d = deque(S)\n",
    "    cnt = 0\n",
    "    \n",
    "    if N%2!=0:\n",
    "        c = d[N//2]\n",
    "        d.insert(N//2, c)\n",
    "        N += 1\n",
    "#     print(d)\n",
    "    \n",
    "    for _ in range(N//2):\n",
    "        if d.popleft() == d.pop():\n",
    "            cnt += 1\n",
    "        else:\n",
    "            return cnt\n",
    "    return cnt"
   ]
  },
  {
   "cell_type": "code",
   "execution_count": 36,
   "metadata": {},
   "outputs": [
    {
     "data": {
      "text/plain": [
       "1"
      ]
     },
     "execution_count": 36,
     "metadata": {},
     "output_type": "execute_result"
    }
   ],
   "source": [
    "solution('ababaa') #('codility')  # ('abbabba')"
   ]
  },
  {
   "cell_type": "code",
   "execution_count": null,
   "metadata": {
    "collapsed": true
   },
   "outputs": [],
   "source": []
  },
  {
   "cell_type": "code",
   "execution_count": null,
   "metadata": {
    "collapsed": true
   },
   "outputs": [],
   "source": [
    "def solution(N, A):\n",
    "    result = [0]*N    # The list to be returned\n",
    "    max_counter = 0   # The used value in previous max_counter command\n",
    "    current_max = 0   # The current maximum value of any counter\n",
    "    for command in A:\n",
    "        if 1 <= command <= N:\n",
    "            if max_counter > result[command-1]:\n",
    "                result[command-1] = max_counter\n",
    "                \n",
    "            result[command-1] += 1\n",
    "            \n",
    "            if current_max < result[command-1]:\n",
    "                current_max = result[command-1]\n",
    "        else:\n",
    "            max_counter = current_max\n",
    "            \n",
    "    for index in range(N):\n",
    "        if result[index] < max_counter:\n",
    "            result[index] = max_counter\n",
    "            \n",
    "    return result"
   ]
  },
  {
   "cell_type": "code",
   "execution_count": null,
   "metadata": {},
   "outputs": [],
   "source": [
    "solution(2, [3,2,2,3,1,1,3])"
   ]
  },
  {
   "cell_type": "code",
   "execution_count": null,
   "metadata": {
    "collapsed": true
   },
   "outputs": [],
   "source": []
  },
  {
   "cell_type": "code",
   "execution_count": null,
   "metadata": {
    "collapsed": true
   },
   "outputs": [],
   "source": [
    "def solution(X, A):\n",
    "    N = len(A)\n",
    "    M = 100000\n",
    "    cnt = [-1] * (M+1)\n",
    "    \n",
    "    for i in range(N):\n",
    "        if cnt[A[i]] == -1:\n",
    "            X -= 1\n",
    "            \n",
    "        cnt[A[i]] = i\n",
    "        \n",
    "#         print(i, X, cnt)\n",
    "        \n",
    "        if X == 0:\n",
    "            return i\n",
    "    return -1"
   ]
  },
  {
   "cell_type": "code",
   "execution_count": null,
   "metadata": {
    "scrolled": true
   },
   "outputs": [],
   "source": [
    "solution(3, [1, 3, 1, 3, 2, 1, 3])\n",
    "#(3, [1,2,3])\n",
    "#(3, [1, 3, 1, 3, 2, 1, 3])\n",
    "#(1, [1])\n",
    "#(5, [1,3,1,4,2,3,5,4])\n",
    "#(3, [2,1,1,4,1,3,5,4])\n",
    "#(5, [3])\n",
    "#(5, [1,1,1,1,2,3,5,4])"
   ]
  },
  {
   "cell_type": "code",
   "execution_count": null,
   "metadata": {},
   "outputs": [],
   "source": [
    "'''\n",
    "A[0] = 2\n",
    "A[1] = 1\n",
    "A[2] = 1\n",
    "A[3] = 4\n",
    "A[4] = 1\n",
    "A[5] = 3\n",
    "A[6] = 5\n",
    "A[7] = 4\n",
    "'''"
   ]
  },
  {
   "cell_type": "code",
   "execution_count": null,
   "metadata": {
    "collapsed": true
   },
   "outputs": [],
   "source": []
  },
  {
   "cell_type": "code",
   "execution_count": null,
   "metadata": {
    "collapsed": true
   },
   "outputs": [],
   "source": [
    "def solution(A):\n",
    "    N = len(A)\n",
    "    M = 100000\n",
    "    cnt = [0] * (M+1)\n",
    "    \n",
    "    for i in range(N):\n",
    "        if A[i] > M:\n",
    "            return 0\n",
    "        else:\n",
    "            cnt[A[i]] += 1\n",
    "            \n",
    "    for i in range(N+1):\n",
    "        if cnt[i] == 0:\n",
    "            if i > 0:\n",
    "                return 0\n",
    "        elif cnt[i] == 1:\n",
    "            continue\n",
    "        else:\n",
    "            return 0\n",
    "    else:\n",
    "        return 1"
   ]
  },
  {
   "cell_type": "code",
   "execution_count": null,
   "metadata": {},
   "outputs": [],
   "source": [
    "solution([1,2])"
   ]
  },
  {
   "cell_type": "code",
   "execution_count": null,
   "metadata": {
    "collapsed": true
   },
   "outputs": [],
   "source": []
  },
  {
   "cell_type": "code",
   "execution_count": null,
   "metadata": {
    "collapsed": true
   },
   "outputs": [],
   "source": [
    "def solution(A):\n",
    "    A = list(filter(lambda x: x > 0, A))\n",
    "    A.sort()\n",
    "    N = len(A)\n",
    "    if N == 1:\n",
    "        return 2 if A[0] == 1 else 1\n",
    "    elif N == 0:\n",
    "        return 1\n",
    "    \n",
    "    for i in range(N-1):\n",
    "        if A[i+1] == A[i] or A[i+1] - A[i] == 1:\n",
    "            continue\n",
    "        else:\n",
    "            return 2 if A[i] == 1 else A[i]+1 if A[0] == 1 else 1\n",
    "    else:\n",
    "        return A[i+1]+1 if A[0] == 1 else 1"
   ]
  },
  {
   "cell_type": "code",
   "execution_count": null,
   "metadata": {},
   "outputs": [],
   "source": [
    "solution([1,2,4,90, 91, 92, 93])"
   ]
  },
  {
   "cell_type": "code",
   "execution_count": null,
   "metadata": {
    "collapsed": true
   },
   "outputs": [],
   "source": []
  },
  {
   "cell_type": "code",
   "execution_count": null,
   "metadata": {
    "collapsed": true
   },
   "outputs": [],
   "source": [
    "def solution(A):\n",
    "    A = list(filter(lambda x: x > 0, A))\n",
    "    N = len(A)\n",
    "    M = 1000000\n",
    "    cnt = [0] * (M+1)\n",
    "    \n",
    "    for i in range(N):\n",
    "        cnt[A[i]] += 1\n",
    "        \n",
    "    for i in range(M+1):\n",
    "        if cnt[i] == 0:\n",
    "            if i > 0:\n",
    "                return i"
   ]
  },
  {
   "cell_type": "code",
   "execution_count": null,
   "metadata": {},
   "outputs": [],
   "source": [
    "solution([-1000000, 1000000])"
   ]
  },
  {
   "cell_type": "code",
   "execution_count": null,
   "metadata": {
    "collapsed": true
   },
   "outputs": [],
   "source": []
  }
 ],
 "metadata": {
  "kernelspec": {
   "display_name": "Python [default]",
   "language": "python",
   "name": "python3"
  },
  "language_info": {
   "codemirror_mode": {
    "name": "ipython",
    "version": 3
   },
   "file_extension": ".py",
   "mimetype": "text/x-python",
   "name": "python",
   "nbconvert_exporter": "python",
   "pygments_lexer": "ipython3",
   "version": "3.6.2"
  }
 },
 "nbformat": 4,
 "nbformat_minor": 2
}
