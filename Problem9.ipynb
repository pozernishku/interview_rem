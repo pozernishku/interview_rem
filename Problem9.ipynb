{
 "cells": [
  {
   "cell_type": "code",
   "execution_count": null,
   "metadata": {
    "collapsed": true
   },
   "outputs": [],
   "source": [
    "'''Prefix sums'''"
   ]
  },
  {
   "cell_type": "code",
   "execution_count": null,
   "metadata": {
    "collapsed": true
   },
   "outputs": [],
   "source": [
    "def count_total(P, x, y):\n",
    "    return P[y + 1] - P[x]"
   ]
  },
  {
   "cell_type": "code",
   "execution_count": null,
   "metadata": {
    "collapsed": true
   },
   "outputs": [],
   "source": [
    "def prefix_sums(A):\n",
    "    n = len(A)\n",
    "    P = [0] * (n + 1)\n",
    "    for k in range(1, n + 1):\n",
    "        P[k] = P[k - 1] + A[k - 1]\n",
    "    \n",
    "#     return count_total(P, 3, 4)\n",
    "    return P"
   ]
  },
  {
   "cell_type": "code",
   "execution_count": null,
   "metadata": {},
   "outputs": [],
   "source": [
    "prefix_sums([7,2,1,4,5])"
   ]
  },
  {
   "cell_type": "code",
   "execution_count": null,
   "metadata": {
    "collapsed": true
   },
   "outputs": [],
   "source": [
    "def mushrooms(A, k, m):\n",
    "    n = len(A)\n",
    "    result = 0\n",
    "    pref = prefix_sums(A)\n",
    "    \n",
    "    x = min(m, k) + 1\n",
    "    y = min(m + 1, n - k)\n",
    "    \n",
    "    for p in range(x):\n",
    "        left_pos = k - p\n",
    "        right_pos = min(n - 1, max(k, k + m - 2 * p))\n",
    "        result = max(result, count_total(pref, left_pos, right_pos))\n",
    "        print(f'{x}, m={m}, k={k}, p={p}, left={left_pos}, right={right_pos}, cmpt={count_total(pref, left_pos, right_pos)}, result={result}, {n-1}, {max(k, k + m - 2 * p)}')\n",
    "        \n",
    "    print('\\n')\n",
    "    \n",
    "    for p in range(y):\n",
    "        right_pos = k + p\n",
    "        left_pos = max(0, min(k, k - (m - 2 * p)))\n",
    "        result = max(result, count_total(pref, left_pos, right_pos))\n",
    "        print(f'{y}, m={m}, k={k}, p={p}, left={left_pos}, right={right_pos}, cmpt={count_total(pref, left_pos, right_pos)}, result={result}, {0}, {min(k, k - (m - 2 * p))}')\n",
    "        \n",
    "    return result"
   ]
  },
  {
   "cell_type": "code",
   "execution_count": null,
   "metadata": {
    "collapsed": true
   },
   "outputs": [],
   "source": [
    "mushrooms([2,3,7,5,1,3,9], 4, 6)"
   ]
  },
  {
   "cell_type": "code",
   "execution_count": null,
   "metadata": {
    "collapsed": true
   },
   "outputs": [],
   "source": [
    "def solution(A):\n",
    "    n = len(A)\n",
    "    pref = prefix_sums(A)\n",
    "    sm = pref[-1]\n",
    "    result = 0\n",
    "    for i in range(1, n):\n",
    "        if pref[i-1] == pref[i]:\n",
    "            result += sm-pref[i]\n",
    "            if result > 1000000000:\n",
    "                return -1\n",
    "#             print(sm-pref[i])\n",
    "    return result"
   ]
  },
  {
   "cell_type": "code",
   "execution_count": null,
   "metadata": {
    "scrolled": true
   },
   "outputs": [],
   "source": [
    "solution([1,0,1,0,0,0,1,1,0,1])\n",
    "#8    4-0 + 4-1 + 4-3\n",
    "#12   5-0 + 5-1 + 5-3 + 5-4 \n",
    "#7    3-0 + 3-1 + 3-1\n",
    "#7    4-1 + 4-2 + 4-2\n",
    "#5    4-1 + 4-2   [1,0,1,0,1,1]\n",
    "#7    4-1 + 4-2 + 4-2 [1,0,1,0,0,1,1]\n",
    "#9    4-1 + 4-2 + 4-2 + 4-2 1,0,1,0,0,0,1,1\n",
    "#9    4-1 + 4-2 + 4-2 + 4-2 + 4-4 1,0,1,0,0,0,1,1,0\n",
    "#14   5-1 + 5-2 + 5-2 + 5-2 + 5-4 [1,0,1,0,0,0,1,1,0,1]\n"
   ]
  },
  {
   "cell_type": "code",
   "execution_count": null,
   "metadata": {
    "collapsed": true
   },
   "outputs": [],
   "source": [
    "'''CountDiv  (Closed Form)'''\n",
    "def solution(A, B, K):\n",
    "    if A > K and A != B:\n",
    "        while A%K!=0 and A < B:\n",
    "            A += 1\n",
    "        if A == B:\n",
    "            return 0\n",
    "    if A <= K and B >= K:\n",
    "        if A != 0:\n",
    "            A = K\n",
    "#     print(A,B,K)\n",
    "    if A == B and B%K!=0:\n",
    "        return B//K-(A//K)\n",
    "    elif K <= B or B == 0:\n",
    "        return B//K-(A//K)+1\n",
    "    else:\n",
    "        return B//K-(A//K)"
   ]
  },
  {
   "cell_type": "code",
   "execution_count": null,
   "metadata": {},
   "outputs": [],
   "source": [
    "solution(6,11,2)\n",
    "#3 (6,11,2) 6,8,10\n",
    "#2 (6,11,3) 6,9\n",
    "#1 (6,11,5) 10  5*2 if 6>5\n",
    "#1 (6,11,10) 10 -> 10 if 6<=10 need to start counting from K (10) not from A(6)\n",
    "#1 (10,11,10) 10 -> 10 if 10<=10 A equals K\n",
    "#1 (10,10,10) 10 -> 10 if 10<=10 A equals B \n",
    "#1 (6,11,9)  \n",
    "#0 (502,504,500)\n",
    "\n",
    "#1  (1,1,1)\n",
    "#0  (1,2,3)\n",
    "#0  (1,3,7)\n",
    "#6  (6,11,1) if K = 1\n",
    "#8  (0,14,2)  \n",
    "#1  [0, 0, 11]\n",
    "#0  [10, 10, 7] "
   ]
  },
  {
   "cell_type": "code",
   "execution_count": null,
   "metadata": {
    "collapsed": true
   },
   "outputs": [],
   "source": []
  },
  {
   "cell_type": "code",
   "execution_count": null,
   "metadata": {
    "collapsed": true
   },
   "outputs": [],
   "source": []
  },
  {
   "cell_type": "code",
   "execution_count": null,
   "metadata": {
    "collapsed": true
   },
   "outputs": [],
   "source": []
  },
  {
   "cell_type": "code",
   "execution_count": null,
   "metadata": {
    "collapsed": true
   },
   "outputs": [],
   "source": []
  },
  {
   "cell_type": "code",
   "execution_count": null,
   "metadata": {
    "collapsed": true
   },
   "outputs": [],
   "source": []
  },
  {
   "cell_type": "code",
   "execution_count": null,
   "metadata": {
    "collapsed": true
   },
   "outputs": [],
   "source": []
  },
  {
   "cell_type": "code",
   "execution_count": null,
   "metadata": {
    "collapsed": true
   },
   "outputs": [],
   "source": []
  },
  {
   "cell_type": "code",
   "execution_count": null,
   "metadata": {
    "collapsed": true
   },
   "outputs": [],
   "source": []
  },
  {
   "cell_type": "code",
   "execution_count": null,
   "metadata": {
    "collapsed": true
   },
   "outputs": [],
   "source": []
  },
  {
   "cell_type": "code",
   "execution_count": null,
   "metadata": {
    "collapsed": true
   },
   "outputs": [],
   "source": []
  },
  {
   "cell_type": "code",
   "execution_count": null,
   "metadata": {
    "collapsed": true
   },
   "outputs": [],
   "source": []
  },
  {
   "cell_type": "code",
   "execution_count": null,
   "metadata": {
    "collapsed": true
   },
   "outputs": [],
   "source": []
  },
  {
   "cell_type": "code",
   "execution_count": null,
   "metadata": {
    "collapsed": true
   },
   "outputs": [],
   "source": []
  },
  {
   "cell_type": "code",
   "execution_count": null,
   "metadata": {
    "collapsed": true
   },
   "outputs": [],
   "source": []
  },
  {
   "cell_type": "code",
   "execution_count": null,
   "metadata": {
    "collapsed": true
   },
   "outputs": [],
   "source": []
  },
  {
   "cell_type": "code",
   "execution_count": null,
   "metadata": {
    "collapsed": true
   },
   "outputs": [],
   "source": []
  },
  {
   "cell_type": "code",
   "execution_count": null,
   "metadata": {
    "collapsed": true
   },
   "outputs": [],
   "source": []
  },
  {
   "cell_type": "code",
   "execution_count": null,
   "metadata": {
    "collapsed": true
   },
   "outputs": [],
   "source": []
  },
  {
   "cell_type": "code",
   "execution_count": null,
   "metadata": {
    "collapsed": true
   },
   "outputs": [],
   "source": []
  },
  {
   "cell_type": "code",
   "execution_count": null,
   "metadata": {
    "collapsed": true
   },
   "outputs": [],
   "source": []
  },
  {
   "cell_type": "code",
   "execution_count": null,
   "metadata": {
    "collapsed": true
   },
   "outputs": [],
   "source": []
  },
  {
   "cell_type": "code",
   "execution_count": null,
   "metadata": {
    "collapsed": true
   },
   "outputs": [],
   "source": []
  },
  {
   "cell_type": "code",
   "execution_count": null,
   "metadata": {
    "collapsed": true
   },
   "outputs": [],
   "source": []
  },
  {
   "cell_type": "code",
   "execution_count": null,
   "metadata": {
    "collapsed": true
   },
   "outputs": [],
   "source": [
    "'''A vending machine has the following denominations: 1c, 5c, 10c, 25c, 50c, and $1. \n",
    "Your task is to write a program that will be used in a vending machine to return change. \n",
    "Assume that the vending machine will always want to return the least number of coins or notes. \n",
    "Devise a function getChange(M, P) \n",
    "where M is how much money was inserted into the machine and P the price of the item selected, \n",
    "that returns an array of integers representing the number of each denomination to return. \n",
    "\n",
    "Example:\n",
    "getChange(5, 0.99) // should return [1,0,0,0,0,4]\n",
    "https://docs.python.org/3/tutorial/floatingpoint.html\n",
    "'''"
   ]
  },
  {
   "cell_type": "code",
   "execution_count": null,
   "metadata": {
    "collapsed": true
   },
   "outputs": [],
   "source": [
    "# Complete\n",
    "# https://docs.python.org/3/tutorial/floatingpoint.html\n",
    "def getChange(M, P):\n",
    "    a = [0, 0, 0, 0, 0, 0]\n",
    "    b = [100, 50, 25, 10, 5, 1]\n",
    "    M *= 100\n",
    "    P = round(P*100) # This is very important\n",
    "    r = M - P\n",
    "    \n",
    "    print(M, P, r)\n",
    "    for i, v in enumerate(b):\n",
    "        a[i] = r//v\n",
    "        r %= v\n",
    "        \n",
    "    return a[::-1]"
   ]
  },
  {
   "cell_type": "code",
   "execution_count": null,
   "metadata": {
    "collapsed": true
   },
   "outputs": [],
   "source": [
    "getChange(5, 3.15)"
   ]
  },
  {
   "cell_type": "code",
   "execution_count": null,
   "metadata": {
    "collapsed": true
   },
   "outputs": [],
   "source": []
  },
  {
   "cell_type": "code",
   "execution_count": null,
   "metadata": {
    "collapsed": true
   },
   "outputs": [],
   "source": [
    "# https://docs.python.org/3/tutorial/floatingpoint.html\n",
    "def getChange(M, P):\n",
    "    a = [0,0,0,0,0,0]\n",
    "    M *= 100\n",
    "    P = round(P*100)\n",
    "    r = M - P\n",
    "    print(M, P, r)\n",
    "    \n",
    "    for _ in range(len(a)):\n",
    "        if r//100 >= 1:\n",
    "            a[5] = r//100\n",
    "            r = r - r//100 * 100\n",
    "        elif r//50 >= 1:\n",
    "            a[4] = r//50\n",
    "            r = r - r//50 * 50\n",
    "        elif r//25 >= 1:\n",
    "            a[3] = r//25\n",
    "            r = r - r//25 * 25\n",
    "        elif r//10 >= 1:\n",
    "            a[2] = r//10\n",
    "            r = r - r//10 * 10\n",
    "        elif r//5 >= 1:\n",
    "            a[1] = r//5\n",
    "            r = r - r//5 * 5\n",
    "        elif r//1 >= 1:\n",
    "            a[0] = r//1\n",
    "            r = r - r//1 * 1\n",
    "            \n",
    "    return a"
   ]
  },
  {
   "cell_type": "code",
   "execution_count": null,
   "metadata": {
    "collapsed": true,
    "scrolled": true
   },
   "outputs": [],
   "source": [
    "getChange(5, 0.99)  # 99 = 50 25 10 10 1 1 1 1 #4.1  #2.15       # 3.15     #4.01 $4 c1     #1.85 = $1 c50 c25 c10"
   ]
  },
  {
   "cell_type": "code",
   "execution_count": null,
   "metadata": {
    "collapsed": true
   },
   "outputs": [],
   "source": [
    "4.1 * 100"
   ]
  },
  {
   "cell_type": "code",
   "execution_count": null,
   "metadata": {
    "collapsed": true
   },
   "outputs": [],
   "source": [
    "0.99 * 100"
   ]
  },
  {
   "cell_type": "code",
   "execution_count": null,
   "metadata": {
    "collapsed": true,
    "scrolled": true
   },
   "outputs": [],
   "source": [
    "round(4.1*100)"
   ]
  },
  {
   "cell_type": "code",
   "execution_count": null,
   "metadata": {
    "collapsed": true,
    "scrolled": true
   },
   "outputs": [],
   "source": [
    "format(4.1*100, '.0f')"
   ]
  },
  {
   "cell_type": "code",
   "execution_count": null,
   "metadata": {
    "collapsed": true
   },
   "outputs": [],
   "source": [
    "round(0.99 * 100)"
   ]
  },
  {
   "cell_type": "code",
   "execution_count": null,
   "metadata": {
    "collapsed": true
   },
   "outputs": [],
   "source": [
    "format(0.99 * 100, '.0f')"
   ]
  },
  {
   "cell_type": "code",
   "execution_count": null,
   "metadata": {
    "collapsed": true
   },
   "outputs": [],
   "source": []
  },
  {
   "cell_type": "code",
   "execution_count": null,
   "metadata": {
    "collapsed": true
   },
   "outputs": [],
   "source": [
    "def solution(ranks):\n",
    "    from collections import Counter\n",
    "    ranks = sorted(ranks)\n",
    "    c = Counter(ranks)\n",
    "    cnt = 0\n",
    "    x = list(c.items())\n",
    "#     print(x)\n",
    "    M = len(x)\n",
    "    for i in range(M-1):\n",
    "        if x[i][0] == x[i+1][0]-1:\n",
    "#             print(x[i])\n",
    "            cnt += x[i][1]\n",
    "    return cnt"
   ]
  },
  {
   "cell_type": "code",
   "execution_count": null,
   "metadata": {
    "collapsed": true
   },
   "outputs": [],
   "source": [
    "solution([3,4,3,0,2,2,3,0,0])  # [3,4,3,0,2,2,3,0,0] #[4,2,0] #[4,4,3,3,1,0]"
   ]
  },
  {
   "cell_type": "code",
   "execution_count": null,
   "metadata": {
    "collapsed": true
   },
   "outputs": [],
   "source": []
  },
  {
   "cell_type": "code",
   "execution_count": null,
   "metadata": {
    "collapsed": true
   },
   "outputs": [],
   "source": [
    "def solution(S):\n",
    "    from collections import deque\n",
    "    N = len(S)\n",
    "    d = deque(S)\n",
    "    cnt = 0\n",
    "    \n",
    "    if N%2!=0:\n",
    "        c = d[N//2]\n",
    "        d.insert(N//2, c)\n",
    "        N += 1\n",
    "#     print(d)\n",
    "    \n",
    "    for _ in range(N//2):\n",
    "        if d.popleft() == d.pop():\n",
    "            cnt += 1\n",
    "        else:\n",
    "            return cnt\n",
    "    return cnt"
   ]
  },
  {
   "cell_type": "code",
   "execution_count": null,
   "metadata": {
    "collapsed": true
   },
   "outputs": [],
   "source": [
    "solution('ababaa') #('codility')  # ('abbabba')"
   ]
  },
  {
   "cell_type": "code",
   "execution_count": null,
   "metadata": {
    "collapsed": true
   },
   "outputs": [],
   "source": []
  },
  {
   "cell_type": "code",
   "execution_count": null,
   "metadata": {
    "collapsed": true
   },
   "outputs": [],
   "source": [
    "def solution(N, A):\n",
    "    result = [0]*N    # The list to be returned\n",
    "    max_counter = 0   # The used value in previous max_counter command\n",
    "    current_max = 0   # The current maximum value of any counter\n",
    "    for command in A:\n",
    "        if 1 <= command <= N:\n",
    "            if max_counter > result[command-1]:\n",
    "                result[command-1] = max_counter\n",
    "                \n",
    "            result[command-1] += 1\n",
    "            \n",
    "            if current_max < result[command-1]:\n",
    "                current_max = result[command-1]\n",
    "        else:\n",
    "            max_counter = current_max\n",
    "            \n",
    "    for index in range(N):\n",
    "        if result[index] < max_counter:\n",
    "            result[index] = max_counter\n",
    "            \n",
    "    return result"
   ]
  },
  {
   "cell_type": "code",
   "execution_count": null,
   "metadata": {
    "collapsed": true
   },
   "outputs": [],
   "source": [
    "solution(2, [3,2,2,3,1,1,3])"
   ]
  },
  {
   "cell_type": "code",
   "execution_count": null,
   "metadata": {
    "collapsed": true
   },
   "outputs": [],
   "source": []
  },
  {
   "cell_type": "code",
   "execution_count": null,
   "metadata": {
    "collapsed": true
   },
   "outputs": [],
   "source": [
    "def solution(X, A):\n",
    "    N = len(A)\n",
    "    M = 100000\n",
    "    cnt = [-1] * (M+1)\n",
    "    \n",
    "    for i in range(N):\n",
    "        if cnt[A[i]] == -1:\n",
    "            X -= 1\n",
    "            \n",
    "        cnt[A[i]] = i\n",
    "        \n",
    "#         print(i, X, cnt)\n",
    "        \n",
    "        if X == 0:\n",
    "            return i\n",
    "    return -1"
   ]
  },
  {
   "cell_type": "code",
   "execution_count": null,
   "metadata": {
    "collapsed": true,
    "scrolled": true
   },
   "outputs": [],
   "source": [
    "solution(3, [1, 3, 1, 3, 2, 1, 3])\n",
    "#(3, [1,2,3])\n",
    "#(3, [1, 3, 1, 3, 2, 1, 3])\n",
    "#(1, [1])\n",
    "#(5, [1,3,1,4,2,3,5,4])\n",
    "#(3, [2,1,1,4,1,3,5,4])\n",
    "#(5, [3])\n",
    "#(5, [1,1,1,1,2,3,5,4])"
   ]
  },
  {
   "cell_type": "code",
   "execution_count": null,
   "metadata": {
    "collapsed": true
   },
   "outputs": [],
   "source": [
    "'''\n",
    "A[0] = 2\n",
    "A[1] = 1\n",
    "A[2] = 1\n",
    "A[3] = 4\n",
    "A[4] = 1\n",
    "A[5] = 3\n",
    "A[6] = 5\n",
    "A[7] = 4\n",
    "'''"
   ]
  },
  {
   "cell_type": "code",
   "execution_count": null,
   "metadata": {
    "collapsed": true
   },
   "outputs": [],
   "source": []
  },
  {
   "cell_type": "code",
   "execution_count": null,
   "metadata": {
    "collapsed": true
   },
   "outputs": [],
   "source": [
    "def solution(A):\n",
    "    N = len(A)\n",
    "    M = 100000\n",
    "    cnt = [0] * (M+1)\n",
    "    \n",
    "    for i in range(N):\n",
    "        if A[i] > M:\n",
    "            return 0\n",
    "        else:\n",
    "            cnt[A[i]] += 1\n",
    "            \n",
    "    for i in range(N+1):\n",
    "        if cnt[i] == 0:\n",
    "            if i > 0:\n",
    "                return 0\n",
    "        elif cnt[i] == 1:\n",
    "            continue\n",
    "        else:\n",
    "            return 0\n",
    "    else:\n",
    "        return 1"
   ]
  },
  {
   "cell_type": "code",
   "execution_count": null,
   "metadata": {
    "collapsed": true
   },
   "outputs": [],
   "source": [
    "solution([1,2])"
   ]
  },
  {
   "cell_type": "code",
   "execution_count": null,
   "metadata": {
    "collapsed": true
   },
   "outputs": [],
   "source": []
  },
  {
   "cell_type": "code",
   "execution_count": null,
   "metadata": {
    "collapsed": true
   },
   "outputs": [],
   "source": [
    "def solution(A):\n",
    "    A = list(filter(lambda x: x > 0, A))\n",
    "    A.sort()\n",
    "    N = len(A)\n",
    "    if N == 1:\n",
    "        return 2 if A[0] == 1 else 1\n",
    "    elif N == 0:\n",
    "        return 1\n",
    "    \n",
    "    for i in range(N-1):\n",
    "        if A[i+1] == A[i] or A[i+1] - A[i] == 1:\n",
    "            continue\n",
    "        else:\n",
    "            return 2 if A[i] == 1 else A[i]+1 if A[0] == 1 else 1\n",
    "    else:\n",
    "        return A[i+1]+1 if A[0] == 1 else 1"
   ]
  },
  {
   "cell_type": "code",
   "execution_count": null,
   "metadata": {
    "collapsed": true
   },
   "outputs": [],
   "source": [
    "solution([1,2,4,90, 91, 92, 93])"
   ]
  },
  {
   "cell_type": "code",
   "execution_count": null,
   "metadata": {
    "collapsed": true
   },
   "outputs": [],
   "source": []
  },
  {
   "cell_type": "code",
   "execution_count": null,
   "metadata": {
    "collapsed": true
   },
   "outputs": [],
   "source": [
    "def solution(A):\n",
    "    A = list(filter(lambda x: x > 0, A))\n",
    "    N = len(A)\n",
    "    M = 1000000\n",
    "    cnt = [0] * (M+1)\n",
    "    \n",
    "    for i in range(N):\n",
    "        cnt[A[i]] += 1\n",
    "        \n",
    "    for i in range(M+1):\n",
    "        if cnt[i] == 0:\n",
    "            if i > 0:\n",
    "                return i"
   ]
  },
  {
   "cell_type": "code",
   "execution_count": null,
   "metadata": {
    "collapsed": true
   },
   "outputs": [],
   "source": [
    "solution([-1000000, 1000000])"
   ]
  },
  {
   "cell_type": "code",
   "execution_count": null,
   "metadata": {
    "collapsed": true
   },
   "outputs": [],
   "source": []
  }
 ],
 "metadata": {
  "kernelspec": {
   "display_name": "Python [default]",
   "language": "python",
   "name": "python3"
  },
  "language_info": {
   "codemirror_mode": {
    "name": "ipython",
    "version": 3
   },
   "file_extension": ".py",
   "mimetype": "text/x-python",
   "name": "python",
   "nbconvert_exporter": "python",
   "pygments_lexer": "ipython3",
   "version": "3.6.2"
  }
 },
 "nbformat": 4,
 "nbformat_minor": 2
}
