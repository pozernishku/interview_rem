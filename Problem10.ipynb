{
 "cells": [
  {
   "cell_type": "code",
   "execution_count": null,
   "metadata": {
    "collapsed": true
   },
   "outputs": [],
   "source": [
    "# Files open, read, write, etc"
   ]
  },
  {
   "cell_type": "code",
   "execution_count": null,
   "metadata": {
    "collapsed": true
   },
   "outputs": [],
   "source": [
    "file = open('dynamic_prog.py', 'r')"
   ]
  },
  {
   "cell_type": "code",
   "execution_count": null,
   "metadata": {
    "collapsed": true
   },
   "outputs": [],
   "source": [
    "print(file.read(4))"
   ]
  },
  {
   "cell_type": "code",
   "execution_count": null,
   "metadata": {
    "collapsed": true
   },
   "outputs": [],
   "source": [
    "print(file.read())"
   ]
  },
  {
   "cell_type": "code",
   "execution_count": null,
   "metadata": {
    "collapsed": true
   },
   "outputs": [],
   "source": [
    "lines = file.read()"
   ]
  },
  {
   "cell_type": "code",
   "execution_count": null,
   "metadata": {
    "collapsed": true
   },
   "outputs": [],
   "source": [
    "file_lines = file.readlines()"
   ]
  },
  {
   "cell_type": "code",
   "execution_count": null,
   "metadata": {
    "collapsed": true
   },
   "outputs": [],
   "source": [
    "file_lines"
   ]
  },
  {
   "cell_type": "code",
   "execution_count": null,
   "metadata": {
    "collapsed": true
   },
   "outputs": [],
   "source": [
    "for line in file_lines:\n",
    "    print(line, end='')"
   ]
  },
  {
   "cell_type": "code",
   "execution_count": null,
   "metadata": {
    "collapsed": true
   },
   "outputs": [],
   "source": [
    "file.close()"
   ]
  },
  {
   "cell_type": "code",
   "execution_count": null,
   "metadata": {
    "collapsed": true
   },
   "outputs": [],
   "source": []
  },
  {
   "cell_type": "code",
   "execution_count": null,
   "metadata": {
    "collapsed": true
   },
   "outputs": [],
   "source": [
    "file = open('newfile.txt', 'w')\n",
    "file.write('test')"
   ]
  },
  {
   "cell_type": "code",
   "execution_count": null,
   "metadata": {
    "collapsed": true
   },
   "outputs": [],
   "source": [
    "file.close()"
   ]
  },
  {
   "cell_type": "code",
   "execution_count": null,
   "metadata": {
    "collapsed": true
   },
   "outputs": [],
   "source": [
    "file = open('newfile.txt', 'r')"
   ]
  },
  {
   "cell_type": "code",
   "execution_count": null,
   "metadata": {
    "collapsed": true
   },
   "outputs": [],
   "source": [
    "print(file.read())"
   ]
  },
  {
   "cell_type": "code",
   "execution_count": null,
   "metadata": {
    "collapsed": true
   },
   "outputs": [],
   "source": [
    "file.close()"
   ]
  },
  {
   "cell_type": "code",
   "execution_count": null,
   "metadata": {
    "collapsed": true
   },
   "outputs": [],
   "source": []
  },
  {
   "cell_type": "code",
   "execution_count": null,
   "metadata": {
    "collapsed": true
   },
   "outputs": [],
   "source": [
    "file = open('newfile.txt', 'w')"
   ]
  },
  {
   "cell_type": "code",
   "execution_count": null,
   "metadata": {
    "collapsed": true
   },
   "outputs": [],
   "source": [
    "file.write('test new')"
   ]
  },
  {
   "cell_type": "code",
   "execution_count": null,
   "metadata": {
    "collapsed": true
   },
   "outputs": [],
   "source": [
    "dir(file)"
   ]
  },
  {
   "cell_type": "code",
   "execution_count": null,
   "metadata": {
    "collapsed": true
   },
   "outputs": [],
   "source": [
    "file.close()"
   ]
  },
  {
   "cell_type": "code",
   "execution_count": null,
   "metadata": {
    "collapsed": true
   },
   "outputs": [],
   "source": []
  },
  {
   "cell_type": "code",
   "execution_count": null,
   "metadata": {
    "collapsed": true
   },
   "outputs": [],
   "source": [
    "try:\n",
    "    f = open('newfile.txt')\n",
    "    print(f.read())\n",
    "finally:\n",
    "    f.close()"
   ]
  },
  {
   "cell_type": "code",
   "execution_count": null,
   "metadata": {
    "collapsed": true
   },
   "outputs": [],
   "source": [
    "with open('newfile.txt') as f:\n",
    "    print(f.read())"
   ]
  },
  {
   "cell_type": "code",
   "execution_count": null,
   "metadata": {
    "collapsed": true
   },
   "outputs": [],
   "source": []
  },
  {
   "cell_type": "code",
   "execution_count": null,
   "metadata": {
    "collapsed": true
   },
   "outputs": [],
   "source": [
    "from nltk import ngrams\n",
    "\n",
    "sentence = 'this is a foo bar sentences and i want to ngramize it'\n",
    "\n",
    "n = 6\n",
    "sixgrams = ngrams(sentence.split(), n)\n",
    "\n",
    "for grams in sixgrams:\n",
    "    print(grams)"
   ]
  },
  {
   "cell_type": "code",
   "execution_count": null,
   "metadata": {
    "collapsed": true
   },
   "outputs": [],
   "source": []
  },
  {
   "cell_type": "code",
   "execution_count": null,
   "metadata": {
    "collapsed": true
   },
   "outputs": [],
   "source": [
    "# sol.rob([2,1,1,2])\n",
    "# sol.rob([10,3,3,10,3,3,10,3,10])\n",
    "# sol.rob([3,10,3,10,3,3,10,3,10])\n",
    "# sol.rob([3,10,3,10,3,3,10,50])\n",
    "        #         20,    30,  40\n",
    "        #         20,    30,  40\n",
    "        #         20,  23,    73  \n",
    "\n",
    "# sol.rob([10,3,3,10,3,3,10,3,10])\n",
    "        #            6 13 20 6 20\n",
    "\n",
    "# sol.rob([3,5,12,4,1,0,2])\n",
    "# sol.rob([3,5,2,4])"
   ]
  },
  {
   "cell_type": "code",
   "execution_count": null,
   "metadata": {
    "collapsed": true
   },
   "outputs": [],
   "source": [
    "# Dynamic programming solution\n",
    "class Solution:\n",
    "    def rob(self, nums: 'List[int]') -> 'int':\n",
    "        if not nums:\n",
    "            return 0\n",
    "        memo = {-1:0, 0:nums[0]}\n",
    "        for i in range(1, len(nums)):\n",
    "            memo[i] = max(memo[i-1], memo[i-2] + nums[i])\n",
    "        return memo[len(nums)-1]\n",
    "\n",
    "sol = Solution()\n",
    "print(sol.rob([3,10,3,10,3,3,10,50]))"
   ]
  },
  {
   "cell_type": "code",
   "execution_count": null,
   "metadata": {
    "collapsed": true
   },
   "outputs": [],
   "source": []
  },
  {
   "cell_type": "code",
   "execution_count": null,
   "metadata": {
    "collapsed": true
   },
   "outputs": [],
   "source": [
    "class Solution:\n",
    "    def twoSum(self, nums: 'List[int]', target: 'int') -> 'List[int]':\n",
    "        n = len(nums)\n",
    "        if n == 0:\n",
    "            return []\n",
    "        elif n == 1:\n",
    "            return [0]\n",
    "        elif n == 2:\n",
    "            return [0,1]\n",
    "        x = []\n",
    "        numz = {target - e for e in nums} # if target - e != e\n",
    "        \n",
    "        for i in range(n):\n",
    "            if nums[i] in numz:\n",
    "                x.append(i)\n",
    "        \n",
    "        if len(x) == 2:\n",
    "            return x\n",
    "        else:\n",
    "            if nums[x[0]] + nums[x[1]] == target:\n",
    "                return x[:2]\n",
    "            elif nums[x[0]] + nums[x[2]] == target:\n",
    "                return [x[0], x[2]]\n",
    "            else:\n",
    "                return [x[1], x[2]]\n",
    "        \n",
    "        return x"
   ]
  },
  {
   "cell_type": "code",
   "execution_count": null,
   "metadata": {
    "collapsed": true
   },
   "outputs": [],
   "source": []
  },
  {
   "cell_type": "code",
   "execution_count": null,
   "metadata": {
    "collapsed": true
   },
   "outputs": [],
   "source": [
    "'''MaxProductOfThree'''"
   ]
  },
  {
   "cell_type": "code",
   "execution_count": null,
   "metadata": {
    "collapsed": true
   },
   "outputs": [],
   "source": [
    "def solution(A):\n",
    "    A.sort()\n",
    "#     print(A)\n",
    "    \n",
    "    if A[0]*A[1]*A[-1] > A[-1]*A[-2]*A[-3]:\n",
    "        return A[0]*A[1]*A[-1]\n",
    "    else:\n",
    "        return A[-1]*A[-2]*A[-3]"
   ]
  },
  {
   "cell_type": "code",
   "execution_count": null,
   "metadata": {
    "collapsed": true
   },
   "outputs": [],
   "source": [
    "# solution([-3,1,2,-2,5,6])\n",
    "# solution([-5, 5, -5, 4])\n",
    "# solution([-5, -5, -5, -4])\n",
    "# solution([-5, -6, -4, -7, -10])\n",
    "solution([4, 7, 3, 2, 1, -3, -5])"
   ]
  },
  {
   "cell_type": "code",
   "execution_count": null,
   "metadata": {
    "collapsed": true
   },
   "outputs": [],
   "source": []
  },
  {
   "cell_type": "code",
   "execution_count": null,
   "metadata": {
    "collapsed": true
   },
   "outputs": [],
   "source": [
    "'''Distinct values'''"
   ]
  },
  {
   "cell_type": "code",
   "execution_count": null,
   "metadata": {
    "collapsed": true
   },
   "outputs": [],
   "source": [
    "def solution(A):\n",
    "    n = len(A)\n",
    "    A.sort()\n",
    "    if n == 0:\n",
    "        return 0\n",
    "    elif n == 1:\n",
    "        return 1\n",
    "    \n",
    "    result = 1\n",
    "    \n",
    "    for k in range(1, n):\n",
    "        if A[k] != A[k-1]:\n",
    "            result += 1\n",
    "    \n",
    "    return result"
   ]
  },
  {
   "cell_type": "code",
   "execution_count": null,
   "metadata": {
    "collapsed": true,
    "scrolled": true
   },
   "outputs": [],
   "source": [
    "# solution([2,1,1,2,3,1])\n",
    "solution([1,1,1,2])"
   ]
  },
  {
   "cell_type": "code",
   "execution_count": null,
   "metadata": {
    "collapsed": true
   },
   "outputs": [],
   "source": []
  },
  {
   "cell_type": "code",
   "execution_count": null,
   "metadata": {
    "collapsed": true
   },
   "outputs": [],
   "source": [
    "'''Prefix sums'''"
   ]
  },
  {
   "cell_type": "code",
   "execution_count": null,
   "metadata": {
    "collapsed": true
   },
   "outputs": [],
   "source": [
    "def count_total(P, x, y):\n",
    "    return P[y + 1] - P[x]"
   ]
  },
  {
   "cell_type": "code",
   "execution_count": null,
   "metadata": {
    "collapsed": true
   },
   "outputs": [],
   "source": [
    "def prefix_sums(A):\n",
    "    n = len(A)\n",
    "    P = [0] * (n + 1)\n",
    "    for k in range(1, n + 1):\n",
    "        P[k] = P[k - 1] + A[k - 1]\n",
    "    \n",
    "    return P"
   ]
  },
  {
   "cell_type": "code",
   "execution_count": null,
   "metadata": {
    "collapsed": true
   },
   "outputs": [],
   "source": [
    "def solution(S, P, Q):\n",
    "    N = len(S)\n",
    "    M = len(P)\n",
    "    S = [10 if c=='A' else 10**6 if c=='C' else 10**12 if c=='G' else 10**18 for c in S]\n",
    "    pref = prefix_sums(S)\n",
    "#     print(S, pref[1:])\n",
    "    result = [0]*M\n",
    "    \n",
    "    for num,(i,j) in enumerate(zip(P,Q)):\n",
    "        x = count_total(pref,i,j)\n",
    "#         print(num,i,j,x)\n",
    "        for d in [10**18, 10**12, 10**6, 10]:\n",
    "            if x%d!=0:\n",
    "                x = x%d\n",
    "            else:\n",
    "                result[num] = d\n",
    "                break\n",
    "    \n",
    "    result = [1 if i==10 else 2 if i==10**6 else 3 if i==10**12 else 4 for i in result]\n",
    "    return result"
   ]
  },
  {
   "cell_type": "code",
   "execution_count": null,
   "metadata": {
    "collapsed": true
   },
   "outputs": [],
   "source": [
    "solution('CAGCCTA', [2,5,0], [4,5,6])"
   ]
  },
  {
   "cell_type": "code",
   "execution_count": null,
   "metadata": {
    "collapsed": true
   },
   "outputs": [],
   "source": []
  },
  {
   "cell_type": "code",
   "execution_count": null,
   "metadata": {},
   "outputs": [],
   "source": [
    "# Task for TopTal (second time)\n",
    "def domino(s):\n",
    "    tiles = s.split(',')\n",
    "    n = len(tiles)\n",
    "    \n",
    "    chains_len = []\n",
    "    \n",
    "    x = 1\n",
    "    \n",
    "    for i in range(n-1):\n",
    "        if tiles[i][2] == tiles[i+1][0]:\n",
    "            x += 1\n",
    "        else:\n",
    "            chains_len.append(x)\n",
    "            x = 1\n",
    "    else:\n",
    "        chains_len.append(x)\n",
    "            \n",
    "    return max(chains_len)\n",
    "    \n",
    "# domino(\"3-2,2-1,1-4,4-4,5-4,4-2,2-1\")\n",
    "# domino('1-1,3-5,5-2,2-3,2-4')\n",
    "# domino('6-3') # is it ok to show 1?\n",
    "# domino('4-3,5-1,2-2,1-3,4-4')\n",
    "# domino(\"1-1\") #// 1\n",
    "# domino(\"1-2,1-2\") #// 1\n",
    "# domino(\"3-2,2-1,1-4,4-4,5-4,4-2,2-1\") #// 4\n",
    "# domino(\"5-5,5-5,4-4,5-5,5-5,5-5,5-5,5-5,5-5,5-5\") #// 7\n",
    "# domino(\"1-1,3-5,5-5,5-4,4-2,1-3\") #// 4\n",
    "domino(\"1-2,2-2,3-3,3-4,4-5,1-1,1-2\") #// 3"
   ]
  },
  {
   "cell_type": "code",
   "execution_count": null,
   "metadata": {
    "collapsed": true
   },
   "outputs": [],
   "source": []
  }
 ],
 "metadata": {
  "kernelspec": {
   "display_name": "Python [default]",
   "language": "python",
   "name": "python3"
  },
  "language_info": {
   "codemirror_mode": {
    "name": "ipython",
    "version": 3
   },
   "file_extension": ".py",
   "mimetype": "text/x-python",
   "name": "python",
   "nbconvert_exporter": "python",
   "pygments_lexer": "ipython3",
   "version": "3.6.2"
  }
 },
 "nbformat": 4,
 "nbformat_minor": 2
}
