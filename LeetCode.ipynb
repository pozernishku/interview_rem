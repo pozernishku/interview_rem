{
 "cells": [
  {
   "cell_type": "code",
   "execution_count": null,
   "metadata": {},
   "outputs": [],
   "source": [
    "'''198. House Robber'''"
   ]
  },
  {
   "cell_type": "code",
   "execution_count": null,
   "metadata": {},
   "outputs": [],
   "source": [
    "# Dynamic programming solution\n",
    "class Solution:\n",
    "    def rob(self, nums: 'List[int]') -> 'int':\n",
    "        if not nums:\n",
    "            return 0\n",
    "        memo = {-1:0, 0:nums[0]}\n",
    "        for i in range(1, len(nums)):\n",
    "            memo[i] = max(memo[i-1], memo[i-2] + nums[i])\n",
    "        return memo[len(nums)-1]\n",
    "\n",
    "sol = Solution()\n",
    "print(sol.rob([3,10,3,10,3,3,10,50]))"
   ]
  },
  {
   "cell_type": "code",
   "execution_count": null,
   "metadata": {
    "collapsed": true
   },
   "outputs": [],
   "source": []
  },
  {
   "cell_type": "code",
   "execution_count": null,
   "metadata": {},
   "outputs": [],
   "source": [
    "'''1. Two Sum'''"
   ]
  },
  {
   "cell_type": "code",
   "execution_count": null,
   "metadata": {
    "collapsed": true
   },
   "outputs": [],
   "source": [
    "class Solution:\n",
    "    def twoSum(self, nums: 'List[int]', target: 'int') -> 'List[int]':\n",
    "        n = len(nums)\n",
    "        if n == 0:\n",
    "            return []\n",
    "        elif n == 1:\n",
    "            return [0]\n",
    "        elif n == 2:\n",
    "            return [0,1]\n",
    "        x = []\n",
    "        numz = {target - e for e in nums} # if target - e != e\n",
    "        \n",
    "        for i in range(n):\n",
    "            if nums[i] in numz:\n",
    "                x.append(i)\n",
    "        \n",
    "        if len(x) == 2:\n",
    "            return x\n",
    "        else:\n",
    "            if nums[x[0]] + nums[x[1]] == target:\n",
    "                return x[:2]\n",
    "            elif nums[x[0]] + nums[x[2]] == target:\n",
    "                return [x[0], x[2]]\n",
    "            else:\n",
    "                return [x[1], x[2]]\n",
    "        \n",
    "        return x"
   ]
  },
  {
   "cell_type": "code",
   "execution_count": null,
   "metadata": {
    "collapsed": true
   },
   "outputs": [],
   "source": []
  }
 ],
 "metadata": {
  "kernelspec": {
   "display_name": "Python [default]",
   "language": "python",
   "name": "python3"
  },
  "language_info": {
   "codemirror_mode": {
    "name": "ipython",
    "version": 3
   },
   "file_extension": ".py",
   "mimetype": "text/x-python",
   "name": "python",
   "nbconvert_exporter": "python",
   "pygments_lexer": "ipython3",
   "version": "3.6.7"
  }
 },
 "nbformat": 4,
 "nbformat_minor": 2
}
