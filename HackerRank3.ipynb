{
 "cells": [
  {
   "cell_type": "code",
   "execution_count": null,
   "metadata": {},
   "outputs": [],
   "source": [
    "'''3D Surf'''"
   ]
  },
  {
   "cell_type": "code",
   "execution_count": null,
   "metadata": {
    "collapsed": true
   },
   "outputs": [],
   "source": [
    "a = list(map(lambda x: [i*6 for i in x],\n",
    "   [[1, 3, 4],\n",
    "    [2, 2, 3],\n",
    "    [1, 2, 4]]))"
   ]
  },
  {
   "cell_type": "code",
   "execution_count": null,
   "metadata": {},
   "outputs": [],
   "source": [
    "list(a)"
   ]
  },
  {
   "cell_type": "code",
   "execution_count": null,
   "metadata": {},
   "outputs": [],
   "source": [
    "sum(a)"
   ]
  },
  {
   "cell_type": "code",
   "execution_count": null,
   "metadata": {},
   "outputs": [],
   "source": [
    "[91, 80, 7, 41, 36, 11, 48, 57, 40, 43]"
   ]
  },
  {
   "cell_type": "code",
   "execution_count": 6,
   "metadata": {},
   "outputs": [],
   "source": [
    "a=[[0] * (5 + 2)]"
   ]
  },
  {
   "cell_type": "code",
   "execution_count": 7,
   "metadata": {},
   "outputs": [],
   "source": [
    "a[0][1]=22"
   ]
  },
  {
   "cell_type": "code",
   "execution_count": 8,
   "metadata": {},
   "outputs": [
    {
     "data": {
      "text/plain": [
       "[[0, 22, 0, 0, 0, 0, 0]]"
      ]
     },
     "execution_count": 8,
     "metadata": {},
     "output_type": "execute_result"
    }
   ],
   "source": [
    "a"
   ]
  },
  {
   "cell_type": "code",
   "execution_count": null,
   "metadata": {},
   "outputs": [],
   "source": []
  },
  {
   "cell_type": "code",
   "execution_count": 9,
   "metadata": {},
   "outputs": [
    {
     "data": {
      "text/plain": [
       "\"Taum and B'day\""
      ]
     },
     "execution_count": 9,
     "metadata": {},
     "output_type": "execute_result"
    }
   ],
   "source": [
    "'''Taum and B'day'''"
   ]
  },
  {
   "cell_type": "code",
   "execution_count": 345,
   "metadata": {},
   "outputs": [],
   "source": [
    "b, w, bc, wc, z = 860, 605, 274229, 795307, 2153"
   ]
  },
  {
   "cell_type": "code",
   "execution_count": 348,
   "metadata": {},
   "outputs": [],
   "source": [
    "def taumBday(b, w, bc, wc, z):\n",
    "    x = (b+w)*min(bc,wc)+z*(min(b,w) if (bc > wc and b < w) or (bc < wc and b > w) else max(b,w))\n",
    "    y = b*bc+w*wc\n",
    "    return x if x < y else y\n",
    "#     return min(b * bc + w * wc, bc * (b + w) + w * z, wc * (b + w) + b * z)"
   ]
  },
  {
   "cell_type": "code",
   "execution_count": 349,
   "metadata": {},
   "outputs": [
    {
     "data": {
      "text/plain": [
       "403048050"
      ]
     },
     "execution_count": 349,
     "metadata": {},
     "output_type": "execute_result"
    }
   ],
   "source": [
    "taumBday(b, w, bc, wc, z)"
   ]
  },
  {
   "cell_type": "code",
   "execution_count": null,
   "metadata": {},
   "outputs": [],
   "source": []
  },
  {
   "cell_type": "code",
   "execution_count": null,
   "metadata": {},
   "outputs": [],
   "source": []
  },
  {
   "cell_type": "code",
   "execution_count": null,
   "metadata": {},
   "outputs": [],
   "source": []
  },
  {
   "cell_type": "code",
   "execution_count": null,
   "metadata": {},
   "outputs": [],
   "source": []
  },
  {
   "cell_type": "code",
   "execution_count": null,
   "metadata": {},
   "outputs": [],
   "source": []
  },
  {
   "cell_type": "code",
   "execution_count": null,
   "metadata": {},
   "outputs": [],
   "source": []
  },
  {
   "cell_type": "code",
   "execution_count": null,
   "metadata": {},
   "outputs": [],
   "source": []
  },
  {
   "cell_type": "code",
   "execution_count": null,
   "metadata": {},
   "outputs": [],
   "source": []
  },
  {
   "cell_type": "code",
   "execution_count": null,
   "metadata": {},
   "outputs": [],
   "source": []
  },
  {
   "cell_type": "code",
   "execution_count": null,
   "metadata": {},
   "outputs": [],
   "source": []
  },
  {
   "cell_type": "code",
   "execution_count": null,
   "metadata": {},
   "outputs": [],
   "source": []
  },
  {
   "cell_type": "code",
   "execution_count": null,
   "metadata": {},
   "outputs": [],
   "source": []
  },
  {
   "cell_type": "code",
   "execution_count": null,
   "metadata": {},
   "outputs": [],
   "source": []
  },
  {
   "cell_type": "code",
   "execution_count": null,
   "metadata": {},
   "outputs": [],
   "source": [
    "'''Ema's Supercomputer'''"
   ]
  },
  {
   "cell_type": "code",
   "execution_count": null,
   "metadata": {
    "collapsed": true
   },
   "outputs": [],
   "source": [
    "g = ['BGBBGB',\n",
    "'GGGGGG',\n",
    "'BGBBGB',\n",
    "'GGGGGG',\n",
    "'BGBBGB',\n",
    "'BGBBGB']\n",
    "n = len(g)\n",
    "m = len(g[0])"
   ]
  },
  {
   "cell_type": "code",
   "execution_count": null,
   "metadata": {
    "collapsed": true
   },
   "outputs": [],
   "source": [
    "def twoPluses(g, n, m):\n",
    "    g = [list(e) for e in g]\n",
    "    a, result = [], []\n",
    "    x = [[-1 for _ in range(m)] for _ in range(n)]\n",
    "\n",
    "    for i in range(n):\n",
    "        for j in range(m):\n",
    "            if g[i][j] == 'G':\n",
    "                a.append((1,i,j))\n",
    "                for k in range(1, min(n-1 if n%2 == 0 else n, m-1 if m%2 == 0 else m)//2+1):\n",
    "                    if j+k <= m-1 and j-k >= 0 and i+k <= n-1 and i-k >= 0:\n",
    "                        if g[i][j+k] == 'G' and g[i][j-k] == 'G' and g[i+k][j] == 'G' and g[i-k][j] == 'G':\n",
    "                            a.append((4*k+1,i,j))\n",
    "                        else:\n",
    "                            break\n",
    "                    else:\n",
    "                        break\n",
    "            else:\n",
    "                continue\n",
    "                \n",
    "    for i in range(len(a)):\n",
    "        aa, ii, jj = a[i]\n",
    "        for k in range(1, a[i][0]//4+1):\n",
    "            x[ii][jj] = i\n",
    "            x[ii][jj+k] = i\n",
    "            x[ii][jj-k] = i\n",
    "            x[ii+k][jj] = i\n",
    "            x[ii-k][jj] = i\n",
    "        for j in range(i+1,len(a)):\n",
    "            aaa, iii, jjj = a[j]\n",
    "            for h in range(1, a[j][0]//4+1):\n",
    "                if x[iii][jjj]==i or x[iii][jjj+h]==i or x[iii][jjj-h]==i or x[iii+h][jjj]==i or x[iii-h][jjj]==i:\n",
    "                    break\n",
    "                else:\n",
    "                    continue\n",
    "            else: # loop h else statement ends successfully\n",
    "                result.append(aa*aaa)\n",
    "    return max(result)"
   ]
  },
  {
   "cell_type": "code",
   "execution_count": null,
   "metadata": {},
   "outputs": [],
   "source": [
    "twoPluses(g,n,m)"
   ]
  }
 ],
 "metadata": {
  "kernelspec": {
   "display_name": "Python 3",
   "language": "python",
   "name": "python3"
  },
  "language_info": {
   "codemirror_mode": {
    "name": "ipython",
    "version": 3
   },
   "file_extension": ".py",
   "mimetype": "text/x-python",
   "name": "python",
   "nbconvert_exporter": "python",
   "pygments_lexer": "ipython3",
   "version": "3.6.5"
  }
 },
 "nbformat": 4,
 "nbformat_minor": 2
}
