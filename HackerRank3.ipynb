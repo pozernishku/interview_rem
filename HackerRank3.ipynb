{
 "cells": [
  {
   "cell_type": "code",
   "execution_count": 1,
   "metadata": {},
   "outputs": [
    {
     "data": {
      "text/plain": [
       "'Even Fibonacci numbers'"
      ]
     },
     "execution_count": 1,
     "metadata": {},
     "output_type": "execute_result"
    }
   ],
   "source": [
    "'''Even Fibonacci numbers'''"
   ]
  },
  {
   "cell_type": "code",
   "execution_count": 33,
   "metadata": {
    "scrolled": false
   },
   "outputs": [],
   "source": [
    "def f(n):\n",
    "    a, b, c, x, y = 1, 2, 0, 0, 0\n",
    "    while c < n:\n",
    "        c += 1\n",
    "        if a%2 == 0:\n",
    "            x += a\n",
    "        else:\n",
    "            y += a\n",
    "        print(a, 'ev ' if a%2 == 0 else '   ', x, y)\n",
    "        a, b = b, a + b\n",
    "    return x, y, x+y"
   ]
  },
  {
   "cell_type": "code",
   "execution_count": 36,
   "metadata": {},
   "outputs": [
    {
     "name": "stdout",
     "output_type": "stream",
     "text": [
      "1     0 1\n",
      "2 ev  2 1\n",
      "3     2 4\n",
      "5     2 9\n",
      "8 ev  10 9\n",
      "13     10 22\n",
      "21     10 43\n",
      "34 ev  44 43\n",
      "55     44 98\n",
      "89     44 187\n",
      "144 ev  188 187\n"
     ]
    },
    {
     "data": {
      "text/plain": [
       "(188, 187, 375)"
      ]
     },
     "execution_count": 36,
     "metadata": {},
     "output_type": "execute_result"
    }
   ],
   "source": [
    "f(11)"
   ]
  },
  {
   "cell_type": "code",
   "execution_count": null,
   "metadata": {},
   "outputs": [],
   "source": []
  },
  {
   "cell_type": "code",
   "execution_count": null,
   "metadata": {},
   "outputs": [],
   "source": []
  },
  {
   "cell_type": "code",
   "execution_count": null,
   "metadata": {},
   "outputs": [],
   "source": [
    "def F(n):\n",
    "    if n == 0: \n",
    "        return 0\n",
    "    elif n == 1: \n",
    "        return 1\n",
    "    else: \n",
    "        return F(n-1)+F(n-2)"
   ]
  },
  {
   "cell_type": "code",
   "execution_count": null,
   "metadata": {},
   "outputs": [],
   "source": [
    "F(6)"
   ]
  },
  {
   "cell_type": "code",
   "execution_count": null,
   "metadata": {},
   "outputs": [],
   "source": [
    "from math import sqrt\n",
    "def F(n):\n",
    "    return ((1+sqrt(5))**n-(1-sqrt(5))**n)/(2**n*sqrt(5))"
   ]
  },
  {
   "cell_type": "code",
   "execution_count": null,
   "metadata": {},
   "outputs": [],
   "source": [
    "'''\n",
    "Multiples of 3 and 5\n",
    "https://projecteuler.net/problem=1\n",
    "'''"
   ]
  },
  {
   "cell_type": "code",
   "execution_count": null,
   "metadata": {
    "scrolled": false
   },
   "outputs": [],
   "source": [
    "sum([i for i in range(1000) if i%3==0 or i%5==0])"
   ]
  },
  {
   "cell_type": "code",
   "execution_count": null,
   "metadata": {},
   "outputs": [],
   "source": [
    "target = 999\n",
    "def SumDivisibleBy(n):\n",
    "    p = target // n\n",
    "    return n*(p*(p+1)) // 2"
   ]
  },
  {
   "cell_type": "code",
   "execution_count": null,
   "metadata": {},
   "outputs": [],
   "source": [
    "SumDivisibleBy(3)+SumDivisibleBy(5)-SumDivisibleBy(15)"
   ]
  },
  {
   "cell_type": "code",
   "execution_count": null,
   "metadata": {},
   "outputs": [],
   "source": [
    "'''3D Surf'''"
   ]
  },
  {
   "cell_type": "code",
   "execution_count": null,
   "metadata": {},
   "outputs": [],
   "source": [
    "a = list(map(lambda x: [i*6 for i in x],\n",
    "   [[1, 3, 4],\n",
    "    [2, 2, 3],\n",
    "    [1, 2, 4]]))"
   ]
  },
  {
   "cell_type": "code",
   "execution_count": null,
   "metadata": {},
   "outputs": [],
   "source": [
    "list(a)"
   ]
  },
  {
   "cell_type": "code",
   "execution_count": null,
   "metadata": {},
   "outputs": [],
   "source": [
    "sum(a)"
   ]
  },
  {
   "cell_type": "code",
   "execution_count": null,
   "metadata": {},
   "outputs": [],
   "source": [
    "[91, 80, 7, 41, 36, 11, 48, 57, 40, 43]"
   ]
  },
  {
   "cell_type": "code",
   "execution_count": null,
   "metadata": {},
   "outputs": [],
   "source": [
    "a=[[0] * (5 + 2)]"
   ]
  },
  {
   "cell_type": "code",
   "execution_count": null,
   "metadata": {},
   "outputs": [],
   "source": [
    "a[0][1]=22"
   ]
  },
  {
   "cell_type": "code",
   "execution_count": null,
   "metadata": {},
   "outputs": [],
   "source": [
    "a"
   ]
  },
  {
   "cell_type": "code",
   "execution_count": null,
   "metadata": {},
   "outputs": [],
   "source": []
  },
  {
   "cell_type": "code",
   "execution_count": null,
   "metadata": {},
   "outputs": [],
   "source": [
    "'''Taum and B'day'''"
   ]
  },
  {
   "cell_type": "code",
   "execution_count": null,
   "metadata": {},
   "outputs": [],
   "source": [
    "b, w, bc, wc, z = 860, 605, 274229, 795307, 2153"
   ]
  },
  {
   "cell_type": "code",
   "execution_count": null,
   "metadata": {},
   "outputs": [],
   "source": [
    "def taumBday(b, w, bc, wc, z):\n",
    "    x = (b+w)*min(bc,wc)+z*(min(b,w) if (bc > wc and b < w) or (bc < wc and b > w) else max(b,w))\n",
    "    y = b*bc+w*wc\n",
    "    return x if x < y else y\n",
    "#     return min(b * bc + w * wc, bc * (b + w) + w * z, wc * (b + w) + b * z)"
   ]
  },
  {
   "cell_type": "code",
   "execution_count": null,
   "metadata": {},
   "outputs": [],
   "source": [
    "taumBday(b, w, bc, wc, z)"
   ]
  },
  {
   "cell_type": "code",
   "execution_count": null,
   "metadata": {},
   "outputs": [],
   "source": [
    "'''Utopian Tree'''"
   ]
  },
  {
   "cell_type": "code",
   "execution_count": null,
   "metadata": {},
   "outputs": [],
   "source": [
    "n = 20\n",
    "from math import sqrt"
   ]
  },
  {
   "cell_type": "code",
   "execution_count": null,
   "metadata": {},
   "outputs": [],
   "source": [
    "def utopianTree(n):\n",
    "    x = 0\n",
    "    for i in range(n+1):\n",
    "        if i%2==0:\n",
    "            x += 1\n",
    "        else:\n",
    "            x *= 2\n",
    "    else:\n",
    "        return x"
   ]
  },
  {
   "cell_type": "code",
   "execution_count": null,
   "metadata": {},
   "outputs": [],
   "source": [
    "utopianTree(n)"
   ]
  },
  {
   "cell_type": "code",
   "execution_count": null,
   "metadata": {},
   "outputs": [],
   "source": [
    "def utopianTree(n):\n",
    "    '''Closed Form'''\n",
    "    return round((-1)**n/2-3/2+2**(n/2)*(1+sqrt(2)+(1-sqrt(2))*(-1)**n))"
   ]
  },
  {
   "cell_type": "code",
   "execution_count": null,
   "metadata": {},
   "outputs": [],
   "source": [
    "utopianTree(n)"
   ]
  },
  {
   "cell_type": "code",
   "execution_count": null,
   "metadata": {},
   "outputs": [],
   "source": [
    "def utopianTree(n):\n",
    "    '''Closed Form'''\n",
    "    return 2 ** ((n+1)//2+1)   -  1 - (n%2)"
   ]
  },
  {
   "cell_type": "code",
   "execution_count": null,
   "metadata": {},
   "outputs": [],
   "source": [
    "'''Bitwise'''\n",
    "~(~1<<(n>>1)) << n%2"
   ]
  },
  {
   "cell_type": "code",
   "execution_count": null,
   "metadata": {
    "scrolled": true
   },
   "outputs": [],
   "source": [
    "utopianTree(n)"
   ]
  },
  {
   "cell_type": "code",
   "execution_count": null,
   "metadata": {},
   "outputs": [],
   "source": [
    "# https://oeis.org/search?q=1%2C2%2C3%2C6%2C7%2C14%2C15%2C30%2C31%2C62&language=english&go=Search"
   ]
  },
  {
   "cell_type": "code",
   "execution_count": null,
   "metadata": {},
   "outputs": [],
   "source": [
    "'''Ema's Supercomputer'''"
   ]
  },
  {
   "cell_type": "code",
   "execution_count": null,
   "metadata": {},
   "outputs": [],
   "source": [
    "g = ['BGBBGB',\n",
    "'GGGGGG',\n",
    "'BGBBGB',\n",
    "'GGGGGG',\n",
    "'BGBBGB',\n",
    "'BGBBGB']\n",
    "n = len(g)\n",
    "m = len(g[0])"
   ]
  },
  {
   "cell_type": "code",
   "execution_count": null,
   "metadata": {},
   "outputs": [],
   "source": [
    "def twoPluses(g, n, m):\n",
    "    g = [list(e) for e in g]\n",
    "    a, result = [], []\n",
    "    x = [[-1 for _ in range(m)] for _ in range(n)]\n",
    "\n",
    "    for i in range(n):\n",
    "        for j in range(m):\n",
    "            if g[i][j] == 'G':\n",
    "                a.append((1,i,j))\n",
    "                for k in range(1, min(n-1 if n%2 == 0 else n, m-1 if m%2 == 0 else m)//2+1):\n",
    "                    if j+k <= m-1 and j-k >= 0 and i+k <= n-1 and i-k >= 0:\n",
    "                        if g[i][j+k] == 'G' and g[i][j-k] == 'G' and g[i+k][j] == 'G' and g[i-k][j] == 'G':\n",
    "                            a.append((4*k+1,i,j))\n",
    "                        else:\n",
    "                            break\n",
    "                    else:\n",
    "                        break\n",
    "            else:\n",
    "                continue\n",
    "                \n",
    "    for i in range(len(a)):\n",
    "        aa, ii, jj = a[i]\n",
    "        for k in range(1, a[i][0]//4+1):\n",
    "            x[ii][jj] = i\n",
    "            x[ii][jj+k] = i\n",
    "            x[ii][jj-k] = i\n",
    "            x[ii+k][jj] = i\n",
    "            x[ii-k][jj] = i\n",
    "        for j in range(i+1,len(a)):\n",
    "            aaa, iii, jjj = a[j]\n",
    "            for h in range(1, a[j][0]//4+1):\n",
    "                if x[iii][jjj]==i or x[iii][jjj+h]==i or x[iii][jjj-h]==i or x[iii+h][jjj]==i or x[iii-h][jjj]==i:\n",
    "                    break\n",
    "                else:\n",
    "                    continue\n",
    "            else: # loop h else statement ends successfully\n",
    "                result.append(aa*aaa)\n",
    "    return max(result)"
   ]
  },
  {
   "cell_type": "code",
   "execution_count": null,
   "metadata": {},
   "outputs": [],
   "source": [
    "twoPluses(g,n,m)"
   ]
  }
 ],
 "metadata": {
  "kernelspec": {
   "display_name": "Python 3",
   "language": "python",
   "name": "python3"
  },
  "language_info": {
   "codemirror_mode": {
    "name": "ipython",
    "version": 3
   },
   "file_extension": ".py",
   "mimetype": "text/x-python",
   "name": "python",
   "nbconvert_exporter": "python",
   "pygments_lexer": "ipython3",
   "version": "3.6.5"
  }
 },
 "nbformat": 4,
 "nbformat_minor": 2
}
