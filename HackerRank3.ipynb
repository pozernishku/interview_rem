{
 "cells": [
  {
   "cell_type": "code",
   "execution_count": 1,
   "metadata": {},
   "outputs": [
    {
     "data": {
      "text/plain": [
       "'Even Fibonacci numbers'"
      ]
     },
     "execution_count": 1,
     "metadata": {},
     "output_type": "execute_result"
    }
   ],
   "source": [
    "'''Even Fibonacci numbers'''"
   ]
  },
  {
   "cell_type": "code",
   "execution_count": 119,
   "metadata": {
    "scrolled": false
   },
   "outputs": [],
   "source": [
    "def f(n):\n",
    "    a, b, c, x, y = 1, 2, 0, 0, 0\n",
    "    while c < n:\n",
    "        c += 1\n",
    "        if a%2 == 0:\n",
    "            x += a\n",
    "        else:\n",
    "            y += a\n",
    "        print(a, 'ev' if a%2 == 0 else '', x, y, sep='\\t')\n",
    "        a, b = b, a + b\n",
    "    return x, y, x+y"
   ]
  },
  {
   "cell_type": "code",
   "execution_count": 125,
   "metadata": {
    "collapsed": true
   },
   "outputs": [
    {
     "name": "stdout",
     "output_type": "stream",
     "text": [
      "1\t\t0\t1\n",
      "2\tev\t2\t1\n",
      "3\t\t2\t4\n",
      "5\t\t2\t9\n",
      "8\tev\t10\t9\n",
      "13\t\t10\t22\n",
      "21\t\t10\t43\n",
      "34\tev\t44\t43\n",
      "55\t\t44\t98\n",
      "89\t\t44\t187\n",
      "144\tev\t188\t187\n",
      "233\t\t188\t420\n",
      "377\t\t188\t797\n",
      "610\tev\t798\t797\n",
      "987\t\t798\t1784\n",
      "1597\t\t798\t3381\n",
      "2584\tev\t3382\t3381\n",
      "4181\t\t3382\t7562\n",
      "6765\t\t3382\t14327\n",
      "10946\tev\t14328\t14327\n",
      "17711\t\t14328\t32038\n",
      "28657\t\t14328\t60695\n",
      "46368\tev\t60696\t60695\n",
      "75025\t\t60696\t135720\n",
      "121393\t\t60696\t257113\n",
      "196418\tev\t257114\t257113\n",
      "317811\t\t257114\t574924\n",
      "514229\t\t257114\t1089153\n",
      "832040\tev\t1089154\t1089153\n",
      "1346269\t\t1089154\t2435422\n",
      "2178309\t\t1089154\t4613731\n",
      "3524578\tev\t4613732\t4613731\n",
      "5702887\t\t4613732\t10316618\n",
      "9227465\t\t4613732\t19544083\n"
     ]
    },
    {
     "data": {
      "text/plain": [
       "(4613732, 19544083, 24157815)"
      ]
     },
     "execution_count": 125,
     "metadata": {},
     "output_type": "execute_result"
    }
   ],
   "source": [
    "f(34) # Sum of 11 even values in fib sequence is an answer = 4613732"
   ]
  },
  {
   "cell_type": "code",
   "execution_count": 128,
   "metadata": {},
   "outputs": [],
   "source": [
    "def calcE():\n",
    "    x = y = 1\n",
    "    sum = 0\n",
    "    while (sum < 1000000):\n",
    "        sum += (x + y)\n",
    "        x, y = x + 2 * y, 2 * x + 3 * y\n",
    "    return sum"
   ]
  },
  {
   "cell_type": "code",
   "execution_count": 129,
   "metadata": {},
   "outputs": [
    {
     "data": {
      "text/plain": [
       "1089154"
      ]
     },
     "execution_count": 129,
     "metadata": {},
     "output_type": "execute_result"
    }
   ],
   "source": [
    "calcE()"
   ]
  },
  {
   "cell_type": "code",
   "execution_count": null,
   "metadata": {},
   "outputs": [],
   "source": []
  },
  {
   "cell_type": "code",
   "execution_count": null,
   "metadata": {},
   "outputs": [],
   "source": []
  },
  {
   "cell_type": "code",
   "execution_count": null,
   "metadata": {},
   "outputs": [],
   "source": [
    "# Below are some fibonacci implementations"
   ]
  },
  {
   "cell_type": "code",
   "execution_count": null,
   "metadata": {},
   "outputs": [],
   "source": [
    "def F(n):\n",
    "    if n == 0: \n",
    "        return 0\n",
    "    elif n == 1: \n",
    "        return 1\n",
    "    else: \n",
    "        return F(n-1)+F(n-2)"
   ]
  },
  {
   "cell_type": "code",
   "execution_count": null,
   "metadata": {},
   "outputs": [],
   "source": [
    "F(6)"
   ]
  },
  {
   "cell_type": "code",
   "execution_count": null,
   "metadata": {},
   "outputs": [],
   "source": [
    "from math import sqrt\n",
    "def F(n):\n",
    "    return ((1+sqrt(5))**n-(1-sqrt(5))**n)/(2**n*sqrt(5))"
   ]
  },
  {
   "cell_type": "code",
   "execution_count": null,
   "metadata": {},
   "outputs": [],
   "source": [
    "'''\n",
    "Multiples of 3 and 5\n",
    "https://projecteuler.net/problem=1\n",
    "'''"
   ]
  },
  {
   "cell_type": "code",
   "execution_count": null,
   "metadata": {
    "scrolled": false
   },
   "outputs": [],
   "source": [
    "sum([i for i in range(1000) if i%3==0 or i%5==0])"
   ]
  },
  {
   "cell_type": "code",
   "execution_count": null,
   "metadata": {},
   "outputs": [],
   "source": [
    "target = 999\n",
    "def SumDivisibleBy(n):\n",
    "    p = target // n\n",
    "    return n*(p*(p+1)) // 2"
   ]
  },
  {
   "cell_type": "code",
   "execution_count": null,
   "metadata": {},
   "outputs": [],
   "source": [
    "SumDivisibleBy(3)+SumDivisibleBy(5)-SumDivisibleBy(15)"
   ]
  },
  {
   "cell_type": "code",
   "execution_count": null,
   "metadata": {},
   "outputs": [],
   "source": [
    "'''3D Surf'''"
   ]
  },
  {
   "cell_type": "code",
   "execution_count": null,
   "metadata": {},
   "outputs": [],
   "source": [
    "a = list(map(lambda x: [i*6 for i in x],\n",
    "   [[1, 3, 4],\n",
    "    [2, 2, 3],\n",
    "    [1, 2, 4]]))"
   ]
  },
  {
   "cell_type": "code",
   "execution_count": null,
   "metadata": {},
   "outputs": [],
   "source": [
    "list(a)"
   ]
  },
  {
   "cell_type": "code",
   "execution_count": null,
   "metadata": {},
   "outputs": [],
   "source": [
    "sum(a)"
   ]
  },
  {
   "cell_type": "code",
   "execution_count": null,
   "metadata": {},
   "outputs": [],
   "source": [
    "[91, 80, 7, 41, 36, 11, 48, 57, 40, 43]"
   ]
  },
  {
   "cell_type": "code",
   "execution_count": null,
   "metadata": {},
   "outputs": [],
   "source": [
    "a=[[0] * (5 + 2)]"
   ]
  },
  {
   "cell_type": "code",
   "execution_count": null,
   "metadata": {},
   "outputs": [],
   "source": [
    "a[0][1]=22"
   ]
  },
  {
   "cell_type": "code",
   "execution_count": null,
   "metadata": {},
   "outputs": [],
   "source": [
    "a"
   ]
  },
  {
   "cell_type": "code",
   "execution_count": null,
   "metadata": {},
   "outputs": [],
   "source": []
  },
  {
   "cell_type": "code",
   "execution_count": null,
   "metadata": {},
   "outputs": [],
   "source": [
    "'''Taum and B'day'''"
   ]
  },
  {
   "cell_type": "code",
   "execution_count": null,
   "metadata": {},
   "outputs": [],
   "source": [
    "b, w, bc, wc, z = 860, 605, 274229, 795307, 2153"
   ]
  },
  {
   "cell_type": "code",
   "execution_count": null,
   "metadata": {},
   "outputs": [],
   "source": [
    "def taumBday(b, w, bc, wc, z):\n",
    "    x = (b+w)*min(bc,wc)+z*(min(b,w) if (bc > wc and b < w) or (bc < wc and b > w) else max(b,w))\n",
    "    y = b*bc+w*wc\n",
    "    return x if x < y else y\n",
    "#     return min(b * bc + w * wc, bc * (b + w) + w * z, wc * (b + w) + b * z)"
   ]
  },
  {
   "cell_type": "code",
   "execution_count": null,
   "metadata": {},
   "outputs": [],
   "source": [
    "taumBday(b, w, bc, wc, z)"
   ]
  },
  {
   "cell_type": "code",
   "execution_count": null,
   "metadata": {},
   "outputs": [],
   "source": [
    "'''Utopian Tree'''"
   ]
  },
  {
   "cell_type": "code",
   "execution_count": null,
   "metadata": {},
   "outputs": [],
   "source": [
    "n = 20\n",
    "from math import sqrt"
   ]
  },
  {
   "cell_type": "code",
   "execution_count": null,
   "metadata": {},
   "outputs": [],
   "source": [
    "def utopianTree(n):\n",
    "    x = 0\n",
    "    for i in range(n+1):\n",
    "        if i%2==0:\n",
    "            x += 1\n",
    "        else:\n",
    "            x *= 2\n",
    "    else:\n",
    "        return x"
   ]
  },
  {
   "cell_type": "code",
   "execution_count": null,
   "metadata": {},
   "outputs": [],
   "source": [
    "utopianTree(n)"
   ]
  },
  {
   "cell_type": "code",
   "execution_count": null,
   "metadata": {},
   "outputs": [],
   "source": [
    "def utopianTree(n):\n",
    "    '''Closed Form'''\n",
    "    return round((-1)**n/2-3/2+2**(n/2)*(1+sqrt(2)+(1-sqrt(2))*(-1)**n))"
   ]
  },
  {
   "cell_type": "code",
   "execution_count": null,
   "metadata": {},
   "outputs": [],
   "source": [
    "utopianTree(n)"
   ]
  },
  {
   "cell_type": "code",
   "execution_count": null,
   "metadata": {},
   "outputs": [],
   "source": [
    "def utopianTree(n):\n",
    "    '''Closed Form'''\n",
    "    return 2 ** ((n+1)//2+1)   -  1 - (n%2)"
   ]
  },
  {
   "cell_type": "code",
   "execution_count": null,
   "metadata": {},
   "outputs": [],
   "source": [
    "'''Bitwise'''\n",
    "~(~1<<(n>>1)) << n%2"
   ]
  },
  {
   "cell_type": "code",
   "execution_count": null,
   "metadata": {
    "scrolled": true
   },
   "outputs": [],
   "source": [
    "utopianTree(n)"
   ]
  },
  {
   "cell_type": "code",
   "execution_count": null,
   "metadata": {},
   "outputs": [],
   "source": [
    "# https://oeis.org/search?q=1%2C2%2C3%2C6%2C7%2C14%2C15%2C30%2C31%2C62&language=english&go=Search"
   ]
  },
  {
   "cell_type": "code",
   "execution_count": null,
   "metadata": {},
   "outputs": [],
   "source": [
    "'''Ema's Supercomputer'''"
   ]
  },
  {
   "cell_type": "code",
   "execution_count": null,
   "metadata": {},
   "outputs": [],
   "source": [
    "g = ['BGBBGB',\n",
    "'GGGGGG',\n",
    "'BGBBGB',\n",
    "'GGGGGG',\n",
    "'BGBBGB',\n",
    "'BGBBGB']\n",
    "n = len(g)\n",
    "m = len(g[0])"
   ]
  },
  {
   "cell_type": "code",
   "execution_count": null,
   "metadata": {},
   "outputs": [],
   "source": [
    "def twoPluses(g, n, m):\n",
    "    g = [list(e) for e in g]\n",
    "    a, result = [], []\n",
    "    x = [[-1 for _ in range(m)] for _ in range(n)]\n",
    "\n",
    "    for i in range(n):\n",
    "        for j in range(m):\n",
    "            if g[i][j] == 'G':\n",
    "                a.append((1,i,j))\n",
    "                for k in range(1, min(n-1 if n%2 == 0 else n, m-1 if m%2 == 0 else m)//2+1):\n",
    "                    if j+k <= m-1 and j-k >= 0 and i+k <= n-1 and i-k >= 0:\n",
    "                        if g[i][j+k] == 'G' and g[i][j-k] == 'G' and g[i+k][j] == 'G' and g[i-k][j] == 'G':\n",
    "                            a.append((4*k+1,i,j))\n",
    "                        else:\n",
    "                            break\n",
    "                    else:\n",
    "                        break\n",
    "            else:\n",
    "                continue\n",
    "                \n",
    "    for i in range(len(a)):\n",
    "        aa, ii, jj = a[i]\n",
    "        for k in range(1, a[i][0]//4+1):\n",
    "            x[ii][jj] = i\n",
    "            x[ii][jj+k] = i\n",
    "            x[ii][jj-k] = i\n",
    "            x[ii+k][jj] = i\n",
    "            x[ii-k][jj] = i\n",
    "        for j in range(i+1,len(a)):\n",
    "            aaa, iii, jjj = a[j]\n",
    "            for h in range(1, a[j][0]//4+1):\n",
    "                if x[iii][jjj]==i or x[iii][jjj+h]==i or x[iii][jjj-h]==i or x[iii+h][jjj]==i or x[iii-h][jjj]==i:\n",
    "                    break\n",
    "                else:\n",
    "                    continue\n",
    "            else: # loop h else statement ends successfully\n",
    "                result.append(aa*aaa)\n",
    "    return max(result)"
   ]
  },
  {
   "cell_type": "code",
   "execution_count": null,
   "metadata": {},
   "outputs": [],
   "source": [
    "twoPluses(g,n,m)"
   ]
  }
 ],
 "metadata": {
  "kernelspec": {
   "display_name": "Python 3",
   "language": "python",
   "name": "python3"
  },
  "language_info": {
   "codemirror_mode": {
    "name": "ipython",
    "version": 3
   },
   "file_extension": ".py",
   "mimetype": "text/x-python",
   "name": "python",
   "nbconvert_exporter": "python",
   "pygments_lexer": "ipython3",
   "version": "3.6.5"
  }
 },
 "nbformat": 4,
 "nbformat_minor": 2
}
