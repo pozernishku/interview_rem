{
 "cells": [
  {
   "cell_type": "code",
   "execution_count": null,
   "metadata": {},
   "outputs": [],
   "source": [
    "'''\n",
    "Largest palindrome product\n",
    "https://projecteuler.net/problem=4\n",
    "'''"
   ]
  },
  {
   "cell_type": "code",
   "execution_count": null,
   "metadata": {
    "collapsed": true
   },
   "outputs": [],
   "source": [
    "p = [869968, 870078, 871178, 872278, 873378, 874478, 875578, 876678, 877778, 878878, 879978, \n",
    "     880088, 881188, 882288, 883388, 884488, 885588, 886688, 887788, 888888, 889988, 890098, \n",
    "     891198, 892298, 893398, 894498, 895598, 896698, 897798, 898898, 899998, 900009, 901109, \n",
    "     902209, 903309, 904409, 905509, 906609, 907709, 908809, 909909, 910019, 911119, 912219, \n",
    "     913319, 914419, 915519, 916619, 917719, 918819, 919919, 920029, 921129, 922229, 923329, \n",
    "     924429, 925529, 926629, 927729, 928829, 929929, 930039, 931139, 932239, 933339, 934439, \n",
    "     935539, 936639, 937739, 938839, 939939, 940049, 941149, 942249, 943349, 944449, 945549, \n",
    "     946649, 947749, 948849, 949949, 950059, 951159, 952259, 953359, 954459, 955559, 956659, \n",
    "     957759, 958859, 959959, 960069, 961169, 962269, 963369, 964469, 965569, 966669, 967769, \n",
    "     968869, 969969, 970079, 971179, 972279, 973379, 974479, 975579, 976679, 977779, 978879, \n",
    "     979979, 980089, 981189, 982289, 983389, 984489, 985589, 986689, 987789, 988889, 989989, \n",
    "     990099, 991199, 992299, 993399, 994499, 995599, 996699, 997799, 998899, 999999][::-1]"
   ]
  },
  {
   "cell_type": "code",
   "execution_count": null,
   "metadata": {
    "scrolled": false
   },
   "outputs": [],
   "source": [
    "for x in p:\n",
    "    for d in range(999,99,-1):\n",
    "#         print('current', x, x/d, d, sep='\\t')\n",
    "        if x%d==0 and (x//d > 99 and x//d < 1000):\n",
    "            print('Largest palindrome product', x, x//d, d, sep='\\t')\n",
    "            break\n",
    "        elif x/d > 999:\n",
    "#             print('> 999', x, x/d, d, sep='\\t')\n",
    "            break"
   ]
  },
  {
   "cell_type": "code",
   "execution_count": null,
   "metadata": {
    "collapsed": true
   },
   "outputs": [],
   "source": [
    "# Awesome"
   ]
  },
  {
   "cell_type": "code",
   "execution_count": null,
   "metadata": {},
   "outputs": [],
   "source": [
    "max([x*y for x in range(900,1000) for y in range(900,1000) if str(x*y) == str(x*y)[::-1]])"
   ]
  },
  {
   "cell_type": "code",
   "execution_count": null,
   "metadata": {
    "collapsed": true
   },
   "outputs": [],
   "source": [
    "def reverse(n):\n",
    "    r = 0\n",
    "    while n>0:\n",
    "        r = 10*r + n%10 # Awesome\n",
    "        n //=10\n",
    "    return r"
   ]
  },
  {
   "cell_type": "code",
   "execution_count": null,
   "metadata": {
    "collapsed": true
   },
   "outputs": [],
   "source": [
    "def isPalindrome(n):\n",
    "    return n == reverse(n)"
   ]
  },
  {
   "cell_type": "code",
   "execution_count": null,
   "metadata": {},
   "outputs": [],
   "source": [
    "largestPalindrome = 0\n",
    "a = 999\n",
    "while a>=100:\n",
    "    if a%11 == 0:\n",
    "        b = 999\n",
    "        db = 1\n",
    "    else:\n",
    "        b = 990\n",
    "        db = 11\n",
    "    while b>=a:\n",
    "        if a*b <= largestPalindrome:\n",
    "            break\n",
    "            \n",
    "        if isPalindrome(a*b):\n",
    "            largestPalindrome = a*b\n",
    "            \n",
    "        b -= db\n",
    "    a -= 1\n",
    "print(largestPalindrome)"
   ]
  },
  {
   "cell_type": "code",
   "execution_count": null,
   "metadata": {},
   "outputs": [],
   "source": [
    "'''\n",
    "Largest prime factor\n",
    "https://projecteuler.net/problem=3\n",
    "'''"
   ]
  },
  {
   "cell_type": "code",
   "execution_count": null,
   "metadata": {},
   "outputs": [],
   "source": [
    "# Done from pseudo code in PDF\n",
    "n = 600851475143222222\n",
    "if n%2 == 0:\n",
    "    lastFactor = 2\n",
    "    n=n//2\n",
    "    while n%2==0:\n",
    "        n=n//2\n",
    "else:\n",
    "    lastFactor = 1\n",
    "factor = 3\n",
    "\n",
    "maxFactor = n**0.5\n",
    "\n",
    "while n>1 and factor <= maxFactor:\n",
    "    if n%factor==0:\n",
    "        n=n//factor\n",
    "        lastFactor=factor\n",
    "        while n%factor == 0:\n",
    "            n=n//factor\n",
    "        maxFactor=n**0.5\n",
    "    factor += 2\n",
    "if n == 1:\n",
    "    print(lastFactor)\n",
    "else:\n",
    "    print(n)"
   ]
  },
  {
   "cell_type": "code",
   "execution_count": null,
   "metadata": {},
   "outputs": [],
   "source": [
    "'''Even Fibonacci numbers'''"
   ]
  },
  {
   "cell_type": "code",
   "execution_count": null,
   "metadata": {
    "collapsed": true,
    "scrolled": false
   },
   "outputs": [],
   "source": [
    "def f(n):\n",
    "    a, b, c, x = 1, 2, 0, 0\n",
    "    while c < n:\n",
    "        c += 1\n",
    "        if a%2 == 0:\n",
    "            x += a\n",
    "            print(a, 'ev' if a%2 == 0 else '', x, sep='\\t')\n",
    "        a, b = b, a + b\n",
    "    return x"
   ]
  },
  {
   "cell_type": "code",
   "execution_count": null,
   "metadata": {},
   "outputs": [],
   "source": [
    "f(32)"
   ]
  },
  {
   "cell_type": "code",
   "execution_count": null,
   "metadata": {
    "collapsed": true
   },
   "outputs": [],
   "source": [
    "def f():\n",
    "    limit=4000000\n",
    "    sum=0\n",
    "    a=1\n",
    "    b=1\n",
    "    c=a+b\n",
    "    while c<limit:\n",
    "        sum=sum+c\n",
    "        a=b+c\n",
    "        b=c+a\n",
    "        c=a+b\n",
    "    return sum"
   ]
  },
  {
   "cell_type": "code",
   "execution_count": null,
   "metadata": {},
   "outputs": [],
   "source": [
    "f()"
   ]
  },
  {
   "cell_type": "code",
   "execution_count": null,
   "metadata": {
    "collapsed": true
   },
   "outputs": [],
   "source": [
    "def calcE():\n",
    "\tx = y = 1\n",
    "\tsum = 0\n",
    "\twhile (sum < 4000000):\n",
    "\t\tsum += (x + y)\n",
    "\t\tx, y = x + 2 * y, 2 * x + 3 * y\n",
    "\treturn sum"
   ]
  },
  {
   "cell_type": "code",
   "execution_count": null,
   "metadata": {},
   "outputs": [],
   "source": [
    "calcE()"
   ]
  },
  {
   "cell_type": "code",
   "execution_count": null,
   "metadata": {
    "collapsed": true
   },
   "outputs": [],
   "source": []
  },
  {
   "cell_type": "code",
   "execution_count": null,
   "metadata": {
    "collapsed": true
   },
   "outputs": [],
   "source": [
    "def F(n):\n",
    "    if n == 0: \n",
    "        return 0\n",
    "    elif n == 1: \n",
    "        return 1\n",
    "    else: \n",
    "        return F(n-1)+F(n-2)"
   ]
  },
  {
   "cell_type": "code",
   "execution_count": null,
   "metadata": {
    "collapsed": true
   },
   "outputs": [],
   "source": [
    "F(6)"
   ]
  },
  {
   "cell_type": "code",
   "execution_count": null,
   "metadata": {
    "collapsed": true
   },
   "outputs": [],
   "source": [
    "from math import sqrt\n",
    "def F(n):\n",
    "    return ((1+sqrt(5))**n-(1-sqrt(5))**n)/(2**n*sqrt(5))"
   ]
  },
  {
   "cell_type": "code",
   "execution_count": null,
   "metadata": {
    "collapsed": true
   },
   "outputs": [],
   "source": [
    "'''\n",
    "Multiples of 3 and 5\n",
    "https://projecteuler.net/problem=1\n",
    "'''"
   ]
  },
  {
   "cell_type": "code",
   "execution_count": null,
   "metadata": {
    "collapsed": true,
    "scrolled": false
   },
   "outputs": [],
   "source": [
    "sum([i for i in range(1000) if i%3==0 or i%5==0])"
   ]
  },
  {
   "cell_type": "code",
   "execution_count": null,
   "metadata": {
    "collapsed": true
   },
   "outputs": [],
   "source": [
    "target = 999\n",
    "def SumDivisibleBy(n):\n",
    "    p = target // n\n",
    "    return n*(p*(p+1)) // 2"
   ]
  },
  {
   "cell_type": "code",
   "execution_count": null,
   "metadata": {
    "collapsed": true
   },
   "outputs": [],
   "source": [
    "SumDivisibleBy(3)+SumDivisibleBy(5)-SumDivisibleBy(15)"
   ]
  },
  {
   "cell_type": "code",
   "execution_count": null,
   "metadata": {
    "collapsed": true
   },
   "outputs": [],
   "source": [
    "'''3D Surf'''"
   ]
  },
  {
   "cell_type": "code",
   "execution_count": null,
   "metadata": {
    "collapsed": true
   },
   "outputs": [],
   "source": [
    "a = list(map(lambda x: [i*6 for i in x],\n",
    "   [[1, 3, 4],\n",
    "    [2, 2, 3],\n",
    "    [1, 2, 4]]))"
   ]
  },
  {
   "cell_type": "code",
   "execution_count": null,
   "metadata": {
    "collapsed": true
   },
   "outputs": [],
   "source": [
    "list(a)"
   ]
  },
  {
   "cell_type": "code",
   "execution_count": null,
   "metadata": {
    "collapsed": true
   },
   "outputs": [],
   "source": [
    "sum(a)"
   ]
  },
  {
   "cell_type": "code",
   "execution_count": null,
   "metadata": {
    "collapsed": true
   },
   "outputs": [],
   "source": [
    "[91, 80, 7, 41, 36, 11, 48, 57, 40, 43]"
   ]
  },
  {
   "cell_type": "code",
   "execution_count": null,
   "metadata": {
    "collapsed": true
   },
   "outputs": [],
   "source": [
    "a=[[0] * (5 + 2)]"
   ]
  },
  {
   "cell_type": "code",
   "execution_count": null,
   "metadata": {
    "collapsed": true
   },
   "outputs": [],
   "source": [
    "a[0][1]=22"
   ]
  },
  {
   "cell_type": "code",
   "execution_count": null,
   "metadata": {
    "collapsed": true
   },
   "outputs": [],
   "source": [
    "a"
   ]
  },
  {
   "cell_type": "code",
   "execution_count": null,
   "metadata": {
    "collapsed": true
   },
   "outputs": [],
   "source": []
  },
  {
   "cell_type": "code",
   "execution_count": null,
   "metadata": {
    "collapsed": true
   },
   "outputs": [],
   "source": [
    "'''Taum and B'day'''"
   ]
  },
  {
   "cell_type": "code",
   "execution_count": null,
   "metadata": {
    "collapsed": true
   },
   "outputs": [],
   "source": [
    "b, w, bc, wc, z = 860, 605, 274229, 795307, 2153"
   ]
  },
  {
   "cell_type": "code",
   "execution_count": null,
   "metadata": {
    "collapsed": true
   },
   "outputs": [],
   "source": [
    "def taumBday(b, w, bc, wc, z):\n",
    "    x = (b+w)*min(bc,wc)+z*(min(b,w) if (bc > wc and b < w) or (bc < wc and b > w) else max(b,w))\n",
    "    y = b*bc+w*wc\n",
    "    return x if x < y else y\n",
    "#     return min(b * bc + w * wc, bc * (b + w) + w * z, wc * (b + w) + b * z)"
   ]
  },
  {
   "cell_type": "code",
   "execution_count": null,
   "metadata": {
    "collapsed": true
   },
   "outputs": [],
   "source": [
    "taumBday(b, w, bc, wc, z)"
   ]
  },
  {
   "cell_type": "code",
   "execution_count": null,
   "metadata": {
    "collapsed": true
   },
   "outputs": [],
   "source": [
    "'''Utopian Tree'''"
   ]
  },
  {
   "cell_type": "code",
   "execution_count": null,
   "metadata": {
    "collapsed": true
   },
   "outputs": [],
   "source": [
    "n = 20\n",
    "from math import sqrt"
   ]
  },
  {
   "cell_type": "code",
   "execution_count": null,
   "metadata": {
    "collapsed": true
   },
   "outputs": [],
   "source": [
    "def utopianTree(n):\n",
    "    x = 0\n",
    "    for i in range(n+1):\n",
    "        if i%2==0:\n",
    "            x += 1\n",
    "        else:\n",
    "            x *= 2\n",
    "    else:\n",
    "        return x"
   ]
  },
  {
   "cell_type": "code",
   "execution_count": null,
   "metadata": {
    "collapsed": true
   },
   "outputs": [],
   "source": [
    "utopianTree(n)"
   ]
  },
  {
   "cell_type": "code",
   "execution_count": null,
   "metadata": {
    "collapsed": true
   },
   "outputs": [],
   "source": [
    "def utopianTree(n):\n",
    "    '''Closed Form'''\n",
    "    return round((-1)**n/2-3/2+2**(n/2)*(1+sqrt(2)+(1-sqrt(2))*(-1)**n))"
   ]
  },
  {
   "cell_type": "code",
   "execution_count": null,
   "metadata": {
    "collapsed": true
   },
   "outputs": [],
   "source": [
    "utopianTree(n)"
   ]
  },
  {
   "cell_type": "code",
   "execution_count": null,
   "metadata": {
    "collapsed": true
   },
   "outputs": [],
   "source": [
    "def utopianTree(n):\n",
    "    '''Closed Form'''\n",
    "    return 2 ** ((n+1)//2+1)   -  1 - (n%2)"
   ]
  },
  {
   "cell_type": "code",
   "execution_count": null,
   "metadata": {
    "collapsed": true
   },
   "outputs": [],
   "source": [
    "'''Bitwise'''\n",
    "~(~1<<(n>>1)) << n%2"
   ]
  },
  {
   "cell_type": "code",
   "execution_count": null,
   "metadata": {
    "collapsed": true,
    "scrolled": true
   },
   "outputs": [],
   "source": [
    "utopianTree(n)"
   ]
  },
  {
   "cell_type": "code",
   "execution_count": null,
   "metadata": {
    "collapsed": true
   },
   "outputs": [],
   "source": [
    "# https://oeis.org/search?q=1%2C2%2C3%2C6%2C7%2C14%2C15%2C30%2C31%2C62&language=english&go=Search"
   ]
  },
  {
   "cell_type": "code",
   "execution_count": null,
   "metadata": {
    "collapsed": true
   },
   "outputs": [],
   "source": [
    "'''Ema's Supercomputer'''"
   ]
  },
  {
   "cell_type": "code",
   "execution_count": null,
   "metadata": {
    "collapsed": true
   },
   "outputs": [],
   "source": [
    "g = ['BGBBGB',\n",
    "'GGGGGG',\n",
    "'BGBBGB',\n",
    "'GGGGGG',\n",
    "'BGBBGB',\n",
    "'BGBBGB']\n",
    "n = len(g)\n",
    "m = len(g[0])"
   ]
  },
  {
   "cell_type": "code",
   "execution_count": null,
   "metadata": {
    "collapsed": true
   },
   "outputs": [],
   "source": [
    "def twoPluses(g, n, m):\n",
    "    g = [list(e) for e in g]\n",
    "    a, result = [], []\n",
    "    x = [[-1 for _ in range(m)] for _ in range(n)]\n",
    "\n",
    "    for i in range(n):\n",
    "        for j in range(m):\n",
    "            if g[i][j] == 'G':\n",
    "                a.append((1,i,j))\n",
    "                for k in range(1, min(n-1 if n%2 == 0 else n, m-1 if m%2 == 0 else m)//2+1):\n",
    "                    if j+k <= m-1 and j-k >= 0 and i+k <= n-1 and i-k >= 0:\n",
    "                        if g[i][j+k] == 'G' and g[i][j-k] == 'G' and g[i+k][j] == 'G' and g[i-k][j] == 'G':\n",
    "                            a.append((4*k+1,i,j))\n",
    "                        else:\n",
    "                            break\n",
    "                    else:\n",
    "                        break\n",
    "            else:\n",
    "                continue\n",
    "                \n",
    "    for i in range(len(a)):\n",
    "        aa, ii, jj = a[i]\n",
    "        for k in range(1, a[i][0]//4+1):\n",
    "            x[ii][jj] = i\n",
    "            x[ii][jj+k] = i\n",
    "            x[ii][jj-k] = i\n",
    "            x[ii+k][jj] = i\n",
    "            x[ii-k][jj] = i\n",
    "        for j in range(i+1,len(a)):\n",
    "            aaa, iii, jjj = a[j]\n",
    "            for h in range(1, a[j][0]//4+1):\n",
    "                if x[iii][jjj]==i or x[iii][jjj+h]==i or x[iii][jjj-h]==i or x[iii+h][jjj]==i or x[iii-h][jjj]==i:\n",
    "                    break\n",
    "                else:\n",
    "                    continue\n",
    "            else: # loop h else statement ends successfully\n",
    "                result.append(aa*aaa)\n",
    "    return max(result)"
   ]
  },
  {
   "cell_type": "code",
   "execution_count": null,
   "metadata": {
    "collapsed": true
   },
   "outputs": [],
   "source": [
    "twoPluses(g,n,m)"
   ]
  }
 ],
 "metadata": {
  "kernelspec": {
   "display_name": "Python [conda env:scr]",
   "language": "python",
   "name": "conda-env-scr-py"
  },
  "language_info": {
   "codemirror_mode": {
    "name": "ipython",
    "version": 3
   },
   "file_extension": ".py",
   "mimetype": "text/x-python",
   "name": "python",
   "nbconvert_exporter": "python",
   "pygments_lexer": "ipython3",
   "version": "3.6.2"
  }
 },
 "nbformat": 4,
 "nbformat_minor": 2
}
