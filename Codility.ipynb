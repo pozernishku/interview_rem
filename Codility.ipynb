{
 "cells": [
  {
   "cell_type": "code",
   "execution_count": null,
   "metadata": {
    "collapsed": true
   },
   "outputs": [],
   "source": [
    "'''MaxProductOfThree'''"
   ]
  },
  {
   "cell_type": "code",
   "execution_count": null,
   "metadata": {
    "collapsed": true
   },
   "outputs": [],
   "source": [
    "def solution(A):\n",
    "    A.sort()\n",
    "#     print(A)\n",
    "    \n",
    "    if A[0]*A[1]*A[-1] > A[-1]*A[-2]*A[-3]:\n",
    "        return A[0]*A[1]*A[-1]\n",
    "    else:\n",
    "        return A[-1]*A[-2]*A[-3]"
   ]
  },
  {
   "cell_type": "code",
   "execution_count": null,
   "metadata": {
    "collapsed": true
   },
   "outputs": [],
   "source": [
    "# solution([-3,1,2,-2,5,6])\n",
    "# solution([-5, 5, -5, 4])\n",
    "# solution([-5, -5, -5, -4])\n",
    "# solution([-5, -6, -4, -7, -10])\n",
    "solution([4, 7, 3, 2, 1, -3, -5])"
   ]
  },
  {
   "cell_type": "code",
   "execution_count": null,
   "metadata": {
    "collapsed": true
   },
   "outputs": [],
   "source": []
  },
  {
   "cell_type": "code",
   "execution_count": null,
   "metadata": {
    "collapsed": true
   },
   "outputs": [],
   "source": [
    "'''Distinct values'''"
   ]
  },
  {
   "cell_type": "code",
   "execution_count": null,
   "metadata": {
    "collapsed": true
   },
   "outputs": [],
   "source": [
    "def solution(A):\n",
    "    n = len(A)\n",
    "    A.sort()\n",
    "    if n == 0:\n",
    "        return 0\n",
    "    elif n == 1:\n",
    "        return 1\n",
    "    \n",
    "    result = 1\n",
    "    \n",
    "    for k in range(1, n):\n",
    "        if A[k] != A[k-1]:\n",
    "            result += 1\n",
    "    \n",
    "    return result"
   ]
  },
  {
   "cell_type": "code",
   "execution_count": null,
   "metadata": {
    "collapsed": true
   },
   "outputs": [],
   "source": [
    "# solution([2,1,1,2,3,1])\n",
    "solution([1,1,1,2])"
   ]
  },
  {
   "cell_type": "code",
   "execution_count": null,
   "metadata": {
    "collapsed": true
   },
   "outputs": [],
   "source": []
  },
  {
   "cell_type": "code",
   "execution_count": null,
   "metadata": {
    "collapsed": true
   },
   "outputs": [],
   "source": [
    "'''Prefix sums'''"
   ]
  },
  {
   "cell_type": "code",
   "execution_count": null,
   "metadata": {
    "collapsed": true
   },
   "outputs": [],
   "source": [
    "def count_total(P, x, y):\n",
    "    return P[y + 1] - P[x]"
   ]
  },
  {
   "cell_type": "code",
   "execution_count": null,
   "metadata": {
    "collapsed": true
   },
   "outputs": [],
   "source": [
    "def prefix_sums(A):\n",
    "    n = len(A)\n",
    "    P = [0] * (n + 1)\n",
    "    for k in range(1, n + 1):\n",
    "        P[k] = P[k - 1] + A[k - 1]\n",
    "    \n",
    "#     return count_total(P, 3, 4)\n",
    "    return P"
   ]
  },
  {
   "cell_type": "code",
   "execution_count": null,
   "metadata": {
    "collapsed": true
   },
   "outputs": [],
   "source": [
    "prefix_sums([7,2,1,4,5])"
   ]
  },
  {
   "cell_type": "code",
   "execution_count": null,
   "metadata": {
    "collapsed": true
   },
   "outputs": [],
   "source": [
    "def solution(S, P, Q):\n",
    "    N = len(S)\n",
    "    M = len(P)\n",
    "    S = [10 if c=='A' else 10**6 if c=='C' else 10**12 if c=='G' else 10**18 for c in S]\n",
    "    pref = prefix_sums(S)\n",
    "#     print(S, pref[1:])\n",
    "    result = [0]*M\n",
    "    \n",
    "    for num,(i,j) in enumerate(zip(P,Q)):\n",
    "        x = count_total(pref,i,j)\n",
    "#         print(num,i,j,x)\n",
    "        for d in [10**18, 10**12, 10**6, 10]:\n",
    "            if x%d!=0:\n",
    "                x = x%d\n",
    "            else:\n",
    "                result[num] = d\n",
    "                break\n",
    "    \n",
    "    result = [1 if i==10 else 2 if i==10**6 else 3 if i==10**12 else 4 for i in result]\n",
    "    return result"
   ]
  },
  {
   "cell_type": "code",
   "execution_count": null,
   "metadata": {
    "collapsed": true
   },
   "outputs": [],
   "source": [
    "solution('CAGCCTA', [2,5,0], [4,5,6])"
   ]
  },
  {
   "cell_type": "code",
   "execution_count": null,
   "metadata": {
    "collapsed": true
   },
   "outputs": [],
   "source": []
  },
  {
   "cell_type": "code",
   "execution_count": null,
   "metadata": {
    "collapsed": true
   },
   "outputs": [],
   "source": []
  },
  {
   "cell_type": "code",
   "execution_count": null,
   "metadata": {
    "collapsed": true
   },
   "outputs": [],
   "source": [
    "def mushrooms(A, k, m):\n",
    "    n = len(A)\n",
    "    result = 0\n",
    "    pref = prefix_sums(A)\n",
    "    \n",
    "    x = min(m, k) + 1\n",
    "    y = min(m + 1, n - k)\n",
    "    \n",
    "    for p in range(x):\n",
    "        left_pos = k - p\n",
    "        right_pos = min(n - 1, max(k, k + m - 2 * p))\n",
    "        result = max(result, count_total(pref, left_pos, right_pos))\n",
    "        print(f'{x}, m={m}, k={k}, p={p}, left={left_pos}, right={right_pos}, cmpt={count_total(pref, left_pos, right_pos)}, result={result}, {n-1}, {max(k, k + m - 2 * p)}')\n",
    "        \n",
    "    print('\\n')\n",
    "    \n",
    "    for p in range(y):\n",
    "        right_pos = k + p\n",
    "        left_pos = max(0, min(k, k - (m - 2 * p)))\n",
    "        result = max(result, count_total(pref, left_pos, right_pos))\n",
    "        print(f'{y}, m={m}, k={k}, p={p}, left={left_pos}, right={right_pos}, cmpt={count_total(pref, left_pos, right_pos)}, result={result}, {0}, {min(k, k - (m - 2 * p))}')\n",
    "        \n",
    "    return result"
   ]
  },
  {
   "cell_type": "code",
   "execution_count": null,
   "metadata": {
    "collapsed": true
   },
   "outputs": [],
   "source": [
    "mushrooms([2,3,7,5,1,3,9], 4, 6)"
   ]
  },
  {
   "cell_type": "code",
   "execution_count": null,
   "metadata": {
    "collapsed": true
   },
   "outputs": [],
   "source": []
  },
  {
   "cell_type": "code",
   "execution_count": null,
   "metadata": {
    "collapsed": true
   },
   "outputs": [],
   "source": [
    "def solution(A):\n",
    "    n = len(A)\n",
    "    pref = prefix_sums(A)\n",
    "    sm = pref[-1]\n",
    "    result = 0\n",
    "    for i in range(1, n):\n",
    "        if pref[i-1] == pref[i]:\n",
    "            result += sm-pref[i]\n",
    "            if result > 1000000000:\n",
    "                return -1\n",
    "#             print(sm-pref[i])\n",
    "    return result"
   ]
  },
  {
   "cell_type": "code",
   "execution_count": null,
   "metadata": {
    "collapsed": true,
    "scrolled": true
   },
   "outputs": [],
   "source": [
    "solution([1,0,1,0,0,0,1,1,0,1])\n",
    "#8    4-0 + 4-1 + 4-3\n",
    "#12   5-0 + 5-1 + 5-3 + 5-4 \n",
    "#7    3-0 + 3-1 + 3-1\n",
    "#7    4-1 + 4-2 + 4-2\n",
    "#5    4-1 + 4-2   [1,0,1,0,1,1]\n",
    "#7    4-1 + 4-2 + 4-2 [1,0,1,0,0,1,1]\n",
    "#9    4-1 + 4-2 + 4-2 + 4-2 1,0,1,0,0,0,1,1\n",
    "#9    4-1 + 4-2 + 4-2 + 4-2 + 4-4 1,0,1,0,0,0,1,1,0\n",
    "#14   5-1 + 5-2 + 5-2 + 5-2 + 5-4 [1,0,1,0,0,0,1,1,0,1]\n"
   ]
  },
  {
   "cell_type": "code",
   "execution_count": null,
   "metadata": {
    "collapsed": true
   },
   "outputs": [],
   "source": [
    "def prefix_sums1(A, K):\n",
    "    n = len(A)\n",
    "    P = [0] * (n + 1)\n",
    "    for k in range(1, n + 1):\n",
    "        P[k] = P[k - 1] + A[k - 1]\n",
    "    \n",
    "#     return count_total(P, 3, 4)\n",
    "    return P"
   ]
  },
  {
   "cell_type": "code",
   "execution_count": null,
   "metadata": {
    "collapsed": true
   },
   "outputs": [],
   "source": [
    "def solution(A, B, K):\n",
    "    pass"
   ]
  },
  {
   "cell_type": "code",
   "execution_count": null,
   "metadata": {
    "collapsed": true
   },
   "outputs": [],
   "source": [
    "solution(6,11,2)\n",
    "#3 (6,11,2) 6,8,10\n",
    "#2 (6,11,3) 6,9\n",
    "#1 (6,11,5) 10  5*2\n",
    "#1 (6,11,10) 10 -> need to start counting from K (10) not from A(6)\n",
    "#1 (10,11,10) 10 -> A equals K\n",
    "#1 (10,10,10) 10 -> A equals B "
   ]
  },
  {
   "cell_type": "code",
   "execution_count": null,
   "metadata": {
    "collapsed": true
   },
   "outputs": [],
   "source": []
  },
  {
   "cell_type": "code",
   "execution_count": null,
   "metadata": {
    "collapsed": true
   },
   "outputs": [],
   "source": [
    "def solution(ranks):\n",
    "    from collections import Counter\n",
    "    ranks = sorted(ranks)\n",
    "    c = Counter(ranks)\n",
    "    cnt = 0\n",
    "    x = list(c.items())\n",
    "#     print(x)\n",
    "    M = len(x)\n",
    "    for i in range(M-1):\n",
    "        if x[i][0] == x[i+1][0]-1:\n",
    "#             print(x[i])\n",
    "            cnt += x[i][1]\n",
    "    return cnt"
   ]
  },
  {
   "cell_type": "code",
   "execution_count": null,
   "metadata": {
    "collapsed": true
   },
   "outputs": [],
   "source": [
    "solution([3,4,3,0,2,2,3,0,0])  # [3,4,3,0,2,2,3,0,0] #[4,2,0] #[4,4,3,3,1,0]"
   ]
  },
  {
   "cell_type": "code",
   "execution_count": null,
   "metadata": {
    "collapsed": true
   },
   "outputs": [],
   "source": []
  },
  {
   "cell_type": "code",
   "execution_count": null,
   "metadata": {
    "collapsed": true
   },
   "outputs": [],
   "source": [
    "def solution(S):\n",
    "    from collections import deque\n",
    "    N = len(S)\n",
    "    d = deque(S)\n",
    "    cnt = 0\n",
    "    \n",
    "    if N%2!=0:\n",
    "        c = d[N//2]\n",
    "        d.insert(N//2, c)\n",
    "        N += 1\n",
    "#     print(d)\n",
    "    \n",
    "    for _ in range(N//2):\n",
    "        if d.popleft() == d.pop():\n",
    "            cnt += 1\n",
    "        else:\n",
    "            return cnt\n",
    "    return cnt"
   ]
  },
  {
   "cell_type": "code",
   "execution_count": null,
   "metadata": {
    "collapsed": true
   },
   "outputs": [],
   "source": [
    "solution('ababaa') #('codility')  # ('abbabba')"
   ]
  },
  {
   "cell_type": "code",
   "execution_count": null,
   "metadata": {
    "collapsed": true
   },
   "outputs": [],
   "source": []
  },
  {
   "cell_type": "code",
   "execution_count": null,
   "metadata": {
    "collapsed": true
   },
   "outputs": [],
   "source": [
    "def solution(N, A):\n",
    "    result = [0]*N    # The list to be returned\n",
    "    max_counter = 0   # The used value in previous max_counter command\n",
    "    current_max = 0   # The current maximum value of any counter\n",
    "    for command in A:\n",
    "        if 1 <= command <= N:\n",
    "            if max_counter > result[command-1]:\n",
    "                result[command-1] = max_counter\n",
    "                \n",
    "            result[command-1] += 1\n",
    "            \n",
    "            if current_max < result[command-1]:\n",
    "                current_max = result[command-1]\n",
    "        else:\n",
    "            max_counter = current_max\n",
    "            \n",
    "    for index in range(N):\n",
    "        if result[index] < max_counter:\n",
    "            result[index] = max_counter\n",
    "            \n",
    "    return result"
   ]
  },
  {
   "cell_type": "code",
   "execution_count": null,
   "metadata": {
    "collapsed": true
   },
   "outputs": [],
   "source": [
    "solution(2, [3,2,2,3,1,1,3])"
   ]
  },
  {
   "cell_type": "code",
   "execution_count": null,
   "metadata": {
    "collapsed": true
   },
   "outputs": [],
   "source": []
  },
  {
   "cell_type": "code",
   "execution_count": null,
   "metadata": {
    "collapsed": true
   },
   "outputs": [],
   "source": [
    "def solution(X, A):\n",
    "    N = len(A)\n",
    "    M = 100000\n",
    "    cnt = [-1] * (M+1)\n",
    "    \n",
    "    for i in range(N):\n",
    "        if cnt[A[i]] == -1:\n",
    "            X -= 1\n",
    "            \n",
    "        cnt[A[i]] = i\n",
    "        \n",
    "#         print(i, X, cnt)\n",
    "        \n",
    "        if X == 0:\n",
    "            return i\n",
    "    return -1"
   ]
  },
  {
   "cell_type": "code",
   "execution_count": null,
   "metadata": {
    "collapsed": true,
    "scrolled": true
   },
   "outputs": [],
   "source": [
    "solution(3, [1, 3, 1, 3, 2, 1, 3])\n",
    "#(3, [1,2,3])\n",
    "#(3, [1, 3, 1, 3, 2, 1, 3])\n",
    "#(1, [1])\n",
    "#(5, [1,3,1,4,2,3,5,4])\n",
    "#(3, [2,1,1,4,1,3,5,4])\n",
    "#(5, [3])\n",
    "#(5, [1,1,1,1,2,3,5,4])"
   ]
  },
  {
   "cell_type": "code",
   "execution_count": null,
   "metadata": {
    "collapsed": true
   },
   "outputs": [],
   "source": [
    "'''\n",
    "A[0] = 2\n",
    "A[1] = 1\n",
    "A[2] = 1\n",
    "A[3] = 4\n",
    "A[4] = 1\n",
    "A[5] = 3\n",
    "A[6] = 5\n",
    "A[7] = 4\n",
    "'''"
   ]
  },
  {
   "cell_type": "code",
   "execution_count": null,
   "metadata": {
    "collapsed": true
   },
   "outputs": [],
   "source": []
  },
  {
   "cell_type": "code",
   "execution_count": null,
   "metadata": {
    "collapsed": true
   },
   "outputs": [],
   "source": [
    "def solution(A):\n",
    "    N = len(A)\n",
    "    M = 100000\n",
    "    cnt = [0] * (M+1)\n",
    "    \n",
    "    for i in range(N):\n",
    "        if A[i] > M:\n",
    "            return 0\n",
    "        else:\n",
    "            cnt[A[i]] += 1\n",
    "            \n",
    "    for i in range(N+1):\n",
    "        if cnt[i] == 0:\n",
    "            if i > 0:\n",
    "                return 0\n",
    "        elif cnt[i] == 1:\n",
    "            continue\n",
    "        else:\n",
    "            return 0\n",
    "    else:\n",
    "        return 1"
   ]
  },
  {
   "cell_type": "code",
   "execution_count": null,
   "metadata": {
    "collapsed": true
   },
   "outputs": [],
   "source": [
    "solution([1,2])"
   ]
  },
  {
   "cell_type": "code",
   "execution_count": null,
   "metadata": {
    "collapsed": true
   },
   "outputs": [],
   "source": []
  },
  {
   "cell_type": "code",
   "execution_count": null,
   "metadata": {
    "collapsed": true
   },
   "outputs": [],
   "source": [
    "def solution(A):\n",
    "    A = list(filter(lambda x: x > 0, A))\n",
    "    A.sort()\n",
    "    N = len(A)\n",
    "    if N == 1:\n",
    "        return 2 if A[0] == 1 else 1\n",
    "    elif N == 0:\n",
    "        return 1\n",
    "    \n",
    "    for i in range(N-1):\n",
    "        if A[i+1] == A[i] or A[i+1] - A[i] == 1:\n",
    "            continue\n",
    "        else:\n",
    "            return 2 if A[i] == 1 else A[i]+1 if A[0] == 1 else 1\n",
    "    else:\n",
    "        return A[i+1]+1 if A[0] == 1 else 1"
   ]
  },
  {
   "cell_type": "code",
   "execution_count": null,
   "metadata": {
    "collapsed": true
   },
   "outputs": [],
   "source": [
    "solution([1,2,4,90, 91, 92, 93])"
   ]
  },
  {
   "cell_type": "code",
   "execution_count": null,
   "metadata": {
    "collapsed": true
   },
   "outputs": [],
   "source": []
  },
  {
   "cell_type": "code",
   "execution_count": null,
   "metadata": {
    "collapsed": true
   },
   "outputs": [],
   "source": [
    "def solution(A):\n",
    "    A = list(filter(lambda x: x > 0, A))\n",
    "    N = len(A)\n",
    "    M = 1000000\n",
    "    cnt = [0] * (M+1)\n",
    "    \n",
    "    for i in range(N):\n",
    "        cnt[A[i]] += 1\n",
    "        \n",
    "    for i in range(M+1):\n",
    "        if cnt[i] == 0:\n",
    "            if i > 0:\n",
    "                return i"
   ]
  },
  {
   "cell_type": "code",
   "execution_count": null,
   "metadata": {
    "collapsed": true
   },
   "outputs": [],
   "source": [
    "solution([-1000000, 1000000])"
   ]
  },
  {
   "cell_type": "code",
   "execution_count": null,
   "metadata": {
    "collapsed": true
   },
   "outputs": [],
   "source": []
  },
  {
   "cell_type": "code",
   "execution_count": null,
   "metadata": {
    "collapsed": true
   },
   "outputs": [],
   "source": [
    "def counting(A, m):\n",
    "    n = len(A)\n",
    "    count = [0] * (m + 1)\n",
    "    for k in range(n):\n",
    "        count[A[k]] += 1\n",
    "    return count"
   ]
  },
  {
   "cell_type": "code",
   "execution_count": null,
   "metadata": {},
   "outputs": [],
   "source": [
    "counting([1,1,1,2,2,3], 10)"
   ]
  },
  {
   "cell_type": "code",
   "execution_count": null,
   "metadata": {
    "collapsed": true
   },
   "outputs": [],
   "source": []
  },
  {
   "cell_type": "code",
   "execution_count": null,
   "metadata": {
    "collapsed": true
   },
   "outputs": [],
   "source": [
    "def fast_solution(A, B, m):\n",
    "    n = len(A)\n",
    "    sum_a = sum(A)\n",
    "    sum_b = sum(B)\n",
    "    d = sum_b - sum_a\n",
    "    if d % 2 == 1:\n",
    "        return False\n",
    "    d //= 2\n",
    "    count = counting(A, m)\n",
    "    cnt = counting(B, m)\n",
    "    \n",
    "    print(count)\n",
    "    print(cnt)\n",
    "    \n",
    "    for i in range(n):\n",
    "        if 0 <= B[i] - d and B[i] - d <= m and count[B[i] - d] > 0:\n",
    "            return True\n",
    "    return False"
   ]
  },
  {
   "cell_type": "code",
   "execution_count": null,
   "metadata": {},
   "outputs": [],
   "source": [
    "fast_solution([1,1,2,3,4],[1,1,2,5,6],10)"
   ]
  },
  {
   "cell_type": "code",
   "execution_count": null,
   "metadata": {
    "collapsed": true
   },
   "outputs": [],
   "source": []
  },
  {
   "cell_type": "code",
   "execution_count": null,
   "metadata": {
    "collapsed": true
   },
   "outputs": [],
   "source": [
    "def solution(A):\n",
    "    N = len(A)\n",
    "    sm = sum(A)\n",
    "    \n",
    "    fs = 0\n",
    "    st = 0\n",
    "    \n",
    "    X = [0] * N\n",
    "    \n",
    "    for i, j in enumerate(A):\n",
    "        fs += j\n",
    "        st = sm - fs\n",
    "        X[i] = abs(fs - st)\n",
    "    return min(X[:N-1])"
   ]
  },
  {
   "cell_type": "code",
   "execution_count": null,
   "metadata": {},
   "outputs": [],
   "source": [
    "solution([-3,1,-2,4,3])"
   ]
  },
  {
   "cell_type": "code",
   "execution_count": null,
   "metadata": {
    "collapsed": true
   },
   "outputs": [],
   "source": []
  },
  {
   "cell_type": "code",
   "execution_count": null,
   "metadata": {
    "collapsed": true
   },
   "outputs": [],
   "source": [
    "def solution(A):\n",
    "    N = len(A)\n",
    "    X = [0]*N + [0] + [0]\n",
    "    \n",
    "    for i in A:\n",
    "        X[i] = 1\n",
    "    \n",
    "    for i, j in enumerate(X):\n",
    "        if i > 0 and j == 0:\n",
    "            return i"
   ]
  },
  {
   "cell_type": "code",
   "execution_count": null,
   "metadata": {},
   "outputs": [],
   "source": [
    "solution([2,3,4,7,6,5])"
   ]
  },
  {
   "cell_type": "code",
   "execution_count": null,
   "metadata": {
    "collapsed": true
   },
   "outputs": [],
   "source": []
  },
  {
   "cell_type": "code",
   "execution_count": null,
   "metadata": {
    "collapsed": true
   },
   "outputs": [],
   "source": [
    "# FrogJmp\n",
    "from math import ceil\n",
    "def solution(X, Y, D):\n",
    "    K = (Y-X)/D\n",
    "    if X == Y:\n",
    "        return 0\n",
    "    elif K*D <= Y:\n",
    "        return ceil(K)\n",
    "    elif K*D > Y:\n",
    "        return K + 1"
   ]
  },
  {
   "cell_type": "code",
   "execution_count": null,
   "metadata": {},
   "outputs": [],
   "source": [
    "solution(11, 20, 4)"
   ]
  },
  {
   "cell_type": "code",
   "execution_count": null,
   "metadata": {
    "collapsed": true
   },
   "outputs": [],
   "source": []
  },
  {
   "cell_type": "code",
   "execution_count": null,
   "metadata": {
    "collapsed": true
   },
   "outputs": [],
   "source": [
    "def solution(A):\n",
    "    x = set()\n",
    "    for e in A:\n",
    "        if e in x:\n",
    "            x.remove(e)\n",
    "        else:\n",
    "            x.add(e)\n",
    "    return x.pop()"
   ]
  },
  {
   "cell_type": "code",
   "execution_count": null,
   "metadata": {},
   "outputs": [],
   "source": [
    "solution([9,3,9,3,9,7,9])"
   ]
  },
  {
   "cell_type": "code",
   "execution_count": null,
   "metadata": {
    "collapsed": true
   },
   "outputs": [],
   "source": []
  },
  {
   "cell_type": "code",
   "execution_count": null,
   "metadata": {
    "collapsed": true
   },
   "outputs": [],
   "source": [
    "# CyclicRotation"
   ]
  },
  {
   "cell_type": "code",
   "execution_count": null,
   "metadata": {
    "collapsed": true
   },
   "outputs": [],
   "source": [
    "from collections import deque\n",
    "def solution(A, K):\n",
    "    A = deque(A)\n",
    "    A.rotate(K)\n",
    "    return A"
   ]
  },
  {
   "cell_type": "code",
   "execution_count": null,
   "metadata": {
    "collapsed": true
   },
   "outputs": [],
   "source": []
  },
  {
   "cell_type": "code",
   "execution_count": null,
   "metadata": {
    "collapsed": true
   },
   "outputs": [],
   "source": [
    "# Binary Gap"
   ]
  },
  {
   "cell_type": "code",
   "execution_count": null,
   "metadata": {
    "collapsed": true
   },
   "outputs": [],
   "source": [
    "def solution(N):\n",
    "    s = bin(N)[2:]\n",
    "    start = False\n",
    "    a = []\n",
    "    cnt = 0\n",
    "    for c in s:\n",
    "        if c == '1' and start == False:\n",
    "            start = True\n",
    "        elif c == '0' and start:\n",
    "            cnt += 1\n",
    "        elif c == '1' and start:\n",
    "            a.append(cnt)\n",
    "            cnt = 0\n",
    "            \n",
    "    return max(a) if a else 0"
   ]
  },
  {
   "cell_type": "code",
   "execution_count": null,
   "metadata": {},
   "outputs": [],
   "source": [
    "solution(17)"
   ]
  },
  {
   "cell_type": "code",
   "execution_count": null,
   "metadata": {
    "collapsed": true
   },
   "outputs": [],
   "source": []
  },
  {
   "cell_type": "code",
   "execution_count": null,
   "metadata": {
    "collapsed": true
   },
   "outputs": [],
   "source": [
    "A = [1, 0, 0, 1, 0, 0]"
   ]
  },
  {
   "cell_type": "code",
   "execution_count": null,
   "metadata": {
    "collapsed": true
   },
   "outputs": [],
   "source": [
    "def solution(A):\n",
    "    h, t = 0, 0\n",
    "    for e in A:\n",
    "        if e == 0:\n",
    "            h += 1\n",
    "        else:\n",
    "            t += 1\n",
    "    return min(h, t)"
   ]
  },
  {
   "cell_type": "code",
   "execution_count": null,
   "metadata": {},
   "outputs": [],
   "source": [
    "solution(A)"
   ]
  },
  {
   "cell_type": "code",
   "execution_count": null,
   "metadata": {
    "collapsed": true
   },
   "outputs": [],
   "source": []
  },
  {
   "cell_type": "code",
   "execution_count": null,
   "metadata": {
    "collapsed": true
   },
   "outputs": [],
   "source": [
    "A = [2,2,2,2,2,3,4,4,4,6]"
   ]
  },
  {
   "cell_type": "code",
   "execution_count": null,
   "metadata": {
    "collapsed": true
   },
   "outputs": [],
   "source": [
    "A = [1,1,1,1,50]"
   ]
  },
  {
   "cell_type": "code",
   "execution_count": null,
   "metadata": {
    "collapsed": true
   },
   "outputs": [],
   "source": [
    "def solution(A):\n",
    "    n = len(A)\n",
    "    L = [-1] + A\n",
    "    count = 0\n",
    "    pos = (n + 1) // 2\n",
    "    candidate = L[pos]\n",
    "    for i in range(1, n + 1):\n",
    "        if (L[i] == candidate):\n",
    "            count = count + 1\n",
    "    if (count > pos and n%2==0) or (count >= pos and n%2!=0):\n",
    "        return 1\n",
    "    if (2*count > n):\n",
    "        return -1\n",
    "    return -1"
   ]
  },
  {
   "cell_type": "code",
   "execution_count": null,
   "metadata": {},
   "outputs": [],
   "source": [
    "print(solution(A))"
   ]
  },
  {
   "cell_type": "code",
   "execution_count": null,
   "metadata": {
    "collapsed": true
   },
   "outputs": [],
   "source": []
  }
 ],
 "metadata": {
  "kernelspec": {
   "display_name": "Python [default]",
   "language": "python",
   "name": "python3"
  },
  "language_info": {
   "codemirror_mode": {
    "name": "ipython",
    "version": 3
   },
   "file_extension": ".py",
   "mimetype": "text/x-python",
   "name": "python",
   "nbconvert_exporter": "python",
   "pygments_lexer": "ipython3",
   "version": "3.6.7"
  }
 },
 "nbformat": 4,
 "nbformat_minor": 2
}
