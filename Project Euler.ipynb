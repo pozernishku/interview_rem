{
 "cells": [
  {
   "cell_type": "code",
   "execution_count": null,
   "metadata": {},
   "outputs": [],
   "source": [
    "'''\n",
    "Largest palindrome product\n",
    "https://projecteuler.net/problem=4\n",
    "'''"
   ]
  },
  {
   "cell_type": "code",
   "execution_count": null,
   "metadata": {
    "collapsed": true
   },
   "outputs": [],
   "source": [
    "p = [869968, 870078, 871178, 872278, 873378, 874478, 875578, 876678, 877778, 878878, 879978, \n",
    "     880088, 881188, 882288, 883388, 884488, 885588, 886688, 887788, 888888, 889988, 890098, \n",
    "     891198, 892298, 893398, 894498, 895598, 896698, 897798, 898898, 899998, 900009, 901109, \n",
    "     902209, 903309, 904409, 905509, 906609, 907709, 908809, 909909, 910019, 911119, 912219, \n",
    "     913319, 914419, 915519, 916619, 917719, 918819, 919919, 920029, 921129, 922229, 923329, \n",
    "     924429, 925529, 926629, 927729, 928829, 929929, 930039, 931139, 932239, 933339, 934439, \n",
    "     935539, 936639, 937739, 938839, 939939, 940049, 941149, 942249, 943349, 944449, 945549, \n",
    "     946649, 947749, 948849, 949949, 950059, 951159, 952259, 953359, 954459, 955559, 956659, \n",
    "     957759, 958859, 959959, 960069, 961169, 962269, 963369, 964469, 965569, 966669, 967769, \n",
    "     968869, 969969, 970079, 971179, 972279, 973379, 974479, 975579, 976679, 977779, 978879, \n",
    "     979979, 980089, 981189, 982289, 983389, 984489, 985589, 986689, 987789, 988889, 989989, \n",
    "     990099, 991199, 992299, 993399, 994499, 995599, 996699, 997799, 998899, 999999][::-1]"
   ]
  },
  {
   "cell_type": "code",
   "execution_count": null,
   "metadata": {},
   "outputs": [],
   "source": [
    "for x in p:\n",
    "    for d in range(999,99,-1):\n",
    "#         print('current', x, x/d, d, sep='\\t')\n",
    "        if x%d==0 and (x//d > 99 and x//d < 1000):\n",
    "            print('Largest palindrome product', x, x//d, d, sep='\\t')\n",
    "            break\n",
    "        elif x/d > 999:\n",
    "#             print('> 999', x, x/d, d, sep='\\t')\n",
    "            break"
   ]
  },
  {
   "cell_type": "code",
   "execution_count": null,
   "metadata": {
    "collapsed": true
   },
   "outputs": [],
   "source": [
    "# Awesome"
   ]
  },
  {
   "cell_type": "code",
   "execution_count": null,
   "metadata": {},
   "outputs": [],
   "source": [
    "max([x*y for x in range(900,1000) for y in range(900,1000) if str(x*y) == str(x*y)[::-1]])"
   ]
  },
  {
   "cell_type": "code",
   "execution_count": null,
   "metadata": {
    "collapsed": true
   },
   "outputs": [],
   "source": [
    "def reverse(n):\n",
    "    r = 0\n",
    "    while n>0:\n",
    "        r = 10*r + n%10 # Awesome\n",
    "        n //=10\n",
    "    return r"
   ]
  },
  {
   "cell_type": "code",
   "execution_count": null,
   "metadata": {
    "collapsed": true
   },
   "outputs": [],
   "source": [
    "def isPalindrome(n):\n",
    "    return n == reverse(n)"
   ]
  },
  {
   "cell_type": "code",
   "execution_count": null,
   "metadata": {},
   "outputs": [],
   "source": [
    "largestPalindrome = 0\n",
    "a = 999\n",
    "while a>=100:\n",
    "    if a%11 == 0:\n",
    "        b = 999\n",
    "        db = 1\n",
    "    else:\n",
    "        b = 990\n",
    "        db = 11\n",
    "    while b>=a:\n",
    "        if a*b <= largestPalindrome:\n",
    "            break\n",
    "            \n",
    "        if isPalindrome(a*b):\n",
    "            largestPalindrome = a*b\n",
    "            \n",
    "        b -= db\n",
    "    a -= 1\n",
    "print(largestPalindrome)"
   ]
  },
  {
   "cell_type": "code",
   "execution_count": null,
   "metadata": {
    "collapsed": true
   },
   "outputs": [],
   "source": []
  },
  {
   "cell_type": "code",
   "execution_count": 1,
   "metadata": {},
   "outputs": [
    {
     "data": {
      "text/plain": [
       "'\\nLargest prime factor\\nhttps://projecteuler.net/problem=3\\n'"
      ]
     },
     "execution_count": 1,
     "metadata": {},
     "output_type": "execute_result"
    }
   ],
   "source": [
    "'''\n",
    "Largest prime factor\n",
    "https://projecteuler.net/problem=3\n",
    "'''"
   ]
  },
  {
   "cell_type": "code",
   "execution_count": 2,
   "metadata": {},
   "outputs": [
    {
     "name": "stdout",
     "output_type": "stream",
     "text": [
      "1010231713217\n"
     ]
    }
   ],
   "source": [
    "# Done from pseudo code in PDF\n",
    "n = 600851475143222222\n",
    "if n%2 == 0:\n",
    "    lastFactor = 2\n",
    "    n=n//2\n",
    "    while n%2==0:\n",
    "        n=n//2\n",
    "else:\n",
    "    lastFactor = 1\n",
    "factor = 3\n",
    "\n",
    "maxFactor = n**0.5\n",
    "\n",
    "while n>1 and factor <= maxFactor:\n",
    "    if n%factor==0:\n",
    "        n=n//factor\n",
    "        lastFactor=factor\n",
    "        while n%factor == 0:\n",
    "            n=n//factor\n",
    "        maxFactor=n**0.5\n",
    "    factor += 2\n",
    "if n == 1:\n",
    "    print(lastFactor)\n",
    "else:\n",
    "    print(n)"
   ]
  },
  {
   "cell_type": "code",
   "execution_count": null,
   "metadata": {
    "collapsed": true
   },
   "outputs": [],
   "source": []
  },
  {
   "cell_type": "code",
   "execution_count": 3,
   "metadata": {},
   "outputs": [
    {
     "data": {
      "text/plain": [
       "'Even Fibonacci numbers'"
      ]
     },
     "execution_count": 3,
     "metadata": {},
     "output_type": "execute_result"
    }
   ],
   "source": [
    "'''Even Fibonacci numbers'''"
   ]
  },
  {
   "cell_type": "code",
   "execution_count": 4,
   "metadata": {
    "collapsed": true
   },
   "outputs": [],
   "source": [
    "def f(n):\n",
    "    a, b, c, x = 1, 2, 0, 0\n",
    "    while c < n:\n",
    "        c += 1\n",
    "        if a%2 == 0:\n",
    "            x += a\n",
    "            print(a, 'ev' if a%2 == 0 else '', x, sep='\\t')\n",
    "        a, b = b, a + b\n",
    "    return x"
   ]
  },
  {
   "cell_type": "code",
   "execution_count": 5,
   "metadata": {},
   "outputs": [
    {
     "name": "stdout",
     "output_type": "stream",
     "text": [
      "2\tev\t2\n",
      "8\tev\t10\n",
      "34\tev\t44\n",
      "144\tev\t188\n",
      "610\tev\t798\n",
      "2584\tev\t3382\n",
      "10946\tev\t14328\n",
      "46368\tev\t60696\n",
      "196418\tev\t257114\n",
      "832040\tev\t1089154\n",
      "3524578\tev\t4613732\n"
     ]
    },
    {
     "data": {
      "text/plain": [
       "4613732"
      ]
     },
     "execution_count": 5,
     "metadata": {},
     "output_type": "execute_result"
    }
   ],
   "source": [
    "f(32)"
   ]
  },
  {
   "cell_type": "code",
   "execution_count": 6,
   "metadata": {
    "collapsed": true
   },
   "outputs": [],
   "source": [
    "def f():\n",
    "    limit=4000000\n",
    "    sum=0\n",
    "    a=1\n",
    "    b=1\n",
    "    c=a+b\n",
    "    while c<limit:\n",
    "        sum=sum+c\n",
    "        a=b+c\n",
    "        b=c+a\n",
    "        c=a+b\n",
    "    return sum"
   ]
  },
  {
   "cell_type": "code",
   "execution_count": 7,
   "metadata": {},
   "outputs": [
    {
     "data": {
      "text/plain": [
       "4613732"
      ]
     },
     "execution_count": 7,
     "metadata": {},
     "output_type": "execute_result"
    }
   ],
   "source": [
    "f()"
   ]
  },
  {
   "cell_type": "code",
   "execution_count": 8,
   "metadata": {
    "collapsed": true
   },
   "outputs": [],
   "source": [
    "def calcE():\n",
    "\tx = y = 1\n",
    "\tsum = 0\n",
    "\twhile (sum < 4000000):\n",
    "\t\tsum += (x + y)\n",
    "\t\tx, y = x + 2 * y, 2 * x + 3 * y\n",
    "\treturn sum"
   ]
  },
  {
   "cell_type": "code",
   "execution_count": 9,
   "metadata": {},
   "outputs": [
    {
     "data": {
      "text/plain": [
       "4613732"
      ]
     },
     "execution_count": 9,
     "metadata": {},
     "output_type": "execute_result"
    }
   ],
   "source": [
    "calcE()"
   ]
  },
  {
   "cell_type": "code",
   "execution_count": null,
   "metadata": {
    "collapsed": true
   },
   "outputs": [],
   "source": []
  },
  {
   "cell_type": "code",
   "execution_count": 10,
   "metadata": {
    "collapsed": true
   },
   "outputs": [],
   "source": [
    "# Below are some fibonacci implementations"
   ]
  },
  {
   "cell_type": "code",
   "execution_count": 11,
   "metadata": {
    "collapsed": true
   },
   "outputs": [],
   "source": [
    "def F(n):\n",
    "    if n == 0: \n",
    "        return 0\n",
    "    elif n == 1: \n",
    "        return 1\n",
    "    else: \n",
    "        return F(n-1)+F(n-2)"
   ]
  },
  {
   "cell_type": "code",
   "execution_count": 12,
   "metadata": {},
   "outputs": [
    {
     "data": {
      "text/plain": [
       "8"
      ]
     },
     "execution_count": 12,
     "metadata": {},
     "output_type": "execute_result"
    }
   ],
   "source": [
    "F(6)"
   ]
  },
  {
   "cell_type": "code",
   "execution_count": 13,
   "metadata": {
    "collapsed": true
   },
   "outputs": [],
   "source": [
    "from math import sqrt\n",
    "def F(n):\n",
    "    return ((1+sqrt(5))**n-(1-sqrt(5))**n)/(2**n*sqrt(5))"
   ]
  },
  {
   "cell_type": "code",
   "execution_count": null,
   "metadata": {
    "collapsed": true
   },
   "outputs": [],
   "source": []
  },
  {
   "cell_type": "code",
   "execution_count": 14,
   "metadata": {},
   "outputs": [
    {
     "data": {
      "text/plain": [
       "'\\nMultiples of 3 and 5\\nhttps://projecteuler.net/problem=1\\n'"
      ]
     },
     "execution_count": 14,
     "metadata": {},
     "output_type": "execute_result"
    }
   ],
   "source": [
    "'''\n",
    "Multiples of 3 and 5\n",
    "https://projecteuler.net/problem=1\n",
    "'''"
   ]
  },
  {
   "cell_type": "code",
   "execution_count": 15,
   "metadata": {},
   "outputs": [
    {
     "data": {
      "text/plain": [
       "233168"
      ]
     },
     "execution_count": 15,
     "metadata": {},
     "output_type": "execute_result"
    }
   ],
   "source": [
    "sum([i for i in range(1000) if i%3==0 or i%5==0])"
   ]
  },
  {
   "cell_type": "code",
   "execution_count": 16,
   "metadata": {
    "collapsed": true
   },
   "outputs": [],
   "source": [
    "target = 999\n",
    "def SumDivisibleBy(n):\n",
    "    p = target // n\n",
    "    return n*(p*(p+1)) // 2"
   ]
  },
  {
   "cell_type": "code",
   "execution_count": 17,
   "metadata": {},
   "outputs": [
    {
     "data": {
      "text/plain": [
       "233168"
      ]
     },
     "execution_count": 17,
     "metadata": {},
     "output_type": "execute_result"
    }
   ],
   "source": [
    "SumDivisibleBy(3)+SumDivisibleBy(5)-SumDivisibleBy(15)"
   ]
  },
  {
   "cell_type": "code",
   "execution_count": null,
   "metadata": {
    "collapsed": true
   },
   "outputs": [],
   "source": []
  },
  {
   "cell_type": "code",
   "execution_count": null,
   "metadata": {
    "collapsed": true
   },
   "outputs": [],
   "source": [
    "# Least common multiple (LCM)\n",
    "# Наименьшее общее кратное (НОК)"
   ]
  },
  {
   "cell_type": "code",
   "execution_count": null,
   "metadata": {
    "collapsed": true
   },
   "outputs": [],
   "source": [
    "def is_prime(num):\n",
    "    if num > 1:\n",
    "        for i in range(2,num):\n",
    "            if num%i == 0:\n",
    "                return False\n",
    "        else:\n",
    "            return True\n",
    "    else:\n",
    "        return False"
   ]
  },
  {
   "cell_type": "code",
   "execution_count": null,
   "metadata": {
    "collapsed": true
   },
   "outputs": [],
   "source": [
    "res, n = 1, 100000\n",
    "# Primes firstly\n",
    "for i in range(n,0,-1):\n",
    "    res *= i if is_prime(i) else 1\n",
    "\n",
    "# Check if there are any duplicate prime factorization and multiply them\n",
    "for i in range(2, int(n**0.5)+1):\n",
    "    j = 2\n",
    "    if is_prime(i):\n",
    "        while i ** j < n:\n",
    "            j += 1\n",
    "        res *= i**(j-2)\n",
    "    else:\n",
    "        continue\n",
    "\n",
    "print(res)"
   ]
  },
  {
   "cell_type": "code",
   "execution_count": null,
   "metadata": {
    "collapsed": true
   },
   "outputs": [],
   "source": []
  },
  {
   "cell_type": "code",
   "execution_count": null,
   "metadata": {
    "collapsed": true
   },
   "outputs": [],
   "source": [
    "# Fastest solution (from pdf)"
   ]
  },
  {
   "cell_type": "code",
   "execution_count": null,
   "metadata": {
    "collapsed": true
   },
   "outputs": [],
   "source": [
    "def gen_primes(givenNumber):\n",
    "    primes = []\n",
    "    for possiblePrime in range(2, givenNumber + 1):\n",
    "        isPrime = True\n",
    "        for num in range(2, int(possiblePrime ** 0.5) + 1):\n",
    "            if possiblePrime % num == 0:\n",
    "                isPrime = False\n",
    "                break\n",
    "        if isPrime:\n",
    "            primes.append(possiblePrime)\n",
    "    \n",
    "    return(primes)"
   ]
  },
  {
   "cell_type": "code",
   "execution_count": null,
   "metadata": {
    "collapsed": true,
    "scrolled": true
   },
   "outputs": [],
   "source": [
    "from math import sqrt, log, floor, ceil\n",
    "k = 20\n",
    "N = 1\n",
    "i = 1\n",
    "check = True\n",
    "limit = sqrt(k)\n",
    "p = [0] + gen_primes(k+100)\n",
    "a = [1 for _ in range(k+1)]\n",
    "\n",
    "while p[i] <= k:\n",
    "    if check:\n",
    "        if p[i] <= limit:\n",
    "            a[i] = floor( log(k) / log(p[i]) )\n",
    "        else:\n",
    "            check = False\n",
    "    print( f'N={N} i={i} p[i]={p[i]} a[i]={a[i]} k={k} log(k)={log(k)} log(p[i])={log(p[i])} log(k)/log(p[i])={log(k)/log(p[i])}' )\n",
    "    N = N * p[i] ** a[i]\n",
    "    i = i + 1\n",
    "\n",
    "print( f'N={N} i={i} p[i]={p[i]} a[i]={a[i]} k={k} log(k)={log(k)} log(p[i])={log(p[i])} log(k)/log(p[i])={log(k)/log(p[i])}' )\n",
    "print(N)"
   ]
  },
  {
   "cell_type": "code",
   "execution_count": null,
   "metadata": {
    "collapsed": true
   },
   "outputs": [],
   "source": [
    "# Short and fast (not so fast as my and from pdf) solution from private forum in Python\n",
    "i = 1\n",
    "n = 100000 + 1\n",
    "for k in (range(1, n)):\n",
    "    if i%k > 0:\n",
    "        for j in range(1, n):\n",
    "            if i*j % k == 0:\n",
    "                i *= j\n",
    "                break\n",
    "print(i)"
   ]
  }
 ],
 "metadata": {
  "kernelspec": {
   "display_name": "Python [default]",
   "language": "python",
   "name": "python3"
  },
  "language_info": {
   "codemirror_mode": {
    "name": "ipython",
    "version": 3
   },
   "file_extension": ".py",
   "mimetype": "text/x-python",
   "name": "python",
   "nbconvert_exporter": "python",
   "pygments_lexer": "ipython3",
   "version": "3.6.7"
  }
 },
 "nbformat": 4,
 "nbformat_minor": 2
}
