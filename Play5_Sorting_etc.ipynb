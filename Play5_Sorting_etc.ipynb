{
 "cells": [
  {
   "cell_type": "code",
   "execution_count": null,
   "metadata": {
    "collapsed": true
   },
   "outputs": [],
   "source": [
    "#Bubble\n",
    "def bubble_sort(a):\n",
    "    for i in range(len(a)-1,0,-1):\n",
    "        for j in range(i):\n",
    "            if a[j] > a[j+1]:\n",
    "                a[j], a[j+1] = a[j+1], a[j]"
   ]
  },
  {
   "cell_type": "code",
   "execution_count": null,
   "metadata": {
    "collapsed": true
   },
   "outputs": [],
   "source": [
    "x = [2,1,-2]"
   ]
  },
  {
   "cell_type": "code",
   "execution_count": null,
   "metadata": {
    "collapsed": true
   },
   "outputs": [],
   "source": [
    "bubble_sort(x)"
   ]
  },
  {
   "cell_type": "code",
   "execution_count": null,
   "metadata": {},
   "outputs": [],
   "source": [
    "x"
   ]
  },
  {
   "cell_type": "code",
   "execution_count": null,
   "metadata": {
    "collapsed": true
   },
   "outputs": [],
   "source": [
    "#Selection\n",
    "def selection_sort(a):\n",
    "    for i in range(len(a)-1):\n",
    "        m = i\n",
    "        for j in range(i,len(a)):\n",
    "            if a[i] > a[j]:\n",
    "                m = j\n",
    "        a[i], a[m] = a[m], a[i]"
   ]
  },
  {
   "cell_type": "code",
   "execution_count": null,
   "metadata": {
    "collapsed": true
   },
   "outputs": [],
   "source": [
    "x = [2,1,-5]"
   ]
  },
  {
   "cell_type": "code",
   "execution_count": null,
   "metadata": {
    "collapsed": true
   },
   "outputs": [],
   "source": [
    "selection_sort(x)"
   ]
  },
  {
   "cell_type": "code",
   "execution_count": null,
   "metadata": {},
   "outputs": [],
   "source": [
    "x"
   ]
  },
  {
   "cell_type": "code",
   "execution_count": null,
   "metadata": {
    "collapsed": true
   },
   "outputs": [],
   "source": [
    "#Insertion\n",
    "def insertion_sort(a):\n",
    "    for i in range(1, len(a)):\n",
    "        k = i\n",
    "        for j in range(i-1,-1,-1):\n",
    "            if a[j] > a[k]:\n",
    "                a[k], a[j] = a[j], a[k]\n",
    "                k -= 1"
   ]
  },
  {
   "cell_type": "code",
   "execution_count": null,
   "metadata": {},
   "outputs": [],
   "source": [
    "x = [2,1,-5]\n",
    "'''\n",
    "[1,2,-5]\n",
    "\n",
    "[1,-5,2]\n",
    "[1,-5,2]\n",
    "\n",
    "'''"
   ]
  },
  {
   "cell_type": "code",
   "execution_count": null,
   "metadata": {
    "collapsed": true
   },
   "outputs": [],
   "source": [
    "insertion_sort(x)"
   ]
  },
  {
   "cell_type": "code",
   "execution_count": null,
   "metadata": {},
   "outputs": [],
   "source": [
    "x"
   ]
  },
  {
   "cell_type": "code",
   "execution_count": null,
   "metadata": {
    "collapsed": true
   },
   "outputs": [],
   "source": []
  },
  {
   "cell_type": "code",
   "execution_count": null,
   "metadata": {
    "collapsed": true
   },
   "outputs": [],
   "source": [
    "#Merge"
   ]
  },
  {
   "cell_type": "code",
   "execution_count": null,
   "metadata": {
    "collapsed": true
   },
   "outputs": [],
   "source": [
    "l =[1,2,3]"
   ]
  },
  {
   "cell_type": "code",
   "execution_count": null,
   "metadata": {
    "collapsed": true
   },
   "outputs": [],
   "source": [
    "g =[]"
   ]
  },
  {
   "cell_type": "code",
   "execution_count": null,
   "metadata": {
    "collapsed": true
   },
   "outputs": [],
   "source": [
    "eq = None"
   ]
  },
  {
   "cell_type": "code",
   "execution_count": null,
   "metadata": {},
   "outputs": [],
   "source": [
    "print(l+g+eq)"
   ]
  },
  {
   "cell_type": "code",
   "execution_count": null,
   "metadata": {
    "collapsed": true
   },
   "outputs": [],
   "source": [
    "a = [x for i in range(0)]"
   ]
  },
  {
   "cell_type": "code",
   "execution_count": null,
   "metadata": {},
   "outputs": [],
   "source": [
    "a+[1]"
   ]
  },
  {
   "cell_type": "code",
   "execution_count": null,
   "metadata": {
    "collapsed": true
   },
   "outputs": [],
   "source": []
  },
  {
   "cell_type": "code",
   "execution_count": null,
   "metadata": {},
   "outputs": [],
   "source": [
    "s, cnt, res = 'abbbbccd|', 0, ''\n",
    "for i in range(len(s)-1):\n",
    "    if s[i] != s[i+1]:\n",
    "        if cnt+1 == 1:\n",
    "            res += s[i]\n",
    "        else:\n",
    "            res += s[i] + str(cnt+1)\n",
    "        cnt = 0\n",
    "    else: \n",
    "        cnt += 1\n",
    "    \n",
    "print(res)"
   ]
  },
  {
   "cell_type": "code",
   "execution_count": null,
   "metadata": {
    "collapsed": true
   },
   "outputs": [],
   "source": []
  },
  {
   "cell_type": "code",
   "execution_count": null,
   "metadata": {
    "collapsed": true
   },
   "outputs": [],
   "source": [
    "# def is_prime(num): # need to fix\n",
    "#     return all(num % i for i in range(2, num))"
   ]
  },
  {
   "cell_type": "code",
   "execution_count": null,
   "metadata": {
    "collapsed": true
   },
   "outputs": [],
   "source": [
    "def is_prime(num):\n",
    "    if num > 1:\n",
    "        for i in range(2,num):\n",
    "            if (num % i) == 0:\n",
    "                return False\n",
    "        else:\n",
    "            return True\n",
    "    else:\n",
    "        return False"
   ]
  },
  {
   "cell_type": "code",
   "execution_count": null,
   "metadata": {},
   "outputs": [],
   "source": [
    "is_prime(0)"
   ]
  },
  {
   "cell_type": "code",
   "execution_count": null,
   "metadata": {
    "collapsed": true
   },
   "outputs": [],
   "source": [
    "arr = []\n",
    "for i in range(0, 15+1):\n",
    "    if is_prime(i) and is_prime(i+2):\n",
    "        arr.append((i, i+2))"
   ]
  },
  {
   "cell_type": "code",
   "execution_count": null,
   "metadata": {},
   "outputs": [],
   "source": [
    "arr"
   ]
  },
  {
   "cell_type": "code",
   "execution_count": null,
   "metadata": {},
   "outputs": [],
   "source": [
    "q, s, f = [], '(\\)', True\n",
    "for c in s:\n",
    "    if c == '(' and f:\n",
    "        q.insert(0,c)\n",
    "    elif c == ')' and f:\n",
    "        if q:\n",
    "            q.pop()\n",
    "        elif not q:\n",
    "            q.append(')')\n",
    "            break\n",
    "            \n",
    "    if c == '\\\\':\n",
    "        f = False\n",
    "    else:\n",
    "        f = True\n",
    "        \n",
    "if not q:\n",
    "    print('Valid')\n",
    "else:\n",
    "    print('Invalid')"
   ]
  },
  {
   "cell_type": "code",
   "execution_count": null,
   "metadata": {
    "collapsed": true
   },
   "outputs": [],
   "source": [
    "A = [0,1,2,4,6,8]"
   ]
  },
  {
   "cell_type": "code",
   "execution_count": null,
   "metadata": {
    "collapsed": true
   },
   "outputs": [],
   "source": [
    "B = [5,8,9]"
   ]
  },
  {
   "cell_type": "code",
   "execution_count": null,
   "metadata": {
    "collapsed": true
   },
   "outputs": [],
   "source": [
    "# [0,4,5,6,8,8,9]"
   ]
  },
  {
   "cell_type": "code",
   "execution_count": null,
   "metadata": {
    "collapsed": true
   },
   "outputs": [],
   "source": [
    "def merge(left, right):\n",
    "    # some condition checking\n",
    "\n",
    "    i, j = 0, 0\n",
    "    res = []\n",
    "\n",
    "    while len(res) < len(left) + len(right):\n",
    "        if left[i] < right[j]:\n",
    "            res.append(left[i])\n",
    "            i += 1\n",
    "        else:\n",
    "            res.append(right[j])\n",
    "            j += 1\n",
    "        \n",
    "        if i == len(left) or j == len(right):\n",
    "            res.extend(left[i:] or right[j:])\n",
    "            break\n",
    "\n",
    "    return res"
   ]
  },
  {
   "cell_type": "code",
   "execution_count": null,
   "metadata": {
    "collapsed": true
   },
   "outputs": [],
   "source": [
    "merge(A,B)"
   ]
  },
  {
   "cell_type": "code",
   "execution_count": null,
   "metadata": {
    "collapsed": true
   },
   "outputs": [],
   "source": [
    "def minimumSwaps(arr):\n",
    "    c = 0\n",
    "    for k in range(len(arr)):\n",
    "        m = min(arr[k:])\n",
    "        if m < arr[k]:\n",
    "            c += 1\n",
    "            i = arr.index(m)\n",
    "            arr[k], arr[i] = arr[i], arr[k]\n",
    "    return c\n",
    "ar = [3,2,1,5,4]\n",
    "minimumSwaps(ar)"
   ]
  },
  {
   "cell_type": "code",
   "execution_count": null,
   "metadata": {
    "collapsed": true
   },
   "outputs": [],
   "source": [
    "a = [3,2,1]"
   ]
  },
  {
   "cell_type": "code",
   "execution_count": null,
   "metadata": {
    "collapsed": true
   },
   "outputs": [],
   "source": [
    "len(a) - 1"
   ]
  },
  {
   "cell_type": "code",
   "execution_count": null,
   "metadata": {
    "collapsed": true
   },
   "outputs": [],
   "source": [
    "a[0]"
   ]
  },
  {
   "cell_type": "code",
   "execution_count": null,
   "metadata": {
    "collapsed": true
   },
   "outputs": [],
   "source": []
  },
  {
   "cell_type": "code",
   "execution_count": null,
   "metadata": {
    "collapsed": true
   },
   "outputs": [],
   "source": [
    "def minimumSwaps(arr):\n",
    "    x = 0\n",
    "    for k in range(len(arr)):\n",
    "        mi = k\n",
    "        for j in range(k + 1, len(arr)):\n",
    "            if arr[mi] > arr[j]:\n",
    "                mi = j\n",
    "                \n",
    "        arr[k], arr[mi] = arr[mi], arr[k]\n",
    "        print('mi changed',arr,mi,k)\n",
    "        x = x + 1 if mi != k else x\n",
    "        \n",
    "    return x\n",
    "\n",
    "z = [4, 3, 1, 2]\n",
    "minimumSwaps(z)"
   ]
  },
  {
   "cell_type": "code",
   "execution_count": null,
   "metadata": {
    "collapsed": true
   },
   "outputs": [],
   "source": []
  },
  {
   "cell_type": "code",
   "execution_count": null,
   "metadata": {
    "collapsed": true
   },
   "outputs": [],
   "source": [
    "[1, 3, 5, 2, 4, 6, 8]"
   ]
  },
  {
   "cell_type": "code",
   "execution_count": null,
   "metadata": {
    "collapsed": true
   },
   "outputs": [],
   "source": [
    "[7, 1, 3, 2, 4, 5, 6]\n",
    "[1, 2, 3, 4, 5, 6, 7]\n",
    "\n",
    "# 1. Sort list (or len(arr) and generate list comprehension)\n",
    "# 2. Go through every element of both arrays (sorted and not sorted) O(n) \n",
    "# 3. swap: \n",
    "# idx = arr2.index(arr[i0])\n",
    "# arr[i0], arr[idx] = arr[idx], arr[i0]\n",
    "[2, 3, 4, 1, 5]\n",
    "[1, 2, 3, 4, 5]\n",
    "\n",
    "[3, 2, 4, 1, 5]\n",
    "[3, 2, 4, 1, 5]\n",
    "[3, 2, 1, 4, 5]\n",
    "[3, 2, 1, 4, 5]\n",
    "\n",
    "\n",
    "[6, 1, 3, 2, 4, 5, 7]\n",
    "[1, 6, 3, 2, 4, 5, 7]\n",
    "[1, 2, 3, 6, 4, 5, 7]\n",
    "[1, 2, 3, 4, 6, 5, 7]\n",
    "[1, 2, 3, 4, 5, 6, 7]"
   ]
  },
  {
   "cell_type": "code",
   "execution_count": null,
   "metadata": {
    "collapsed": true
   },
   "outputs": [],
   "source": [
    "def minimumSwaps(arr):\n",
    "    arr2 = [i + 1 for i in range(len(arr))]\n",
    "    for i in range(len(arr)):\n",
    "        idx = arr2.index(arr[i])\n",
    "        print(arr,i,idx,arr2,arr[i],arr[idx])\n",
    "        arr[i], arr[idx] = arr[idx], arr[i]\n",
    "            \n",
    "        \n",
    "    return arr\n",
    "\n",
    "z = [2, 3, 4, 1, 5]\n",
    "minimumSwaps(z)"
   ]
  },
  {
   "cell_type": "code",
   "execution_count": null,
   "metadata": {
    "collapsed": true
   },
   "outputs": [],
   "source": []
  },
  {
   "cell_type": "code",
   "execution_count": null,
   "metadata": {
    "collapsed": true
   },
   "outputs": [],
   "source": [
    "def minimumSwaps(arr):\n",
    "    j = 0\n",
    "    x = 0\n",
    "    arr2 = [i + 1 for i in range(len(arr))]\n",
    "    for i in arr2:\n",
    "        idx = arr.index(i) # find index of inserted element in arr\n",
    "        eras = arr[j]\n",
    "        if i != arr[j]:\n",
    "            arr[j] = i # insert element into unsorted arr\n",
    "            arr[idx] = eras # insert erased value into that arr index\n",
    "            x += 1\n",
    "        j += 1\n",
    "        print('after', idx, eras, arr, arr2)\n",
    "    return arr, x\n",
    "\n",
    "z = [7, 1, 3, 2, 4, 5, 6]\n",
    "minimumSwaps(z)"
   ]
  },
  {
   "cell_type": "code",
   "execution_count": null,
   "metadata": {
    "collapsed": true
   },
   "outputs": [],
   "source": []
  },
  {
   "cell_type": "code",
   "execution_count": null,
   "metadata": {
    "collapsed": true
   },
   "outputs": [],
   "source": [
    "# 1. loop through sorted arr2 and insert element into unsorted arr\n",
    "# 2. find index of inserted element in arr\n",
    "# 3. insert erased value into that arr index\n",
    "[1, 7, 3, 2, 4, 5, 6]\n",
    "[1, 2, 3, 7, 4, 5, 6]\n",
    "[1, 2, 3, 4, 7, 5, 6]\n",
    "[1, 2, 3, 4, 5, 7, 6]\n",
    "[1, 2, 3, 4, 5, 6, 7]\n",
    "\n",
    "[1, 3, 4, 2, 5]\n",
    "[1, 2, 4, 3, 5]\n",
    "[1, 2, 3, 4, 5]"
   ]
  },
  {
   "cell_type": "code",
   "execution_count": null,
   "metadata": {
    "collapsed": true
   },
   "outputs": [],
   "source": []
  },
  {
   "cell_type": "code",
   "execution_count": null,
   "metadata": {
    "collapsed": true
   },
   "outputs": [],
   "source": [
    "[1, 3, 5, 2, 4, 6, 8] # not consecutive"
   ]
  },
  {
   "cell_type": "code",
   "execution_count": null,
   "metadata": {
    "collapsed": true
   },
   "outputs": [],
   "source": [
    "[2, 3, 4, 1, 5]"
   ]
  },
  {
   "cell_type": "code",
   "execution_count": null,
   "metadata": {
    "collapsed": true
   },
   "outputs": [],
   "source": [
    "[4, 3, 1, 2]"
   ]
  },
  {
   "cell_type": "code",
   "execution_count": null,
   "metadata": {
    "collapsed": true
   },
   "outputs": [],
   "source": []
  },
  {
   "cell_type": "code",
   "execution_count": null,
   "metadata": {
    "collapsed": true
   },
   "outputs": [],
   "source": [
    "def arrayManipulation(n, m, queries):\n",
    "    mx = max([k[1] for k in queries])\n",
    "    arr = [0] * mx\n",
    "    for q in queries:\n",
    "        r = range(q[0]-1,q[1])\n",
    "        for i in r:\n",
    "            arr[i] += q[2]\n",
    "    return max(arr)"
   ]
  },
  {
   "cell_type": "code",
   "execution_count": null,
   "metadata": {
    "collapsed": true
   },
   "outputs": [],
   "source": [
    "40 30\n",
    "29 40 787\n",
    "9 26 219\n",
    "21 31 214\n",
    "8 22 719\n",
    "15 23 102\n",
    "11 24 83\n",
    "14 22 321\n",
    "5 22 300\n",
    "11 30 832\n",
    "5 25 29\n",
    "16 24 577\n",
    "3 10 905\n",
    "15 22 335\n",
    "29 35 254\n",
    "9 20 20\n",
    "33 34 351\n",
    "30 38 564\n",
    "11 31 969\n",
    "3 32 11\n",
    "29 35 267\n",
    "4 24 531\n",
    "1 38 892\n",
    "12 18 825\n",
    "25 32 99\n",
    "3 39 107\n",
    "12 37 131\n",
    "3 26 640\n",
    "8 39 483\n",
    "8 11 194\n",
    "12 37 502"
   ]
  },
  {
   "cell_type": "code",
   "execution_count": null,
   "metadata": {
    "collapsed": true
   },
   "outputs": [],
   "source": []
  },
  {
   "cell_type": "code",
   "execution_count": null,
   "metadata": {
    "collapsed": true
   },
   "outputs": [],
   "source": [
    "a = 59"
   ]
  },
  {
   "cell_type": "code",
   "execution_count": null,
   "metadata": {
    "collapsed": true
   },
   "outputs": [],
   "source": [
    "a"
   ]
  },
  {
   "cell_type": "code",
   "execution_count": null,
   "metadata": {
    "collapsed": true
   },
   "outputs": [],
   "source": [
    "c = a+3/10**3"
   ]
  },
  {
   "cell_type": "code",
   "execution_count": null,
   "metadata": {
    "collapsed": true
   },
   "outputs": [],
   "source": [
    "c"
   ]
  },
  {
   "cell_type": "code",
   "execution_count": null,
   "metadata": {
    "collapsed": true
   },
   "outputs": [],
   "source": [
    "d = a+5/10**3"
   ]
  },
  {
   "cell_type": "code",
   "execution_count": null,
   "metadata": {
    "collapsed": true
   },
   "outputs": [],
   "source": [
    "d"
   ]
  },
  {
   "cell_type": "code",
   "execution_count": null,
   "metadata": {
    "collapsed": true
   },
   "outputs": [],
   "source": [
    "[c, d]"
   ]
  },
  {
   "cell_type": "code",
   "execution_count": null,
   "metadata": {
    "collapsed": true
   },
   "outputs": [],
   "source": []
  },
  {
   "cell_type": "code",
   "execution_count": null,
   "metadata": {
    "collapsed": true
   },
   "outputs": [],
   "source": [
    "def maximumToys(p, k, n):\n",
    "    s=0\n",
    "    c=0\n",
    "    for i in range(n-1):\n",
    "        mi=i\n",
    "        for j in range(i+1,n):\n",
    "            if p[mi]>p[j]:\n",
    "                mi=j\n",
    "        \n",
    "        p[i],p[mi]=p[mi],p[i]\n",
    "        s+=p[i]\n",
    "        c+=1\n",
    "        print(s,c,k)\n",
    "        if s <= k:\n",
    "            print('hhh',s,c,k)\n",
    "            \n",
    "    return c, p"
   ]
  },
  {
   "cell_type": "code",
   "execution_count": null,
   "metadata": {
    "collapsed": true
   },
   "outputs": [],
   "source": [
    "maximumToys([1,12,5,111,200,1000,10],50,7)"
   ]
  },
  {
   "cell_type": "code",
   "execution_count": null,
   "metadata": {
    "collapsed": true
   },
   "outputs": [],
   "source": [
    "def maximumToys(prices, k):\n",
    "    prices = sorted(prices)\n",
    "    maxPrice = 0\n",
    "    count = 0\n",
    "    while (maxPrice <= k):\n",
    "        maxPrice += prices.pop(0)\n",
    "        count +=1\n",
    "    return count-1"
   ]
  },
  {
   "cell_type": "code",
   "execution_count": null,
   "metadata": {
    "collapsed": true
   },
   "outputs": [],
   "source": [
    "def maximumToys(p, k, n):\n",
    "    s,c=0,0\n",
    "    for i in range(n-1):\n",
    "        mi=i\n",
    "        for j in range(i+1,n):\n",
    "            if p[mi]>p[j]:\n",
    "                mi=j\n",
    "        \n",
    "        p[i],p[mi]=p[mi],p[i]\n",
    "        s+=p[i]\n",
    "        \n",
    "        if s>=k: break\n",
    "        else: c+=1\n",
    "\n",
    "    return c"
   ]
  },
  {
   "cell_type": "code",
   "execution_count": null,
   "metadata": {
    "collapsed": true
   },
   "outputs": [],
   "source": []
  },
  {
   "cell_type": "code",
   "execution_count": null,
   "metadata": {
    "collapsed": true,
    "scrolled": true
   },
   "outputs": [],
   "source": [
    "N,K = map(int, input().strip().split())\n",
    "assert 1 <= N <= 10**5 and 1 <= K <= 10**9\n",
    "lis = map(int, input().strip().split())\n",
    "for toy in lis:\n",
    "    assert 1 <= toy <= 10**5\n",
    "    print(toy)\n",
    "    \n",
    "lis.sort()\n",
    "    \n",
    "count = 0\n",
    "for i in range(N-1):\n",
    "    K -= lis[i]\n",
    "    if K < 0:\n",
    "        print(count)\n",
    "        exit(0)\n",
    "    else:\n",
    "        count += 1\n",
    "    \n",
    "print(count)"
   ]
  },
  {
   "cell_type": "code",
   "execution_count": null,
   "metadata": {
    "collapsed": true
   },
   "outputs": [],
   "source": [
    "d = 11"
   ]
  },
  {
   "cell_type": "code",
   "execution_count": null,
   "metadata": {
    "collapsed": true
   },
   "outputs": [],
   "source": [
    "d // 2 % 2"
   ]
  },
  {
   "cell_type": "code",
   "execution_count": null,
   "metadata": {
    "collapsed": true
   },
   "outputs": [],
   "source": [
    "a = [1,2,0]"
   ]
  },
  {
   "cell_type": "code",
   "execution_count": null,
   "metadata": {
    "collapsed": true
   },
   "outputs": [],
   "source": [
    "a.insert(1,7)"
   ]
  },
  {
   "cell_type": "code",
   "execution_count": null,
   "metadata": {
    "collapsed": true
   },
   "outputs": [],
   "source": [
    "a"
   ]
  },
  {
   "cell_type": "code",
   "execution_count": null,
   "metadata": {
    "collapsed": true
   },
   "outputs": [],
   "source": [
    "#!/bin/python3\n",
    "\n",
    "import math\n",
    "import os\n",
    "import random\n",
    "import re\n",
    "import sys\n",
    "from statistics import median\n",
    "\n",
    "\n",
    "# Complete the activityNotifications function below.\n",
    "def activityNotifications(expenditure, d, n):\n",
    "    nf = 0\n",
    "    m = 0\n",
    "    #[2, 3, 4, 2, 3, 6, 8, 4, 5] 9 5\n",
    "    #[6, 8, 4, 5] a\n",
    "    #[2, 3, 4, 2, 3] q\n",
    "    \n",
    "    #1 2 3 4 4     5 4\n",
    "    a = expenditure[d:]\n",
    "    q = sorted(expenditure[:d])\n",
    "    m = median(q)\n",
    "    \n",
    "    for i in range(n-d):\n",
    "        if a[i] >= 2*m:\n",
    "            nf += 1\n",
    "        \n",
    "        for j in range(d):\n",
    "            if a[i] < q[j]:\n",
    "                q.insert(j, a[i])\n",
    "                q.pop(0)\n",
    "                break\n",
    "                \n",
    "        if d % 2 == 0:\n",
    "            m = sum(q[d//2-1:d//2+1]) / 2\n",
    "        else:\n",
    "            m = q[d//2]\n",
    "        \n",
    "        # q = sorted(expenditure[i:i+d])\n",
    "        # if d % 2 == 0:\n",
    "            # m = sum(q[d//2-1:d//2+1]) / 2\n",
    "            # m = statistics.median(q)\n",
    "        # else:\n",
    "            # m = q[d//2]\n",
    "            \n",
    "        # print('q:{} a:{} a[i]:{} m:{} i:{} nf:{}'.format(q,a,a[i],m,i,nf))\n",
    "        \n",
    "    return nf\n",
    "        \n",
    "if __name__ == '__main__':\n",
    "    fptr = open(os.environ['OUTPUT_PATH'], 'w')\n",
    "\n",
    "    nd = input().split()\n",
    "\n",
    "    n = int(nd[0])\n",
    "\n",
    "    d = int(nd[1])\n",
    "\n",
    "    expenditure = list(map(int, input().rstrip().split()))\n",
    "\n",
    "    result = activityNotifications(expenditure, d, n)\n",
    "\n",
    "    fptr.write(str(result) + '\\n')\n",
    "\n",
    "    fptr.close()\n"
   ]
  },
  {
   "cell_type": "code",
   "execution_count": null,
   "metadata": {
    "collapsed": true
   },
   "outputs": [],
   "source": [
    "def activityNotifications(expenditure, n, d):\n",
    "    nf, m, j = 0, 0, 0\n",
    "    m = median(expenditure[:d])\n",
    "    \n",
    "    for i in range(d, n):\n",
    "        if expenditure[i] >= 2*m:\n",
    "            nf += 1\n",
    "        j += 1\n",
    "        m = median(expenditure[j:i+1])\n",
    "    \n",
    "    return nf\n",
    "        "
   ]
  },
  {
   "cell_type": "code",
   "execution_count": null,
   "metadata": {
    "collapsed": true
   },
   "outputs": [],
   "source": [
    "    a = expenditure[d:]\n",
    "    q = sorted(expenditure[:d])\n",
    "    m = median(q)\n",
    "    \n",
    "    for i in range(n-d):\n",
    "        if a[i] >= 2*m:\n",
    "            nf += 1\n",
    "        \n",
    "        for j in range(d):\n",
    "            if a[i] < q[j]:\n",
    "                q.insert(j, a[i])\n",
    "                q.pop(0)\n",
    "                break\n",
    "                \n",
    "        if d % 2 == 0:\n",
    "            m = sum(q[d//2-1:d//2+1]) / 2\n",
    "        else:\n",
    "            m = q[d//2]\n",
    "        \n",
    "        # q = sorted(expenditure[i:i+d])\n",
    "        # if d % 2 == 0:\n",
    "            # m = sum(q[d//2-1:d//2+1]) / 2\n",
    "            # m = statistics.median(q)\n",
    "        # else:\n",
    "            # m = q[d//2]\n",
    "            \n",
    "        # print('q:{} a:{} a[i]:{} m:{} i:{} nf:{}'.format(q,a,a[i],m,i,nf))\n",
    "        \n",
    "    return nf"
   ]
  },
  {
   "cell_type": "code",
   "execution_count": null,
   "metadata": {
    "collapsed": true
   },
   "outputs": [],
   "source": []
  },
  {
   "cell_type": "code",
   "execution_count": null,
   "metadata": {
    "collapsed": true
   },
   "outputs": [],
   "source": []
  },
  {
   "cell_type": "code",
   "execution_count": null,
   "metadata": {
    "collapsed": true
   },
   "outputs": [],
   "source": [
    "def counting_sort(arr):\n",
    "    ar = [0] * 200 # should be 201\n",
    "    for e in arr:\n",
    "        ar[e] += 1\n",
    "    i = 0\n",
    "    for a in range(200):\n",
    "        for c in range(ar[a]):\n",
    "            arr[i] = a\n",
    "            i += 1\n",
    "    return arr"
   ]
  },
  {
   "cell_type": "code",
   "execution_count": null,
   "metadata": {},
   "outputs": [],
   "source": [
    "counting_sort([2,2,1,1,3,0,199,0])"
   ]
  },
  {
   "cell_type": "code",
   "execution_count": null,
   "metadata": {
    "collapsed": true
   },
   "outputs": [],
   "source": [
    "#[2, 3, 4, 2, 3, 6, 8, 4, 5] 9 5\n",
    "#[0, 0, 2, 2, 2, 1, 1, 0, 1]\n",
    "#[2, 2, 3, 3, 4, 6, 8, 4, 5]"
   ]
  },
  {
   "cell_type": "code",
   "execution_count": null,
   "metadata": {
    "collapsed": true
   },
   "outputs": [],
   "source": [
    "def activityNotifications(expenditure, n, d):\n",
    "    nf, m = 0, 0\n",
    "    \n",
    "    ar = counting_sort(expenditure[:d])\n",
    "\n",
    "    if d % 2 == 0:\n",
    "        m = sum(ar[d//2-1:d//2+1]) / 2\n",
    "    else:\n",
    "        m = ar[d//2]\n",
    "    \n",
    "    for j in range(d, n):\n",
    "        if expenditure[j] >= 2*m:\n",
    "            nf += 1\n",
    "            \n",
    "    print(expenditure, ar, nf)\n",
    "    return nf"
   ]
  },
  {
   "cell_type": "code",
   "execution_count": null,
   "metadata": {
    "collapsed": true
   },
   "outputs": [],
   "source": [
    "a, n, d = [2, 3, 4, 2, 3, 6, 8, 4, 5], 9, 5"
   ]
  },
  {
   "cell_type": "code",
   "execution_count": null,
   "metadata": {
    "collapsed": true
   },
   "outputs": [],
   "source": [
    "activityNotifications(a, n, d)"
   ]
  },
  {
   "cell_type": "code",
   "execution_count": null,
   "metadata": {
    "collapsed": true
   },
   "outputs": [],
   "source": [
    "def activityNotifications(expenditure, n, d):\n",
    "    nf, m = 0, 0\n",
    "    a = expenditure[d:]\n",
    "    q = counting_sort(expenditure[:d])\n",
    "\n",
    "    if d % 2 == 0:\n",
    "        m = sum(q[d//2-1:d//2+1]) / 2\n",
    "    else:\n",
    "        m = q[d//2]\n",
    "    \n",
    "    for i in range(n-d):\n",
    "        if a[i] >= 2*m:\n",
    "            nf += 1\n",
    "        \n",
    "        for j in range(d):\n",
    "            if a[i] < q[j]:\n",
    "                q.insert(j, a[i])\n",
    "                q.pop(0)\n",
    "                break\n",
    "        \n",
    "        if d % 2 == 0:\n",
    "            m = sum(q[d//2-1:d//2+1]) / 2\n",
    "        else:\n",
    "            m = q[d//2]\n",
    "            \n",
    "    return nf"
   ]
  },
  {
   "cell_type": "code",
   "execution_count": null,
   "metadata": {
    "collapsed": true
   },
   "outputs": [],
   "source": [
    "a, n, d = [2, 3, 4, 2, 3, 6, 8, 4, 5], 9, 5"
   ]
  },
  {
   "cell_type": "code",
   "execution_count": null,
   "metadata": {
    "collapsed": true
   },
   "outputs": [],
   "source": [
    "activityNotifications(a, n, d)"
   ]
  },
  {
   "cell_type": "code",
   "execution_count": null,
   "metadata": {
    "collapsed": true
   },
   "outputs": [],
   "source": [
    "def counting_sort(arr):\n",
    "    ar = [0] * 200\n",
    "    for e in arr:\n",
    "        ar[e] += 1\n",
    "    i = 0\n",
    "    for a in range(200):\n",
    "        for c in range(ar[a]):\n",
    "            arr[i] = a\n",
    "            i += 1\n",
    "    return arr"
   ]
  },
  {
   "cell_type": "code",
   "execution_count": null,
   "metadata": {
    "collapsed": true
   },
   "outputs": [],
   "source": []
  },
  {
   "cell_type": "code",
   "execution_count": null,
   "metadata": {
    "collapsed": true
   },
   "outputs": [],
   "source": []
  },
  {
   "cell_type": "code",
   "execution_count": null,
   "metadata": {
    "collapsed": true
   },
   "outputs": [],
   "source": []
  },
  {
   "cell_type": "code",
   "execution_count": null,
   "metadata": {
    "collapsed": true
   },
   "outputs": [],
   "source": []
  },
  {
   "cell_type": "code",
   "execution_count": null,
   "metadata": {
    "collapsed": true
   },
   "outputs": [],
   "source": [
    "def med(arz, d):\n",
    "    i, p = 0, 0\n",
    "    for a in range(200):\n",
    "        for c in range(arz[a]):\n",
    "            if i == d//2 and d%2!=0:\n",
    "                return a\n",
    "            elif i == d//2 and d%2==0:\n",
    "                return (a+p)/2\n",
    "            i += 1\n",
    "            p = a"
   ]
  },
  {
   "cell_type": "code",
   "execution_count": null,
   "metadata": {
    "collapsed": true
   },
   "outputs": [],
   "source": [
    "def med(arz, d):\n",
    "    if d%2!=0:\n",
    "        d = -(-d // 2)\n",
    "        for i in range(len(arz)):\n",
    "            d = d - arz[i]\n",
    "            if d <= 0: return i\n",
    "    elif d%2==0:\n",
    "        d = -(-d // 2)\n",
    "        m1 = d\n",
    "        m2 = d + 1\n",
    "        print(m1)\n",
    "        for i in range(len(arz)):\n",
    "            m1 = m1 - arz[i]\n",
    "            if m1 <= 0: \n",
    "                m1 = i\n",
    "                break\n",
    "        print(m2)\n",
    "        for i in range(len(arz)):\n",
    "            m2 = m2 - arz[i]\n",
    "            if m2 <= 0:\n",
    "                m2 = i\n",
    "                break\n",
    "                \n",
    "        return (m1+m2)/2"
   ]
  },
  {
   "cell_type": "code",
   "execution_count": null,
   "metadata": {},
   "outputs": [],
   "source": [
    "med([0,3,2,1,1,1],9)"
   ]
  },
  {
   "cell_type": "code",
   "execution_count": null,
   "metadata": {
    "collapsed": true
   },
   "outputs": [],
   "source": [
    "def activityNotifications(arr, n, d):\n",
    "    nf, m = 0, 0\n",
    "    \n",
    "    a = [0] * 200\n",
    "    for e in arr:\n",
    "        a[e] += 1\n",
    "    \n",
    "    b = arr[d:]\n",
    "    c = arr[:-d]\n",
    "    bc = zip(b,c)\n",
    "    \n",
    "    for i,j in bc:\n",
    "        m = med(a,d)\n",
    "        a[i] += 1\n",
    "        a[j] -= 1\n",
    "        if i >= 2*m:\n",
    "            nf += 1\n",
    "    return nf"
   ]
  },
  {
   "cell_type": "code",
   "execution_count": null,
   "metadata": {
    "collapsed": true
   },
   "outputs": [],
   "source": [
    "a, n, d = [2, 3, 4, 2, 3, 6, 8, 4, 5, 0, 7], 11, 5"
   ]
  },
  {
   "cell_type": "code",
   "execution_count": null,
   "metadata": {},
   "outputs": [],
   "source": [
    "activityNotifications(a,n,d)"
   ]
  },
  {
   "cell_type": "code",
   "execution_count": null,
   "metadata": {},
   "outputs": [],
   "source": [
    "#[4,4,1,2,1,2,0,3,5] -> [1,2,2,1,2,1] -> [0,1,1,2,2,3,4,4,5]\n",
    "med([1,2,2,1,2,1], 1)"
   ]
  },
  {
   "cell_type": "code",
   "execution_count": null,
   "metadata": {
    "collapsed": true
   },
   "outputs": [],
   "source": []
  }
 ],
 "metadata": {
  "kernelspec": {
   "display_name": "Python [conda env:scr]",
   "language": "python",
   "name": "conda-env-scr-py"
  },
  "language_info": {
   "codemirror_mode": {
    "name": "ipython",
    "version": 3
   },
   "file_extension": ".py",
   "mimetype": "text/x-python",
   "name": "python",
   "nbconvert_exporter": "python",
   "pygments_lexer": "ipython3",
   "version": "3.6.2"
  }
 },
 "nbformat": 4,
 "nbformat_minor": 2
}
