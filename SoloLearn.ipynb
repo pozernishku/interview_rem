{
 "cells": [
  {
   "cell_type": "markdown",
   "metadata": {},
   "source": [
    "Task is here:\n",
    "https://drive.google.com/file/d/1Bxeey-VbQ6PT4eWazS5Xbu7fteoHTK31/view?usp=drivesdk"
   ]
  },
  {
   "cell_type": "code",
   "execution_count": null,
   "metadata": {},
   "outputs": [],
   "source": [
    "\"\"\"\n",
    "Simple task on Friedman topic.\n",
    "- Split\n",
    "- Parenthesis\n",
    "\"\"\""
   ]
  },
  {
   "cell_type": "code",
   "execution_count": null,
   "metadata": {},
   "outputs": [],
   "source": [
    "s = '123456' # A057145"
   ]
  },
  {
   "cell_type": "code",
   "execution_count": null,
   "metadata": {},
   "outputs": [],
   "source": [
    "s_list = list(s)"
   ]
  },
  {
   "cell_type": "code",
   "execution_count": null,
   "metadata": {},
   "outputs": [],
   "source": [
    "l = len(s)"
   ]
  },
  {
   "cell_type": "code",
   "execution_count": null,
   "metadata": {},
   "outputs": [],
   "source": [
    "max_spaces = l - 1"
   ]
  },
  {
   "cell_type": "code",
   "execution_count": null,
   "metadata": {},
   "outputs": [],
   "source": [
    "max_iters = max_spaces * max_spaces - 2 + 1"
   ]
  },
  {
   "cell_type": "code",
   "execution_count": null,
   "metadata": {},
   "outputs": [],
   "source": [
    "max_len = l + l - 1"
   ]
  },
  {
   "cell_type": "code",
   "execution_count": null,
   "metadata": {},
   "outputs": [],
   "source": [
    "pool = []"
   ]
  },
  {
   "cell_type": "code",
   "execution_count": null,
   "metadata": {},
   "outputs": [],
   "source": [
    "max_spaces, max_iters, max_len"
   ]
  },
  {
   "cell_type": "code",
   "execution_count": null,
   "metadata": {},
   "outputs": [],
   "source": [
    "seq = [1, 1, 2, 1, 3, 3, 1, 4, 6, 4, 1, 5, 10, 10, 5]"
   ]
  },
  {
   "cell_type": "code",
   "execution_count": null,
   "metadata": {},
   "outputs": [],
   "source": [
    "for sp_cnt in range(max_spaces, 0, -1):\n",
    "    print(sp_cnt)"
   ]
  },
  {
   "cell_type": "code",
   "execution_count": null,
   "metadata": {},
   "outputs": [],
   "source": [
    "\"\"\"\n",
    "A074909    \t1, 1, 2, 1, 3, 3, 1, 4, 6, 4, 1, 5, 10, 10, 5\n",
    "\n",
    "1 2\n",
    "\n",
    "12 3\n",
    "1 23\n",
    "1 2 3\n",
    "\n",
    "1 234\n",
    "12 34\n",
    "123 4\n",
    "\n",
    "1 23 4\n",
    "12 3 4\n",
    "1 2 34\n",
    "\n",
    "1 2 3 4\n",
    "\n",
    "1 2345\n",
    "12 345\n",
    "123 45\n",
    "1234 5\n",
    "\n",
    "1 2 345\n",
    "1 234 5\n",
    "123 4 5\n",
    "1 2 345\n",
    "12 34 5\n",
    "12 3 45\n",
    "\n",
    "1 2 34 5\n",
    "12 3 4 5\n",
    "1 2 3 45\n",
    "1 23 4 5\n",
    "\n",
    "1 2 3 4 5\n",
    "\n",
    "1 23456\n",
    "12 3456\n",
    "123 456\n",
    "1234 56\n",
    "12345 6\n",
    "\n",
    "1 2 3456\n",
    "12 3 456\n",
    "123 4 56\n",
    "1234 5 6\n",
    "12 345 6\n",
    "1 23 456\n",
    "1 234 56\n",
    "1 2345 6\n",
    "12 34 56\n",
    "123 45 6\n",
    "\n",
    "1 2 3 456\n",
    "1 2 345 6\n",
    "1 234 5 6\n",
    "123 4 5 6\n",
    "1 23 45 6\n",
    "1 23 4 56\n",
    "12 3 4 56\n",
    "12 3 45 6\n",
    "12 34 5 6\n",
    "1 2 34 56\n",
    "\n",
    "1 2 3 4 56\n",
    "1 2 3 45 6\n",
    "1 2 34 5 6\n",
    "1 23 4 5 6\n",
    "12 3 4 5 6\n",
    "\n",
    "1 2 3 4 5 6\n",
    "\n",
    "\n",
    "1 2 3 4 5 6 7\n",
    "\"\"\""
   ]
  },
  {
   "cell_type": "code",
   "execution_count": null,
   "metadata": {},
   "outputs": [],
   "source": [
    "x = '''1 2 3 456\n",
    "1 2 345 6\n",
    "1 234 5 6\n",
    "123 4 5 6\n",
    "1 23 45 6\n",
    "1 23 4 56\n",
    "12 3 4 56\n",
    "12 3 45 6\n",
    "12 34 5 6\n",
    "1 2 34 56'''.split('\\n')"
   ]
  },
  {
   "cell_type": "code",
   "execution_count": null,
   "metadata": {},
   "outputs": [],
   "source": [
    "x"
   ]
  },
  {
   "cell_type": "code",
   "execution_count": null,
   "metadata": {},
   "outputs": [],
   "source": [
    "len(x)"
   ]
  },
  {
   "cell_type": "code",
   "execution_count": null,
   "metadata": {},
   "outputs": [],
   "source": []
  },
  {
   "cell_type": "code",
   "execution_count": null,
   "metadata": {},
   "outputs": [],
   "source": []
  },
  {
   "cell_type": "code",
   "execution_count": null,
   "metadata": {},
   "outputs": [],
   "source": []
  },
  {
   "cell_type": "code",
   "execution_count": null,
   "metadata": {},
   "outputs": [],
   "source": []
  },
  {
   "cell_type": "code",
   "execution_count": null,
   "metadata": {},
   "outputs": [],
   "source": [
    "\"\"\"\n",
    "1 2 3\n",
    "1 23 \n",
    "12 3\n",
    "(1 2) 3\n",
    "1 (2 3)\n",
    "--------\n",
    "1 234     !\n",
    "12 34     !\n",
    "123 4     !\n",
    "\n",
    "1 23 4    !\n",
    "(1 23) 4\n",
    "1 (23 4)\n",
    "12 3 4    !\n",
    "(12 3) 4\n",
    "12 (3 4)\n",
    "1 2 34    !\n",
    "(1 2) 34\n",
    "1 (2 34)\n",
    "\n",
    "1 2 3 4   !\n",
    "\n",
    "(1 2) 3 4\n",
    "1 (2 3) 4\n",
    "1 2 (3 4)\n",
    "\n",
    "(1 2 3) 4\n",
    "1 (2 3 4)\n",
    "\n",
    "((1 2) 3) 4\n",
    "1 ((2 3) 4)\n",
    "(1 (2 3)) 4\n",
    "1 (2 (3 4))\n",
    "\n",
    "(1 2) (3 4)\n",
    "\n",
    "\"\"\""
   ]
  },
  {
   "cell_type": "code",
   "execution_count": null,
   "metadata": {},
   "outputs": [],
   "source": [
    "def friedman(numb):\n",
    "    pass"
   ]
  },
  {
   "cell_type": "code",
   "execution_count": null,
   "metadata": {},
   "outputs": [],
   "source": [
    "friedman(121)"
   ]
  },
  {
   "cell_type": "code",
   "execution_count": null,
   "metadata": {},
   "outputs": [],
   "source": [
    "-2**(0+0)"
   ]
  },
  {
   "cell_type": "code",
   "execution_count": null,
   "metadata": {},
   "outputs": [],
   "source": [
    "-2**3"
   ]
  },
  {
   "cell_type": "code",
   "execution_count": null,
   "metadata": {},
   "outputs": [],
   "source": [
    "3**-4"
   ]
  },
  {
   "cell_type": "code",
   "execution_count": null,
   "metadata": {},
   "outputs": [],
   "source": [
    "from math import sqrt, pow"
   ]
  },
  {
   "cell_type": "code",
   "execution_count": null,
   "metadata": {},
   "outputs": [],
   "source": [
    "import math"
   ]
  },
  {
   "cell_type": "code",
   "execution_count": null,
   "metadata": {},
   "outputs": [],
   "source": [
    "pow(-3,-4)"
   ]
  },
  {
   "cell_type": "code",
   "execution_count": null,
   "metadata": {},
   "outputs": [],
   "source": []
  },
  {
   "cell_type": "code",
   "execution_count": null,
   "metadata": {},
   "outputs": [],
   "source": []
  },
  {
   "cell_type": "code",
   "execution_count": null,
   "metadata": {},
   "outputs": [],
   "source": [
    "5**(-4) # This is possible.\n",
    "5**-4 # This is the same. This is possible because of implicit conversion to expression with parentheses: 5**-4 == 5**(-4)\n",
    "5**(-5) == 5**-5"
   ]
  },
  {
   "cell_type": "code",
   "execution_count": null,
   "metadata": {},
   "outputs": [],
   "source": [
    "3**9*(3**(-4)+6*2) # 236439     3**9*(3**-4+6*2)    -> round или что-то другое"
   ]
  },
  {
   "cell_type": "code",
   "execution_count": null,
   "metadata": {},
   "outputs": [],
   "source": [
    "-((65-9**7+9)/5) # This -( is possible in a row"
   ]
  },
  {
   "cell_type": "code",
   "execution_count": null,
   "metadata": {},
   "outputs": [],
   "source": [
    "54**(-(6/(4-7+1))) # AND this (-( is possible in a row"
   ]
  },
  {
   "cell_type": "code",
   "execution_count": null,
   "metadata": {},
   "outputs": [],
   "source": [
    "\"\"\"\n",
    "- в начале -12 3\n",
    "- в начале перед скобкой -((65-9**7+9)/5)\n",
    "- \n",
    "round\n",
    "\"\"\""
   ]
  }
 ],
 "metadata": {
  "kernelspec": {
   "display_name": "Python 3",
   "language": "python",
   "name": "python3"
  },
  "language_info": {
   "codemirror_mode": {
    "name": "ipython",
    "version": 3
   },
   "file_extension": ".py",
   "mimetype": "text/x-python",
   "name": "python",
   "nbconvert_exporter": "python",
   "pygments_lexer": "ipython3",
   "version": "3.7.3"
  }
 },
 "nbformat": 4,
 "nbformat_minor": 4
}
